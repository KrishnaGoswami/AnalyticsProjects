{
 "cells": [
  {
   "cell_type": "code",
   "execution_count": 1,
   "metadata": {},
   "outputs": [],
   "source": [
    "#Scrap https://www.instafinancials.com"
   ]
  },
  {
   "cell_type": "code",
   "execution_count": 10,
   "metadata": {},
   "outputs": [],
   "source": [
    "#Importing packages\n",
    "from selenium import webdriver\n",
    "import pandas as pd\n",
    "from bs4 import BeautifulSoup\n",
    "import re\n",
    "import os"
   ]
  },
  {
   "cell_type": "code",
   "execution_count": 3,
   "metadata": {},
   "outputs": [],
   "source": [
    "driver = webdriver.Chrome('C:\\\\chromedriver\\\\chromedriver.exe')"
   ]
  },
  {
   "cell_type": "code",
   "execution_count": 4,
   "metadata": {},
   "outputs": [],
   "source": [
    "url = \"https://www.instafinancials.com/company/buildtuff-constructions-private-limited/U70101DL2011PTC215822\""
   ]
  },
  {
   "cell_type": "code",
   "execution_count": 5,
   "metadata": {},
   "outputs": [],
   "source": [
    "driver.get(url)"
   ]
  },
  {
   "cell_type": "code",
   "execution_count": 6,
   "metadata": {},
   "outputs": [],
   "source": [
    "#XPath for 'Company Overview' is: //*[@id=\"AppCompany_compDescription\"]"
   ]
  },
  {
   "cell_type": "code",
   "execution_count": 7,
   "metadata": {},
   "outputs": [],
   "source": [
    "#get the Company Overview from the xpath\n",
    "companyOverview_element = driver.find_elements_by_xpath('//*[@id=\"AppCompany_compDescription\"]')[0]\n",
    "companyOverview_element = companyOverview_element.text"
   ]
  },
  {
   "cell_type": "code",
   "execution_count": 8,
   "metadata": {},
   "outputs": [
    {
     "data": {
      "text/plain": [
       "\"BUILDTUFF CONSTRUCTIONS PRIVATE LIMITED with CIN U70101DL2011PTC215822, is a 7.11 Years old, PrivateUnListed Indian Non-Government Company, registered at DELHI (Delhi),with a paid up capital of ₹1.00 Lakhs.As per MCA and other Industry classification records, the main line of business is Real Estate Activities\\nThe status of BUILDTUFF CONSTRUCTIONS PRIVATE LIMITED,as on date is Active. Company has filed its Annual Returns and/or Financial Statements upto 31-03-2016 i.e. FY 2015-2016\\nAs on date,2 Directors and 0 Signatories are associated with the company.\\nThere are no directors in this company who are 'Disqualified by ROC u/s 164(2)'.\\nThere are 1 current directors whose 'DIN is deactivated due to non-filing of DIR-3 KYC form' to MCA. For all directors, DIR-3 KYC form filing is mandated my MCA where directors are required to submit personal and KYC information to MCA, along with documentary proofs.\\nAs per MCA records, company is registered at B-1/5; PASCHIM VIHAR NEW DELHI DL 110063 IN\\n* All information mentioned above are dependent on the 'Last Updated date' mentioned above top right corner of [Company] block. To get 'Latest (as on date)' information about this company, kindly use [Update] button.\""
      ]
     },
     "execution_count": 8,
     "metadata": {},
     "output_type": "execute_result"
    }
   ],
   "source": [
    "companyOverview_element"
   ]
  },
  {
   "cell_type": "code",
   "execution_count": 9,
   "metadata": {},
   "outputs": [],
   "source": [
    "#Get table details using beautiful soup"
   ]
  },
  {
   "cell_type": "code",
   "execution_count": 11,
   "metadata": {},
   "outputs": [],
   "source": [
    "#reference is https://medium.freecodecamp.org/better-web-scraping-in-python-with-selenium-beautiful-soup-and-pandas-d6390592e251"
   ]
  },
  {
   "cell_type": "code",
   "execution_count": 14,
   "metadata": {},
   "outputs": [],
   "source": [
    "#Selenium hands the page source to Beautiful Soup\n",
    "soup=BeautifulSoup(driver.page_source, 'html.parser')"
   ]
  },
  {
   "cell_type": "code",
   "execution_count": 54,
   "metadata": {},
   "outputs": [],
   "source": [
    "company_overview_tbl = soup.find('table', id = 'CompanyOverview')"
   ]
  },
  {
   "cell_type": "code",
   "execution_count": 55,
   "metadata": {},
   "outputs": [
    {
     "data": {
      "text/plain": [
       "<table class=\"table table-striped no-margins\" id=\"CompanyOverview\"> <thead></thead><tbody>\n",
       "<tr><td width=\"20%\">Company CIN</td><td width=\"30%\">U70101DL2011PTC215822</td><td width=\"20%\">Paid up Capital</td><td width=\"30%\"><b>₹1.00 Lakhs</b></td></tr>\n",
       "<tr><td>Age (Incorp. Date)</td><td><b>7.11 Years</b> (14-03-2011)</td>\n",
       "<td>Open Charges </td><td id=\"chgtd\"><b>Nil</b></td></tr>\n",
       "<tr><td>Company Status</td><td><b>Active</b></td>\n",
       "<td>Directors</td><td id=\"dirtd\"><b> Current : 2 ( Past : 0)</b></td></tr>\n",
       "<tr><td>Company Type</td><td>UnListed Private</td><td>Signatories </td><td id=\"sigtd\"><b>Nil</b></td></tr>\n",
       "<tr><td>Sub.Category</td><td>Indian Non-Government Company</td>\n",
       "<td>Last AGM Date</td><td>29-09-2016</td></tr>\n",
       "<tr><td>Email ID</td><td>cscdel16@gmail.com</td>\n",
       "<td>Balance Sheet Date</td><td>31-03-2016</td></tr>\n",
       "<tr><td>Company Website</td><td>Not Available</td><td>Profit After Tax</td><td><b>₹₹₹</b></td></tr>\n",
       "<tr rowspan=\"3\"><td>Industry</td><td>Real Estate Activities</td>\n",
       "<td>Address</td><td>B-1/5, Paschim Vihar New Delhi DL 110063 IN</td></tr>\n",
       "</tbody></table>"
      ]
     },
     "execution_count": 55,
     "metadata": {},
     "output_type": "execute_result"
    }
   ],
   "source": [
    "company_overview_tbl"
   ]
  },
  {
   "cell_type": "code",
   "execution_count": 119,
   "metadata": {},
   "outputs": [],
   "source": [
    "#Generate Lists\n",
    "A = []\n",
    "B = []\n",
    "C = []\n",
    "D = []\n",
    "E = []\n",
    "F = []"
   ]
  },
  {
   "cell_type": "code",
   "execution_count": 120,
   "metadata": {},
   "outputs": [
    {
     "name": "stdout",
     "output_type": "stream",
     "text": [
      "[<td width=\"20%\">Company CIN</td>, <td width=\"30%\">U70101DL2011PTC215822</td>, <td width=\"20%\">Paid up Capital</td>, <td width=\"30%\"><b>₹1.00 Lakhs</b></td>]\n",
      "[<td>Age (Incorp. Date)</td>, <td><b>7.11 Years</b> (14-03-2011)</td>, <td>Open Charges </td>, <td id=\"chgtd\"><b>Nil</b></td>]\n",
      "[<td>Company Status</td>, <td><b>Active</b></td>, <td>Directors</td>, <td id=\"dirtd\"><b> Current : 2 ( Past : 0)</b></td>]\n",
      "[<td>Company Type</td>, <td>UnListed Private</td>, <td>Signatories </td>, <td id=\"sigtd\"><b>Nil</b></td>]\n",
      "[<td>Sub.Category</td>, <td>Indian Non-Government Company</td>, <td>Last AGM Date</td>, <td>29-09-2016</td>]\n",
      "[<td>Email ID</td>, <td>cscdel16@gmail.com</td>, <td>Balance Sheet Date</td>, <td>31-03-2016</td>]\n",
      "[<td>Company Website</td>, <td>Not Available</td>, <td>Profit After Tax</td>, <td><b>₹₹₹</b></td>]\n",
      "[<td>Industry</td>, <td>Real Estate Activities</td>, <td>Address</td>, <td>B-1/5, Paschim Vihar New Delhi DL 110063 IN</td>]\n"
     ]
    }
   ],
   "source": [
    "#add the table values into lists\n",
    "for row in company_overview_tbl.findAll(\"tr\"):\n",
    "    cells = row.findAll(\"td\")\n",
    "    print(cells)\n",
    "    A.append(cells[0].find(text=True))\n",
    "    B.append(cells[1].find(text=True))\n",
    "    C.append(cells[2].find(text=True))\n",
    "    D.append(cells[3].find(text=True))"
   ]
  },
  {
   "cell_type": "code",
   "execution_count": 121,
   "metadata": {},
   "outputs": [
    {
     "name": "stdout",
     "output_type": "stream",
     "text": [
      "['Company CIN', 'Age (Incorp. Date)', 'Company Status', 'Company Type', 'Sub.Category', 'Email ID', 'Company Website', 'Industry']\n"
     ]
    }
   ],
   "source": [
    "print(A)"
   ]
  },
  {
   "cell_type": "code",
   "execution_count": 122,
   "metadata": {},
   "outputs": [
    {
     "name": "stdout",
     "output_type": "stream",
     "text": [
      "['U70101DL2011PTC215822', '7.11 Years', 'Active', 'UnListed Private', 'Indian Non-Government Company', 'cscdel16@gmail.com', 'Not Available', 'Real Estate Activities']\n"
     ]
    }
   ],
   "source": [
    "print(B)"
   ]
  },
  {
   "cell_type": "code",
   "execution_count": 123,
   "metadata": {
    "scrolled": true
   },
   "outputs": [
    {
     "name": "stdout",
     "output_type": "stream",
     "text": [
      "['Paid up Capital', 'Open Charges ', 'Directors', 'Signatories ', 'Last AGM Date', 'Balance Sheet Date', 'Profit After Tax', 'Address']\n"
     ]
    }
   ],
   "source": [
    "print(C)"
   ]
  },
  {
   "cell_type": "code",
   "execution_count": 124,
   "metadata": {},
   "outputs": [
    {
     "name": "stdout",
     "output_type": "stream",
     "text": [
      "['₹1.00 Lakhs', 'Nil', ' Current : 2 ( Past : 0)', 'Nil', '29-09-2016', '31-03-2016', '₹₹₹', 'B-1/5, Paschim Vihar New Delhi DL 110063 IN']\n"
     ]
    }
   ],
   "source": [
    "print(D)"
   ]
  },
  {
   "cell_type": "code",
   "execution_count": 125,
   "metadata": {},
   "outputs": [],
   "source": [
    "#create rows and columns to be created in dataframe"
   ]
  },
  {
   "cell_type": "code",
   "execution_count": 126,
   "metadata": {},
   "outputs": [],
   "source": [
    "columns_headers = A + C\n",
    "columns_values = B + D"
   ]
  },
  {
   "cell_type": "code",
   "execution_count": 127,
   "metadata": {},
   "outputs": [
    {
     "data": {
      "text/plain": [
       "['Company CIN',\n",
       " 'Age (Incorp. Date)',\n",
       " 'Company Status',\n",
       " 'Company Type',\n",
       " 'Sub.Category',\n",
       " 'Email ID',\n",
       " 'Company Website',\n",
       " 'Industry',\n",
       " 'Paid up Capital',\n",
       " 'Open Charges ',\n",
       " 'Directors',\n",
       " 'Signatories ',\n",
       " 'Last AGM Date',\n",
       " 'Balance Sheet Date',\n",
       " 'Profit After Tax',\n",
       " 'Address']"
      ]
     },
     "execution_count": 127,
     "metadata": {},
     "output_type": "execute_result"
    }
   ],
   "source": [
    "columns_headers"
   ]
  },
  {
   "cell_type": "code",
   "execution_count": 128,
   "metadata": {},
   "outputs": [
    {
     "data": {
      "text/plain": [
       "['U70101DL2011PTC215822',\n",
       " '7.11 Years',\n",
       " 'Active',\n",
       " 'UnListed Private',\n",
       " 'Indian Non-Government Company',\n",
       " 'cscdel16@gmail.com',\n",
       " 'Not Available',\n",
       " 'Real Estate Activities',\n",
       " '₹1.00 Lakhs',\n",
       " 'Nil',\n",
       " ' Current : 2 ( Past : 0)',\n",
       " 'Nil',\n",
       " '29-09-2016',\n",
       " '31-03-2016',\n",
       " '₹₹₹',\n",
       " 'B-1/5, Paschim Vihar New Delhi DL 110063 IN']"
      ]
     },
     "execution_count": 128,
     "metadata": {},
     "output_type": "execute_result"
    }
   ],
   "source": [
    "columns_values"
   ]
  },
  {
   "cell_type": "code",
   "execution_count": 129,
   "metadata": {},
   "outputs": [],
   "source": [
    "#create touple\n",
    "list_of_touples = list(zip(columns_headers, columns_values))"
   ]
  },
  {
   "cell_type": "code",
   "execution_count": 130,
   "metadata": {},
   "outputs": [],
   "source": [
    "#create dataframe from the list of touple\n",
    "df = pd.DataFrame(list_of_touples)"
   ]
  },
  {
   "cell_type": "code",
   "execution_count": 131,
   "metadata": {},
   "outputs": [
    {
     "data": {
      "text/html": [
       "<div>\n",
       "<style scoped>\n",
       "    .dataframe tbody tr th:only-of-type {\n",
       "        vertical-align: middle;\n",
       "    }\n",
       "\n",
       "    .dataframe tbody tr th {\n",
       "        vertical-align: top;\n",
       "    }\n",
       "\n",
       "    .dataframe thead th {\n",
       "        text-align: right;\n",
       "    }\n",
       "</style>\n",
       "<table border=\"1\" class=\"dataframe\">\n",
       "  <thead>\n",
       "    <tr style=\"text-align: right;\">\n",
       "      <th></th>\n",
       "      <th>0</th>\n",
       "      <th>1</th>\n",
       "    </tr>\n",
       "  </thead>\n",
       "  <tbody>\n",
       "    <tr>\n",
       "      <th>0</th>\n",
       "      <td>Company CIN</td>\n",
       "      <td>U70101DL2011PTC215822</td>\n",
       "    </tr>\n",
       "    <tr>\n",
       "      <th>1</th>\n",
       "      <td>Age (Incorp. Date)</td>\n",
       "      <td>7.11 Years</td>\n",
       "    </tr>\n",
       "    <tr>\n",
       "      <th>2</th>\n",
       "      <td>Company Status</td>\n",
       "      <td>Active</td>\n",
       "    </tr>\n",
       "    <tr>\n",
       "      <th>3</th>\n",
       "      <td>Company Type</td>\n",
       "      <td>UnListed Private</td>\n",
       "    </tr>\n",
       "    <tr>\n",
       "      <th>4</th>\n",
       "      <td>Sub.Category</td>\n",
       "      <td>Indian Non-Government Company</td>\n",
       "    </tr>\n",
       "    <tr>\n",
       "      <th>5</th>\n",
       "      <td>Email ID</td>\n",
       "      <td>cscdel16@gmail.com</td>\n",
       "    </tr>\n",
       "    <tr>\n",
       "      <th>6</th>\n",
       "      <td>Company Website</td>\n",
       "      <td>Not Available</td>\n",
       "    </tr>\n",
       "    <tr>\n",
       "      <th>7</th>\n",
       "      <td>Industry</td>\n",
       "      <td>Real Estate Activities</td>\n",
       "    </tr>\n",
       "    <tr>\n",
       "      <th>8</th>\n",
       "      <td>Paid up Capital</td>\n",
       "      <td>₹1.00 Lakhs</td>\n",
       "    </tr>\n",
       "    <tr>\n",
       "      <th>9</th>\n",
       "      <td>Open Charges</td>\n",
       "      <td>Nil</td>\n",
       "    </tr>\n",
       "    <tr>\n",
       "      <th>10</th>\n",
       "      <td>Directors</td>\n",
       "      <td>Current : 2 ( Past : 0)</td>\n",
       "    </tr>\n",
       "    <tr>\n",
       "      <th>11</th>\n",
       "      <td>Signatories</td>\n",
       "      <td>Nil</td>\n",
       "    </tr>\n",
       "    <tr>\n",
       "      <th>12</th>\n",
       "      <td>Last AGM Date</td>\n",
       "      <td>29-09-2016</td>\n",
       "    </tr>\n",
       "    <tr>\n",
       "      <th>13</th>\n",
       "      <td>Balance Sheet Date</td>\n",
       "      <td>31-03-2016</td>\n",
       "    </tr>\n",
       "    <tr>\n",
       "      <th>14</th>\n",
       "      <td>Profit After Tax</td>\n",
       "      <td>₹₹₹</td>\n",
       "    </tr>\n",
       "    <tr>\n",
       "      <th>15</th>\n",
       "      <td>Address</td>\n",
       "      <td>B-1/5, Paschim Vihar New Delhi DL 110063 IN</td>\n",
       "    </tr>\n",
       "  </tbody>\n",
       "</table>\n",
       "</div>"
      ],
      "text/plain": [
       "                     0                                            1\n",
       "0          Company CIN                        U70101DL2011PTC215822\n",
       "1   Age (Incorp. Date)                                   7.11 Years\n",
       "2       Company Status                                       Active\n",
       "3         Company Type                             UnListed Private\n",
       "4         Sub.Category                Indian Non-Government Company\n",
       "5             Email ID                           cscdel16@gmail.com\n",
       "6      Company Website                                Not Available\n",
       "7             Industry                       Real Estate Activities\n",
       "8      Paid up Capital                                  ₹1.00 Lakhs\n",
       "9        Open Charges                                           Nil\n",
       "10           Directors                      Current : 2 ( Past : 0)\n",
       "11        Signatories                                           Nil\n",
       "12       Last AGM Date                                   29-09-2016\n",
       "13  Balance Sheet Date                                   31-03-2016\n",
       "14    Profit After Tax                                          ₹₹₹\n",
       "15             Address  B-1/5, Paschim Vihar New Delhi DL 110063 IN"
      ]
     },
     "execution_count": 131,
     "metadata": {},
     "output_type": "execute_result"
    }
   ],
   "source": [
    "df"
   ]
  },
  {
   "cell_type": "code",
   "execution_count": 132,
   "metadata": {},
   "outputs": [],
   "source": [
    "#transpose the dataframe to make rows as columns\n",
    "df_t = df.transpose()"
   ]
  },
  {
   "cell_type": "code",
   "execution_count": 133,
   "metadata": {},
   "outputs": [
    {
     "data": {
      "text/html": [
       "<div>\n",
       "<style scoped>\n",
       "    .dataframe tbody tr th:only-of-type {\n",
       "        vertical-align: middle;\n",
       "    }\n",
       "\n",
       "    .dataframe tbody tr th {\n",
       "        vertical-align: top;\n",
       "    }\n",
       "\n",
       "    .dataframe thead th {\n",
       "        text-align: right;\n",
       "    }\n",
       "</style>\n",
       "<table border=\"1\" class=\"dataframe\">\n",
       "  <thead>\n",
       "    <tr style=\"text-align: right;\">\n",
       "      <th></th>\n",
       "      <th>0</th>\n",
       "      <th>1</th>\n",
       "      <th>2</th>\n",
       "      <th>3</th>\n",
       "      <th>4</th>\n",
       "      <th>5</th>\n",
       "      <th>6</th>\n",
       "      <th>7</th>\n",
       "      <th>8</th>\n",
       "      <th>9</th>\n",
       "      <th>10</th>\n",
       "      <th>11</th>\n",
       "      <th>12</th>\n",
       "      <th>13</th>\n",
       "      <th>14</th>\n",
       "      <th>15</th>\n",
       "    </tr>\n",
       "  </thead>\n",
       "  <tbody>\n",
       "    <tr>\n",
       "      <th>0</th>\n",
       "      <td>Company CIN</td>\n",
       "      <td>Age (Incorp. Date)</td>\n",
       "      <td>Company Status</td>\n",
       "      <td>Company Type</td>\n",
       "      <td>Sub.Category</td>\n",
       "      <td>Email ID</td>\n",
       "      <td>Company Website</td>\n",
       "      <td>Industry</td>\n",
       "      <td>Paid up Capital</td>\n",
       "      <td>Open Charges</td>\n",
       "      <td>Directors</td>\n",
       "      <td>Signatories</td>\n",
       "      <td>Last AGM Date</td>\n",
       "      <td>Balance Sheet Date</td>\n",
       "      <td>Profit After Tax</td>\n",
       "      <td>Address</td>\n",
       "    </tr>\n",
       "    <tr>\n",
       "      <th>1</th>\n",
       "      <td>U70101DL2011PTC215822</td>\n",
       "      <td>7.11 Years</td>\n",
       "      <td>Active</td>\n",
       "      <td>UnListed Private</td>\n",
       "      <td>Indian Non-Government Company</td>\n",
       "      <td>cscdel16@gmail.com</td>\n",
       "      <td>Not Available</td>\n",
       "      <td>Real Estate Activities</td>\n",
       "      <td>₹1.00 Lakhs</td>\n",
       "      <td>Nil</td>\n",
       "      <td>Current : 2 ( Past : 0)</td>\n",
       "      <td>Nil</td>\n",
       "      <td>29-09-2016</td>\n",
       "      <td>31-03-2016</td>\n",
       "      <td>₹₹₹</td>\n",
       "      <td>B-1/5, Paschim Vihar New Delhi DL 110063 IN</td>\n",
       "    </tr>\n",
       "  </tbody>\n",
       "</table>\n",
       "</div>"
      ],
      "text/plain": [
       "                      0                   1               2   \\\n",
       "0            Company CIN  Age (Incorp. Date)  Company Status   \n",
       "1  U70101DL2011PTC215822          7.11 Years          Active   \n",
       "\n",
       "                 3                              4                   5   \\\n",
       "0      Company Type                   Sub.Category            Email ID   \n",
       "1  UnListed Private  Indian Non-Government Company  cscdel16@gmail.com   \n",
       "\n",
       "                6                       7                8              9   \\\n",
       "0  Company Website                Industry  Paid up Capital  Open Charges    \n",
       "1    Not Available  Real Estate Activities      ₹1.00 Lakhs            Nil   \n",
       "\n",
       "                         10            11             12                  13  \\\n",
       "0                 Directors  Signatories   Last AGM Date  Balance Sheet Date   \n",
       "1   Current : 2 ( Past : 0)           Nil     29-09-2016          31-03-2016   \n",
       "\n",
       "                 14                                           15  \n",
       "0  Profit After Tax                                      Address  \n",
       "1               ₹₹₹  B-1/5, Paschim Vihar New Delhi DL 110063 IN  "
      ]
     },
     "execution_count": 133,
     "metadata": {},
     "output_type": "execute_result"
    }
   ],
   "source": [
    "df_t"
   ]
  },
  {
   "cell_type": "code",
   "execution_count": 134,
   "metadata": {},
   "outputs": [
    {
     "data": {
      "text/plain": [
       "RangeIndex(start=0, stop=16, step=1)"
      ]
     },
     "execution_count": 134,
     "metadata": {},
     "output_type": "execute_result"
    }
   ],
   "source": [
    "df_t.columns"
   ]
  },
  {
   "cell_type": "code",
   "execution_count": 135,
   "metadata": {},
   "outputs": [],
   "source": [
    "headers = df_t.iloc[0]"
   ]
  },
  {
   "cell_type": "code",
   "execution_count": 136,
   "metadata": {},
   "outputs": [
    {
     "data": {
      "text/plain": [
       "0            Company CIN\n",
       "1     Age (Incorp. Date)\n",
       "2         Company Status\n",
       "3           Company Type\n",
       "4           Sub.Category\n",
       "5               Email ID\n",
       "6        Company Website\n",
       "7               Industry\n",
       "8        Paid up Capital\n",
       "9          Open Charges \n",
       "10             Directors\n",
       "11          Signatories \n",
       "12         Last AGM Date\n",
       "13    Balance Sheet Date\n",
       "14      Profit After Tax\n",
       "15               Address\n",
       "Name: 0, dtype: object"
      ]
     },
     "execution_count": 136,
     "metadata": {},
     "output_type": "execute_result"
    }
   ],
   "source": [
    "headers"
   ]
  },
  {
   "cell_type": "code",
   "execution_count": 137,
   "metadata": {},
   "outputs": [],
   "source": [
    "#make the 2nd row as header"
   ]
  },
  {
   "cell_type": "code",
   "execution_count": 140,
   "metadata": {},
   "outputs": [
    {
     "data": {
      "text/plain": [
       "array([['U70101DL2011PTC215822', '7.11 Years', 'Active',\n",
       "        'UnListed Private', 'Indian Non-Government Company',\n",
       "        'cscdel16@gmail.com', 'Not Available', 'Real Estate Activities',\n",
       "        '₹1.00 Lakhs', 'Nil', ' Current : 2 ( Past : 0)', 'Nil',\n",
       "        '29-09-2016', '31-03-2016', '₹₹₹',\n",
       "        'B-1/5, Paschim Vihar New Delhi DL 110063 IN']], dtype=object)"
      ]
     },
     "execution_count": 140,
     "metadata": {},
     "output_type": "execute_result"
    }
   ],
   "source": [
    "df_t.values[1:]"
   ]
  },
  {
   "cell_type": "code",
   "execution_count": 141,
   "metadata": {},
   "outputs": [
    {
     "data": {
      "text/plain": [
       "array([['Company CIN', 'Age (Incorp. Date)', 'Company Status',\n",
       "        'Company Type', 'Sub.Category', 'Email ID', 'Company Website',\n",
       "        'Industry', 'Paid up Capital', 'Open Charges ', 'Directors',\n",
       "        'Signatories ', 'Last AGM Date', 'Balance Sheet Date',\n",
       "        'Profit After Tax', 'Address'],\n",
       "       ['U70101DL2011PTC215822', '7.11 Years', 'Active',\n",
       "        'UnListed Private', 'Indian Non-Government Company',\n",
       "        'cscdel16@gmail.com', 'Not Available', 'Real Estate Activities',\n",
       "        '₹1.00 Lakhs', 'Nil', ' Current : 2 ( Past : 0)', 'Nil',\n",
       "        '29-09-2016', '31-03-2016', '₹₹₹',\n",
       "        'B-1/5, Paschim Vihar New Delhi DL 110063 IN']], dtype=object)"
      ]
     },
     "execution_count": 141,
     "metadata": {},
     "output_type": "execute_result"
    }
   ],
   "source": [
    "df_t.values[0:]"
   ]
  },
  {
   "cell_type": "code",
   "execution_count": 142,
   "metadata": {},
   "outputs": [],
   "source": [
    "new_df  = pd.DataFrame(df_t.values[1:], columns=headers)"
   ]
  },
  {
   "cell_type": "code",
   "execution_count": 143,
   "metadata": {},
   "outputs": [
    {
     "data": {
      "text/html": [
       "<div>\n",
       "<style scoped>\n",
       "    .dataframe tbody tr th:only-of-type {\n",
       "        vertical-align: middle;\n",
       "    }\n",
       "\n",
       "    .dataframe tbody tr th {\n",
       "        vertical-align: top;\n",
       "    }\n",
       "\n",
       "    .dataframe thead th {\n",
       "        text-align: right;\n",
       "    }\n",
       "</style>\n",
       "<table border=\"1\" class=\"dataframe\">\n",
       "  <thead>\n",
       "    <tr style=\"text-align: right;\">\n",
       "      <th></th>\n",
       "      <th>Company CIN</th>\n",
       "      <th>Age (Incorp. Date)</th>\n",
       "      <th>Company Status</th>\n",
       "      <th>Company Type</th>\n",
       "      <th>Sub.Category</th>\n",
       "      <th>Email ID</th>\n",
       "      <th>Company Website</th>\n",
       "      <th>Industry</th>\n",
       "      <th>Paid up Capital</th>\n",
       "      <th>Open Charges</th>\n",
       "      <th>Directors</th>\n",
       "      <th>Signatories</th>\n",
       "      <th>Last AGM Date</th>\n",
       "      <th>Balance Sheet Date</th>\n",
       "      <th>Profit After Tax</th>\n",
       "      <th>Address</th>\n",
       "    </tr>\n",
       "  </thead>\n",
       "  <tbody>\n",
       "    <tr>\n",
       "      <th>0</th>\n",
       "      <td>U70101DL2011PTC215822</td>\n",
       "      <td>7.11 Years</td>\n",
       "      <td>Active</td>\n",
       "      <td>UnListed Private</td>\n",
       "      <td>Indian Non-Government Company</td>\n",
       "      <td>cscdel16@gmail.com</td>\n",
       "      <td>Not Available</td>\n",
       "      <td>Real Estate Activities</td>\n",
       "      <td>₹1.00 Lakhs</td>\n",
       "      <td>Nil</td>\n",
       "      <td>Current : 2 ( Past : 0)</td>\n",
       "      <td>Nil</td>\n",
       "      <td>29-09-2016</td>\n",
       "      <td>31-03-2016</td>\n",
       "      <td>₹₹₹</td>\n",
       "      <td>B-1/5, Paschim Vihar New Delhi DL 110063 IN</td>\n",
       "    </tr>\n",
       "  </tbody>\n",
       "</table>\n",
       "</div>"
      ],
      "text/plain": [
       "0            Company CIN Age (Incorp. Date) Company Status      Company Type  \\\n",
       "0  U70101DL2011PTC215822         7.11 Years         Active  UnListed Private   \n",
       "\n",
       "0                   Sub.Category            Email ID Company Website  \\\n",
       "0  Indian Non-Government Company  cscdel16@gmail.com   Not Available   \n",
       "\n",
       "0                Industry Paid up Capital Open Charges   \\\n",
       "0  Real Estate Activities     ₹1.00 Lakhs           Nil   \n",
       "\n",
       "0                 Directors Signatories  Last AGM Date Balance Sheet Date  \\\n",
       "0   Current : 2 ( Past : 0)          Nil    29-09-2016         31-03-2016   \n",
       "\n",
       "0 Profit After Tax                                      Address  \n",
       "0              ₹₹₹  B-1/5, Paschim Vihar New Delhi DL 110063 IN  "
      ]
     },
     "execution_count": 143,
     "metadata": {},
     "output_type": "execute_result"
    }
   ],
   "source": [
    "new_df"
   ]
  },
  {
   "cell_type": "code",
   "execution_count": null,
   "metadata": {},
   "outputs": [],
   "source": []
  }
 ],
 "metadata": {
  "kernelspec": {
   "display_name": "Python 3",
   "language": "python",
   "name": "python3"
  },
  "language_info": {
   "codemirror_mode": {
    "name": "ipython",
    "version": 3
   },
   "file_extension": ".py",
   "mimetype": "text/x-python",
   "name": "python",
   "nbconvert_exporter": "python",
   "pygments_lexer": "ipython3",
   "version": "3.6.8"
  }
 },
 "nbformat": 4,
 "nbformat_minor": 2
}
