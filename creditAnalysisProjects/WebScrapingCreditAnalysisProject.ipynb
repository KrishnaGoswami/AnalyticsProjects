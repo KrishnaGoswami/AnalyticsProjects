{
 "cells": [
  {
   "cell_type": "code",
   "execution_count": 1,
   "metadata": {},
   "outputs": [],
   "source": [
    "#Scrap https://www.instafinancials.com"
   ]
  },
  {
   "cell_type": "code",
   "execution_count": 53,
   "metadata": {},
   "outputs": [],
   "source": [
    "#Importing packages\n",
    "from selenium import webdriver\n",
    "import pandas as pd\n",
    "from bs4 import BeautifulSoup\n",
    "import re\n",
    "import os\n",
    "from IPython.core.interactiveshell import InteractiveShell\n",
    "InteractiveShell.ast_node_interactivity = \"all\"\n",
    "from selenium.webdriver.common.keys import Keys"
   ]
  },
  {
   "cell_type": "code",
   "execution_count": 54,
   "metadata": {},
   "outputs": [],
   "source": [
    "#BUILDTUFF CONSTRUCTIONS PRIVATE LIMITED"
   ]
  },
  {
   "cell_type": "code",
   "execution_count": 55,
   "metadata": {},
   "outputs": [],
   "source": [
    "comp_name = 'BUILDTUFF CONSTRUCTIONS PRIVATE LIMITED'\n",
    "comp_key = 'U70101DL2011PTC215822'\n",
    "driver = webdriver.Chrome('C:\\\\chromedriver\\\\chromedriver.exe')        # alternatively: browser = webdriver.Chrome(pathtowebdriver)\n",
    "driver.get(\"about:blank\")\n",
    "driver.get(\"https://www.instafinancials.com/\")\n",
    "search_textbox = driver.find_element_by_xpath(\"//*[@id='txtCompanySearch']\")   #XPATH can be found with developer tools in browsers\n",
    "search_textbox.send_keys(search_query)\n",
    "#time.sleep(5)\n",
    "# to click on third element of search suggestion\n",
    "driver.find_element_by_xpath('//*[@id=\"compSearchResults\"]').click()\n",
    "#search_textbox.send_keys(Keys.ARROW_DOWN)\n",
    "# wait for the first dropdown option to appear and open it\n",
    "#driver.close()"
   ]
  },
  {
   "cell_type": "code",
   "execution_count": 56,
   "metadata": {},
   "outputs": [],
   "source": [
    "#driver.close()"
   ]
  },
  {
   "cell_type": "code",
   "execution_count": 57,
   "metadata": {},
   "outputs": [],
   "source": [
    "#XPath for 'Company Overview' is: //*[@id=\"AppCompany_compDescription\"]"
   ]
  },
  {
   "cell_type": "code",
   "execution_count": 58,
   "metadata": {},
   "outputs": [],
   "source": [
    "#get the Company Overview from the xpath\n",
    "companyOverview_element = driver.find_elements_by_xpath('//*[@id=\"AppCompany_compDescription\"]')[0]\n",
    "companyOverview_element = companyOverview_element.text"
   ]
  },
  {
   "cell_type": "code",
   "execution_count": 59,
   "metadata": {},
   "outputs": [
    {
     "data": {
      "text/plain": [
       "\"BUILDTUFF CONSTRUCTIONS PRIVATE LIMITED with CIN U70101DL2011PTC215822, is a 7.11 Years old, PrivateUnListed Indian Non-Government Company, registered at DELHI (Delhi),with a paid up capital of ₹1.00 Lakhs.As per MCA and other Industry classification records, the main line of business is Real Estate Activities\\nThe status of BUILDTUFF CONSTRUCTIONS PRIVATE LIMITED,as on date is Active. Company has filed its Annual Returns and/or Financial Statements upto 31-03-2016 i.e. FY 2015-2016\\nAs on date,2 Directors and 0 Signatories are associated with the company.\\nThere are no directors in this company who are 'Disqualified by ROC u/s 164(2)'.\\nThere are 1 current directors whose 'DIN is deactivated due to non-filing of DIR-3 KYC form' to MCA. For all directors, DIR-3 KYC form filing is mandated my MCA where directors are required to submit personal and KYC information to MCA, along with documentary proofs.\\nAs per MCA records, company is registered at B-1/5; PASCHIM VIHAR NEW DELHI DL 110063 IN\\n* All information mentioned above are dependent on the 'Last Updated date' mentioned above top right corner of [Company] block. To get 'Latest (as on date)' information about this company, kindly use [Update] button.\""
      ]
     },
     "execution_count": 59,
     "metadata": {},
     "output_type": "execute_result"
    }
   ],
   "source": [
    "companyOverview_element"
   ]
  },
  {
   "cell_type": "code",
   "execution_count": 60,
   "metadata": {},
   "outputs": [],
   "source": [
    "#Get table details using beautiful soup"
   ]
  },
  {
   "cell_type": "code",
   "execution_count": 61,
   "metadata": {},
   "outputs": [],
   "source": [
    "#reference is https://medium.freecodecamp.org/better-web-scraping-in-python-with-selenium-beautiful-soup-and-pandas-d6390592e251"
   ]
  },
  {
   "cell_type": "code",
   "execution_count": 62,
   "metadata": {},
   "outputs": [],
   "source": [
    "#Selenium hands the page source to Beautiful Soup\n",
    "soup=BeautifulSoup(driver.page_source, 'html.parser')"
   ]
  },
  {
   "cell_type": "code",
   "execution_count": 63,
   "metadata": {},
   "outputs": [],
   "source": [
    "company_overview_tbl = soup.find('table', id = 'CompanyOverview')"
   ]
  },
  {
   "cell_type": "code",
   "execution_count": 64,
   "metadata": {},
   "outputs": [
    {
     "data": {
      "text/plain": [
       "<table class=\"table table-striped no-margins\" id=\"CompanyOverview\"> <thead></thead><tbody>\n",
       "<tr><td width=\"20%\">Company CIN</td><td width=\"30%\">U70101DL2011PTC215822</td><td width=\"20%\">Paid up Capital</td><td width=\"30%\"><b>₹1.00 Lakhs</b></td></tr>\n",
       "<tr><td>Age (Incorp. Date)</td><td><b>7.11 Years</b> (14-03-2011)</td>\n",
       "<td>Open Charges </td><td id=\"chgtd\"><b>Nil</b></td></tr>\n",
       "<tr><td>Company Status</td><td><b>Active</b></td>\n",
       "<td>Directors</td><td id=\"dirtd\"><b> Current : 2 ( Past : 0)</b></td></tr>\n",
       "<tr><td>Company Type</td><td>UnListed Private</td><td>Signatories </td><td id=\"sigtd\"><b>Nil</b></td></tr>\n",
       "<tr><td>Sub.Category</td><td>Indian Non-Government Company</td>\n",
       "<td>Last AGM Date</td><td>29-09-2016</td></tr>\n",
       "<tr><td>Email ID</td><td>cscdel16@gmail.com</td>\n",
       "<td>Balance Sheet Date</td><td>31-03-2016</td></tr>\n",
       "<tr><td>Company Website</td><td>Not Available</td><td>Profit After Tax</td><td><b>₹₹₹</b></td></tr>\n",
       "<tr rowspan=\"3\"><td>Industry</td><td>Real Estate Activities</td>\n",
       "<td>Address</td><td>B-1/5, Paschim Vihar New Delhi DL 110063 IN</td></tr>\n",
       "</tbody></table>"
      ]
     },
     "execution_count": 64,
     "metadata": {},
     "output_type": "execute_result"
    }
   ],
   "source": [
    "company_overview_tbl"
   ]
  },
  {
   "cell_type": "code",
   "execution_count": 65,
   "metadata": {},
   "outputs": [],
   "source": [
    "#Generate Lists\n",
    "A = []\n",
    "B = []\n",
    "C = []\n",
    "D = []"
   ]
  },
  {
   "cell_type": "code",
   "execution_count": 66,
   "metadata": {},
   "outputs": [
    {
     "name": "stdout",
     "output_type": "stream",
     "text": [
      "[<td width=\"20%\">Company CIN</td>, <td width=\"30%\">U70101DL2011PTC215822</td>, <td width=\"20%\">Paid up Capital</td>, <td width=\"30%\"><b>₹1.00 Lakhs</b></td>]\n",
      "[<td>Age (Incorp. Date)</td>, <td><b>7.11 Years</b> (14-03-2011)</td>, <td>Open Charges </td>, <td id=\"chgtd\"><b>Nil</b></td>]\n",
      "[<td>Company Status</td>, <td><b>Active</b></td>, <td>Directors</td>, <td id=\"dirtd\"><b> Current : 2 ( Past : 0)</b></td>]\n",
      "[<td>Company Type</td>, <td>UnListed Private</td>, <td>Signatories </td>, <td id=\"sigtd\"><b>Nil</b></td>]\n",
      "[<td>Sub.Category</td>, <td>Indian Non-Government Company</td>, <td>Last AGM Date</td>, <td>29-09-2016</td>]\n",
      "[<td>Email ID</td>, <td>cscdel16@gmail.com</td>, <td>Balance Sheet Date</td>, <td>31-03-2016</td>]\n",
      "[<td>Company Website</td>, <td>Not Available</td>, <td>Profit After Tax</td>, <td><b>₹₹₹</b></td>]\n",
      "[<td>Industry</td>, <td>Real Estate Activities</td>, <td>Address</td>, <td>B-1/5, Paschim Vihar New Delhi DL 110063 IN</td>]\n"
     ]
    }
   ],
   "source": [
    "#add the table values into lists\n",
    "for row in company_overview_tbl.findAll(\"tr\"):\n",
    "    cells = row.findAll(\"td\")\n",
    "    print(cells)\n",
    "    A.append(cells[0].find(text=True))\n",
    "    B.append(cells[1].find(text=True))\n",
    "    C.append(cells[2].find(text=True))\n",
    "    D.append(cells[3].find(text=True))"
   ]
  },
  {
   "cell_type": "code",
   "execution_count": 67,
   "metadata": {},
   "outputs": [
    {
     "name": "stdout",
     "output_type": "stream",
     "text": [
      "['Company CIN', 'Age (Incorp. Date)', 'Company Status', 'Company Type', 'Sub.Category', 'Email ID', 'Company Website', 'Industry']\n",
      "['U70101DL2011PTC215822', '7.11 Years', 'Active', 'UnListed Private', 'Indian Non-Government Company', 'cscdel16@gmail.com', 'Not Available', 'Real Estate Activities']\n",
      "['Paid up Capital', 'Open Charges ', 'Directors', 'Signatories ', 'Last AGM Date', 'Balance Sheet Date', 'Profit After Tax', 'Address']\n",
      "['₹1.00 Lakhs', 'Nil', ' Current : 2 ( Past : 0)', 'Nil', '29-09-2016', '31-03-2016', '₹₹₹', 'B-1/5, Paschim Vihar New Delhi DL 110063 IN']\n"
     ]
    }
   ],
   "source": [
    "print(A)\n",
    "print(B)\n",
    "print(C)\n",
    "print(D)"
   ]
  },
  {
   "cell_type": "code",
   "execution_count": 68,
   "metadata": {},
   "outputs": [],
   "source": [
    "#create rows and columns to be created in dataframe"
   ]
  },
  {
   "cell_type": "code",
   "execution_count": 69,
   "metadata": {},
   "outputs": [],
   "source": [
    "columns_headers = A + C\n",
    "columns_values = B + D"
   ]
  },
  {
   "cell_type": "code",
   "execution_count": 70,
   "metadata": {},
   "outputs": [
    {
     "data": {
      "text/plain": [
       "['Company CIN',\n",
       " 'Age (Incorp. Date)',\n",
       " 'Company Status',\n",
       " 'Company Type',\n",
       " 'Sub.Category',\n",
       " 'Email ID',\n",
       " 'Company Website',\n",
       " 'Industry',\n",
       " 'Paid up Capital',\n",
       " 'Open Charges ',\n",
       " 'Directors',\n",
       " 'Signatories ',\n",
       " 'Last AGM Date',\n",
       " 'Balance Sheet Date',\n",
       " 'Profit After Tax',\n",
       " 'Address']"
      ]
     },
     "execution_count": 70,
     "metadata": {},
     "output_type": "execute_result"
    },
    {
     "data": {
      "text/plain": [
       "['U70101DL2011PTC215822',\n",
       " '7.11 Years',\n",
       " 'Active',\n",
       " 'UnListed Private',\n",
       " 'Indian Non-Government Company',\n",
       " 'cscdel16@gmail.com',\n",
       " 'Not Available',\n",
       " 'Real Estate Activities',\n",
       " '₹1.00 Lakhs',\n",
       " 'Nil',\n",
       " ' Current : 2 ( Past : 0)',\n",
       " 'Nil',\n",
       " '29-09-2016',\n",
       " '31-03-2016',\n",
       " '₹₹₹',\n",
       " 'B-1/5, Paschim Vihar New Delhi DL 110063 IN']"
      ]
     },
     "execution_count": 70,
     "metadata": {},
     "output_type": "execute_result"
    }
   ],
   "source": [
    "columns_headers\n",
    "columns_values"
   ]
  },
  {
   "cell_type": "code",
   "execution_count": 71,
   "metadata": {},
   "outputs": [],
   "source": [
    "#create touple\n",
    "list_of_touples = list(zip(columns_headers, columns_values))"
   ]
  },
  {
   "cell_type": "code",
   "execution_count": 72,
   "metadata": {},
   "outputs": [],
   "source": [
    "#create dataframe from the list of touple\n",
    "df = pd.DataFrame(list_of_touples)"
   ]
  },
  {
   "cell_type": "code",
   "execution_count": 73,
   "metadata": {},
   "outputs": [
    {
     "data": {
      "text/html": [
       "<div>\n",
       "<style scoped>\n",
       "    .dataframe tbody tr th:only-of-type {\n",
       "        vertical-align: middle;\n",
       "    }\n",
       "\n",
       "    .dataframe tbody tr th {\n",
       "        vertical-align: top;\n",
       "    }\n",
       "\n",
       "    .dataframe thead th {\n",
       "        text-align: right;\n",
       "    }\n",
       "</style>\n",
       "<table border=\"1\" class=\"dataframe\">\n",
       "  <thead>\n",
       "    <tr style=\"text-align: right;\">\n",
       "      <th></th>\n",
       "      <th>0</th>\n",
       "      <th>1</th>\n",
       "    </tr>\n",
       "  </thead>\n",
       "  <tbody>\n",
       "    <tr>\n",
       "      <th>0</th>\n",
       "      <td>Company CIN</td>\n",
       "      <td>U70101DL2011PTC215822</td>\n",
       "    </tr>\n",
       "    <tr>\n",
       "      <th>1</th>\n",
       "      <td>Age (Incorp. Date)</td>\n",
       "      <td>7.11 Years</td>\n",
       "    </tr>\n",
       "    <tr>\n",
       "      <th>2</th>\n",
       "      <td>Company Status</td>\n",
       "      <td>Active</td>\n",
       "    </tr>\n",
       "    <tr>\n",
       "      <th>3</th>\n",
       "      <td>Company Type</td>\n",
       "      <td>UnListed Private</td>\n",
       "    </tr>\n",
       "    <tr>\n",
       "      <th>4</th>\n",
       "      <td>Sub.Category</td>\n",
       "      <td>Indian Non-Government Company</td>\n",
       "    </tr>\n",
       "    <tr>\n",
       "      <th>5</th>\n",
       "      <td>Email ID</td>\n",
       "      <td>cscdel16@gmail.com</td>\n",
       "    </tr>\n",
       "    <tr>\n",
       "      <th>6</th>\n",
       "      <td>Company Website</td>\n",
       "      <td>Not Available</td>\n",
       "    </tr>\n",
       "    <tr>\n",
       "      <th>7</th>\n",
       "      <td>Industry</td>\n",
       "      <td>Real Estate Activities</td>\n",
       "    </tr>\n",
       "    <tr>\n",
       "      <th>8</th>\n",
       "      <td>Paid up Capital</td>\n",
       "      <td>₹1.00 Lakhs</td>\n",
       "    </tr>\n",
       "    <tr>\n",
       "      <th>9</th>\n",
       "      <td>Open Charges</td>\n",
       "      <td>Nil</td>\n",
       "    </tr>\n",
       "    <tr>\n",
       "      <th>10</th>\n",
       "      <td>Directors</td>\n",
       "      <td>Current : 2 ( Past : 0)</td>\n",
       "    </tr>\n",
       "    <tr>\n",
       "      <th>11</th>\n",
       "      <td>Signatories</td>\n",
       "      <td>Nil</td>\n",
       "    </tr>\n",
       "    <tr>\n",
       "      <th>12</th>\n",
       "      <td>Last AGM Date</td>\n",
       "      <td>29-09-2016</td>\n",
       "    </tr>\n",
       "    <tr>\n",
       "      <th>13</th>\n",
       "      <td>Balance Sheet Date</td>\n",
       "      <td>31-03-2016</td>\n",
       "    </tr>\n",
       "    <tr>\n",
       "      <th>14</th>\n",
       "      <td>Profit After Tax</td>\n",
       "      <td>₹₹₹</td>\n",
       "    </tr>\n",
       "    <tr>\n",
       "      <th>15</th>\n",
       "      <td>Address</td>\n",
       "      <td>B-1/5, Paschim Vihar New Delhi DL 110063 IN</td>\n",
       "    </tr>\n",
       "  </tbody>\n",
       "</table>\n",
       "</div>"
      ],
      "text/plain": [
       "                     0                                            1\n",
       "0          Company CIN                        U70101DL2011PTC215822\n",
       "1   Age (Incorp. Date)                                   7.11 Years\n",
       "2       Company Status                                       Active\n",
       "3         Company Type                             UnListed Private\n",
       "4         Sub.Category                Indian Non-Government Company\n",
       "5             Email ID                           cscdel16@gmail.com\n",
       "6      Company Website                                Not Available\n",
       "7             Industry                       Real Estate Activities\n",
       "8      Paid up Capital                                  ₹1.00 Lakhs\n",
       "9        Open Charges                                           Nil\n",
       "10           Directors                      Current : 2 ( Past : 0)\n",
       "11        Signatories                                           Nil\n",
       "12       Last AGM Date                                   29-09-2016\n",
       "13  Balance Sheet Date                                   31-03-2016\n",
       "14    Profit After Tax                                          ₹₹₹\n",
       "15             Address  B-1/5, Paschim Vihar New Delhi DL 110063 IN"
      ]
     },
     "execution_count": 73,
     "metadata": {},
     "output_type": "execute_result"
    }
   ],
   "source": [
    "df"
   ]
  },
  {
   "cell_type": "code",
   "execution_count": 74,
   "metadata": {},
   "outputs": [],
   "source": [
    "#transpose the dataframe to make rows as columns\n",
    "df_t = df.transpose()"
   ]
  },
  {
   "cell_type": "code",
   "execution_count": 75,
   "metadata": {},
   "outputs": [
    {
     "data": {
      "text/html": [
       "<div>\n",
       "<style scoped>\n",
       "    .dataframe tbody tr th:only-of-type {\n",
       "        vertical-align: middle;\n",
       "    }\n",
       "\n",
       "    .dataframe tbody tr th {\n",
       "        vertical-align: top;\n",
       "    }\n",
       "\n",
       "    .dataframe thead th {\n",
       "        text-align: right;\n",
       "    }\n",
       "</style>\n",
       "<table border=\"1\" class=\"dataframe\">\n",
       "  <thead>\n",
       "    <tr style=\"text-align: right;\">\n",
       "      <th></th>\n",
       "      <th>0</th>\n",
       "      <th>1</th>\n",
       "      <th>2</th>\n",
       "      <th>3</th>\n",
       "      <th>4</th>\n",
       "      <th>5</th>\n",
       "      <th>6</th>\n",
       "      <th>7</th>\n",
       "      <th>8</th>\n",
       "      <th>9</th>\n",
       "      <th>10</th>\n",
       "      <th>11</th>\n",
       "      <th>12</th>\n",
       "      <th>13</th>\n",
       "      <th>14</th>\n",
       "      <th>15</th>\n",
       "    </tr>\n",
       "  </thead>\n",
       "  <tbody>\n",
       "    <tr>\n",
       "      <th>0</th>\n",
       "      <td>Company CIN</td>\n",
       "      <td>Age (Incorp. Date)</td>\n",
       "      <td>Company Status</td>\n",
       "      <td>Company Type</td>\n",
       "      <td>Sub.Category</td>\n",
       "      <td>Email ID</td>\n",
       "      <td>Company Website</td>\n",
       "      <td>Industry</td>\n",
       "      <td>Paid up Capital</td>\n",
       "      <td>Open Charges</td>\n",
       "      <td>Directors</td>\n",
       "      <td>Signatories</td>\n",
       "      <td>Last AGM Date</td>\n",
       "      <td>Balance Sheet Date</td>\n",
       "      <td>Profit After Tax</td>\n",
       "      <td>Address</td>\n",
       "    </tr>\n",
       "    <tr>\n",
       "      <th>1</th>\n",
       "      <td>U70101DL2011PTC215822</td>\n",
       "      <td>7.11 Years</td>\n",
       "      <td>Active</td>\n",
       "      <td>UnListed Private</td>\n",
       "      <td>Indian Non-Government Company</td>\n",
       "      <td>cscdel16@gmail.com</td>\n",
       "      <td>Not Available</td>\n",
       "      <td>Real Estate Activities</td>\n",
       "      <td>₹1.00 Lakhs</td>\n",
       "      <td>Nil</td>\n",
       "      <td>Current : 2 ( Past : 0)</td>\n",
       "      <td>Nil</td>\n",
       "      <td>29-09-2016</td>\n",
       "      <td>31-03-2016</td>\n",
       "      <td>₹₹₹</td>\n",
       "      <td>B-1/5, Paschim Vihar New Delhi DL 110063 IN</td>\n",
       "    </tr>\n",
       "  </tbody>\n",
       "</table>\n",
       "</div>"
      ],
      "text/plain": [
       "                      0                   1               2   \\\n",
       "0            Company CIN  Age (Incorp. Date)  Company Status   \n",
       "1  U70101DL2011PTC215822          7.11 Years          Active   \n",
       "\n",
       "                 3                              4                   5   \\\n",
       "0      Company Type                   Sub.Category            Email ID   \n",
       "1  UnListed Private  Indian Non-Government Company  cscdel16@gmail.com   \n",
       "\n",
       "                6                       7                8              9   \\\n",
       "0  Company Website                Industry  Paid up Capital  Open Charges    \n",
       "1    Not Available  Real Estate Activities      ₹1.00 Lakhs            Nil   \n",
       "\n",
       "                         10            11             12                  13  \\\n",
       "0                 Directors  Signatories   Last AGM Date  Balance Sheet Date   \n",
       "1   Current : 2 ( Past : 0)           Nil     29-09-2016          31-03-2016   \n",
       "\n",
       "                 14                                           15  \n",
       "0  Profit After Tax                                      Address  \n",
       "1               ₹₹₹  B-1/5, Paschim Vihar New Delhi DL 110063 IN  "
      ]
     },
     "execution_count": 75,
     "metadata": {},
     "output_type": "execute_result"
    }
   ],
   "source": [
    "df_t"
   ]
  },
  {
   "cell_type": "code",
   "execution_count": 76,
   "metadata": {},
   "outputs": [
    {
     "data": {
      "text/plain": [
       "RangeIndex(start=0, stop=16, step=1)"
      ]
     },
     "execution_count": 76,
     "metadata": {},
     "output_type": "execute_result"
    }
   ],
   "source": [
    "df_t.columns"
   ]
  },
  {
   "cell_type": "code",
   "execution_count": 77,
   "metadata": {},
   "outputs": [],
   "source": [
    "headers = df_t.iloc[0]"
   ]
  },
  {
   "cell_type": "code",
   "execution_count": 78,
   "metadata": {},
   "outputs": [
    {
     "data": {
      "text/plain": [
       "0            Company CIN\n",
       "1     Age (Incorp. Date)\n",
       "2         Company Status\n",
       "3           Company Type\n",
       "4           Sub.Category\n",
       "5               Email ID\n",
       "6        Company Website\n",
       "7               Industry\n",
       "8        Paid up Capital\n",
       "9          Open Charges \n",
       "10             Directors\n",
       "11          Signatories \n",
       "12         Last AGM Date\n",
       "13    Balance Sheet Date\n",
       "14      Profit After Tax\n",
       "15               Address\n",
       "Name: 0, dtype: object"
      ]
     },
     "execution_count": 78,
     "metadata": {},
     "output_type": "execute_result"
    }
   ],
   "source": [
    "headers"
   ]
  },
  {
   "cell_type": "code",
   "execution_count": 79,
   "metadata": {},
   "outputs": [],
   "source": [
    "#make the 2nd row as header"
   ]
  },
  {
   "cell_type": "code",
   "execution_count": 80,
   "metadata": {},
   "outputs": [
    {
     "data": {
      "text/plain": [
       "array([['U70101DL2011PTC215822', '7.11 Years', 'Active',\n",
       "        'UnListed Private', 'Indian Non-Government Company',\n",
       "        'cscdel16@gmail.com', 'Not Available', 'Real Estate Activities',\n",
       "        '₹1.00 Lakhs', 'Nil', ' Current : 2 ( Past : 0)', 'Nil',\n",
       "        '29-09-2016', '31-03-2016', '₹₹₹',\n",
       "        'B-1/5, Paschim Vihar New Delhi DL 110063 IN']], dtype=object)"
      ]
     },
     "execution_count": 80,
     "metadata": {},
     "output_type": "execute_result"
    }
   ],
   "source": [
    "df_t.values[1:]"
   ]
  },
  {
   "cell_type": "code",
   "execution_count": 81,
   "metadata": {},
   "outputs": [
    {
     "data": {
      "text/plain": [
       "array([['Company CIN', 'Age (Incorp. Date)', 'Company Status',\n",
       "        'Company Type', 'Sub.Category', 'Email ID', 'Company Website',\n",
       "        'Industry', 'Paid up Capital', 'Open Charges ', 'Directors',\n",
       "        'Signatories ', 'Last AGM Date', 'Balance Sheet Date',\n",
       "        'Profit After Tax', 'Address'],\n",
       "       ['U70101DL2011PTC215822', '7.11 Years', 'Active',\n",
       "        'UnListed Private', 'Indian Non-Government Company',\n",
       "        'cscdel16@gmail.com', 'Not Available', 'Real Estate Activities',\n",
       "        '₹1.00 Lakhs', 'Nil', ' Current : 2 ( Past : 0)', 'Nil',\n",
       "        '29-09-2016', '31-03-2016', '₹₹₹',\n",
       "        'B-1/5, Paschim Vihar New Delhi DL 110063 IN']], dtype=object)"
      ]
     },
     "execution_count": 81,
     "metadata": {},
     "output_type": "execute_result"
    }
   ],
   "source": [
    "df_t.values[0:]"
   ]
  },
  {
   "cell_type": "code",
   "execution_count": 82,
   "metadata": {},
   "outputs": [],
   "source": [
    "df_company_details  = pd.DataFrame(df_t.values[1:], columns=headers)"
   ]
  },
  {
   "cell_type": "code",
   "execution_count": 83,
   "metadata": {},
   "outputs": [
    {
     "data": {
      "text/html": [
       "<div>\n",
       "<style scoped>\n",
       "    .dataframe tbody tr th:only-of-type {\n",
       "        vertical-align: middle;\n",
       "    }\n",
       "\n",
       "    .dataframe tbody tr th {\n",
       "        vertical-align: top;\n",
       "    }\n",
       "\n",
       "    .dataframe thead th {\n",
       "        text-align: right;\n",
       "    }\n",
       "</style>\n",
       "<table border=\"1\" class=\"dataframe\">\n",
       "  <thead>\n",
       "    <tr style=\"text-align: right;\">\n",
       "      <th></th>\n",
       "      <th>Company CIN</th>\n",
       "      <th>Age (Incorp. Date)</th>\n",
       "      <th>Company Status</th>\n",
       "      <th>Company Type</th>\n",
       "      <th>Sub.Category</th>\n",
       "      <th>Email ID</th>\n",
       "      <th>Company Website</th>\n",
       "      <th>Industry</th>\n",
       "      <th>Paid up Capital</th>\n",
       "      <th>Open Charges</th>\n",
       "      <th>Directors</th>\n",
       "      <th>Signatories</th>\n",
       "      <th>Last AGM Date</th>\n",
       "      <th>Balance Sheet Date</th>\n",
       "      <th>Profit After Tax</th>\n",
       "      <th>Address</th>\n",
       "    </tr>\n",
       "  </thead>\n",
       "  <tbody>\n",
       "    <tr>\n",
       "      <th>0</th>\n",
       "      <td>U70101DL2011PTC215822</td>\n",
       "      <td>7.11 Years</td>\n",
       "      <td>Active</td>\n",
       "      <td>UnListed Private</td>\n",
       "      <td>Indian Non-Government Company</td>\n",
       "      <td>cscdel16@gmail.com</td>\n",
       "      <td>Not Available</td>\n",
       "      <td>Real Estate Activities</td>\n",
       "      <td>₹1.00 Lakhs</td>\n",
       "      <td>Nil</td>\n",
       "      <td>Current : 2 ( Past : 0)</td>\n",
       "      <td>Nil</td>\n",
       "      <td>29-09-2016</td>\n",
       "      <td>31-03-2016</td>\n",
       "      <td>₹₹₹</td>\n",
       "      <td>B-1/5, Paschim Vihar New Delhi DL 110063 IN</td>\n",
       "    </tr>\n",
       "  </tbody>\n",
       "</table>\n",
       "</div>"
      ],
      "text/plain": [
       "0            Company CIN Age (Incorp. Date) Company Status      Company Type  \\\n",
       "0  U70101DL2011PTC215822         7.11 Years         Active  UnListed Private   \n",
       "\n",
       "0                   Sub.Category            Email ID Company Website  \\\n",
       "0  Indian Non-Government Company  cscdel16@gmail.com   Not Available   \n",
       "\n",
       "0                Industry Paid up Capital Open Charges   \\\n",
       "0  Real Estate Activities     ₹1.00 Lakhs           Nil   \n",
       "\n",
       "0                 Directors Signatories  Last AGM Date Balance Sheet Date  \\\n",
       "0   Current : 2 ( Past : 0)          Nil    29-09-2016         31-03-2016   \n",
       "\n",
       "0 Profit After Tax                                      Address  \n",
       "0              ₹₹₹  B-1/5, Paschim Vihar New Delhi DL 110063 IN  "
      ]
     },
     "execution_count": 83,
     "metadata": {},
     "output_type": "execute_result"
    }
   ],
   "source": [
    "df_company_details"
   ]
  },
  {
   "cell_type": "code",
   "execution_count": 84,
   "metadata": {},
   "outputs": [],
   "source": [
    "#save into csv\n",
    "df_company_details.to_csv(\"C:\\\\DataSets\\\\CreditAnalysis\\\\company_overview.csv\")"
   ]
  },
  {
   "cell_type": "code",
   "execution_count": 85,
   "metadata": {},
   "outputs": [],
   "source": [
    "#retrieve director details"
   ]
  },
  {
   "cell_type": "code",
   "execution_count": 86,
   "metadata": {},
   "outputs": [],
   "source": [
    "director_tbl = soup.find('table', id = 'DataTables_Table_0')"
   ]
  },
  {
   "cell_type": "code",
   "execution_count": 87,
   "metadata": {},
   "outputs": [
    {
     "data": {
      "text/plain": [
       "<table class=\"table table-striped no-margins report-block dt-responsive dataTable no-footer dtr-inline collapsed\" id=\"DataTables_Table_0\" role=\"grid\">\n",
       "<thead><tr role=\"row\"><th class=\"sorting_disabled\" colspan=\"1\" rowspan=\"1\" width=\"16%\">Name</th><th class=\"sorting_disabled\" colspan=\"1\" rowspan=\"1\" width=\"12%\">DIN</th><th class=\"sorting_disabled\" colspan=\"1\" rowspan=\"1\" width=\"14%\">Designation</th><th class=\"sorting_disabled\" colspan=\"1\" rowspan=\"1\" width=\"13%\">Appointment Date</th><th class=\"sorting_disabled\" colspan=\"1\" rowspan=\"1\" width=\"13%\">Capitalization (₹. Lakhs)</th><th class=\"sorting_disabled\" colspan=\"1\" rowspan=\"1\" width=\"14%\">Total Directorships</th><th class=\"sorting_disabled\" colspan=\"1\" rowspan=\"1\" width=\"14%\">Disqualified u/s 164(2)</th><th class=\"sorting_disabled\" colspan=\"1\" rowspan=\"1\" style=\"display: none;\" width=\"13%\">DIN Deactivated</th></tr></thead><tbody>\n",
       "<tr class=\"odd\" role=\"row\"><td tabindex=\"0\"><a href=\"https://www.instafinancials.com/director/ashok-kumar-phulwari/03453674\" target=\"_blank\">Ashok Kumar Phulwari</a></td><td>03453674</td><td>Director</td><td>14-03-2011</td><td style=\"text-align: right\">₹14.00</td><td style=\"text-align: center\">14</td><td style=\"text-align: center\">No</td><td style=\"text-align: center; display: none;\">No</td></tr><tr class=\"even\" role=\"row\"><td style=\"color:red\" tabindex=\"0\"><a class=\"Red\" href=\"https://www.instafinancials.com/director/bachan-singh/03453735\" target=\"_blank\">Bachan Singh</a></td><td style=\"color:red\">03453735</td><td style=\"color:red\">Director</td><td style=\"color:red\">14-03-2011</td><td style=\"text-align: right;color:red\">₹10.00</td><td style=\"text-align: center;color:red\">10</td><td style=\"text-align: center;color:red\">No</td><td style=\"text-align: center; display: none;\"><a class=\"Red\" href=\"#\" onclick='DisplayDeactivatedPopUp(\"BACHAN SINGH\",\"3453735\",\"\",\"\")'>Yes</a></td></tr></tbody></table>"
      ]
     },
     "execution_count": 87,
     "metadata": {},
     "output_type": "execute_result"
    }
   ],
   "source": [
    "director_tbl"
   ]
  },
  {
   "cell_type": "code",
   "execution_count": 88,
   "metadata": {},
   "outputs": [],
   "source": [
    "#get the column headers\n",
    "column_headers = [th.getText() for th in \n",
    "                  director_tbl.findAll('tr', limit=2)[0].findAll('th')]"
   ]
  },
  {
   "cell_type": "code",
   "execution_count": 89,
   "metadata": {},
   "outputs": [
    {
     "data": {
      "text/plain": [
       "['Name',\n",
       " 'DIN',\n",
       " 'Designation',\n",
       " 'Appointment Date',\n",
       " 'Capitalization (₹. Lakhs)',\n",
       " 'Total Directorships',\n",
       " 'Disqualified u/s 164(2)',\n",
       " 'DIN Deactivated']"
      ]
     },
     "execution_count": 89,
     "metadata": {},
     "output_type": "execute_result"
    }
   ],
   "source": [
    "column_headers"
   ]
  },
  {
   "cell_type": "code",
   "execution_count": 90,
   "metadata": {},
   "outputs": [],
   "source": [
    "#get teh data rows\n",
    "data_rows = director_tbl.findAll('tr')[1:]  # skip the first 2 header rows"
   ]
  },
  {
   "cell_type": "code",
   "execution_count": 91,
   "metadata": {},
   "outputs": [
    {
     "data": {
      "text/plain": [
       "[<tr class=\"odd\" role=\"row\"><td tabindex=\"0\"><a href=\"https://www.instafinancials.com/director/ashok-kumar-phulwari/03453674\" target=\"_blank\">Ashok Kumar Phulwari</a></td><td>03453674</td><td>Director</td><td>14-03-2011</td><td style=\"text-align: right\">₹14.00</td><td style=\"text-align: center\">14</td><td style=\"text-align: center\">No</td><td style=\"text-align: center; display: none;\">No</td></tr>,\n",
       " <tr class=\"even\" role=\"row\"><td style=\"color:red\" tabindex=\"0\"><a class=\"Red\" href=\"https://www.instafinancials.com/director/bachan-singh/03453735\" target=\"_blank\">Bachan Singh</a></td><td style=\"color:red\">03453735</td><td style=\"color:red\">Director</td><td style=\"color:red\">14-03-2011</td><td style=\"text-align: right;color:red\">₹10.00</td><td style=\"text-align: center;color:red\">10</td><td style=\"text-align: center;color:red\">No</td><td style=\"text-align: center; display: none;\"><a class=\"Red\" href=\"#\" onclick='DisplayDeactivatedPopUp(\"BACHAN SINGH\",\"3453735\",\"\",\"\")'>Yes</a></td></tr>]"
      ]
     },
     "execution_count": 91,
     "metadata": {},
     "output_type": "execute_result"
    }
   ],
   "source": [
    "data_rows"
   ]
  },
  {
   "cell_type": "code",
   "execution_count": 92,
   "metadata": {},
   "outputs": [],
   "source": [
    "director_data = [[td.getText() for td in data_rows[i].findAll('td')]\n",
    "            for i in range(len(data_rows))]"
   ]
  },
  {
   "cell_type": "code",
   "execution_count": 93,
   "metadata": {},
   "outputs": [
    {
     "data": {
      "text/plain": [
       "[['Ashok Kumar Phulwari',\n",
       "  '03453674',\n",
       "  'Director',\n",
       "  '14-03-2011',\n",
       "  '₹14.00',\n",
       "  '14',\n",
       "  'No',\n",
       "  'No'],\n",
       " ['Bachan Singh',\n",
       "  '03453735',\n",
       "  'Director',\n",
       "  '14-03-2011',\n",
       "  '₹10.00',\n",
       "  '10',\n",
       "  'No',\n",
       "  'Yes']]"
      ]
     },
     "execution_count": 93,
     "metadata": {},
     "output_type": "execute_result"
    }
   ],
   "source": [
    "director_data"
   ]
  },
  {
   "cell_type": "code",
   "execution_count": 94,
   "metadata": {},
   "outputs": [],
   "source": [
    "#create director's dataframe\n",
    "df_director = pd.DataFrame(director_data, columns = column_headers)"
   ]
  },
  {
   "cell_type": "code",
   "execution_count": 95,
   "metadata": {},
   "outputs": [
    {
     "data": {
      "text/html": [
       "<div>\n",
       "<style scoped>\n",
       "    .dataframe tbody tr th:only-of-type {\n",
       "        vertical-align: middle;\n",
       "    }\n",
       "\n",
       "    .dataframe tbody tr th {\n",
       "        vertical-align: top;\n",
       "    }\n",
       "\n",
       "    .dataframe thead th {\n",
       "        text-align: right;\n",
       "    }\n",
       "</style>\n",
       "<table border=\"1\" class=\"dataframe\">\n",
       "  <thead>\n",
       "    <tr style=\"text-align: right;\">\n",
       "      <th></th>\n",
       "      <th>Name</th>\n",
       "      <th>DIN</th>\n",
       "      <th>Designation</th>\n",
       "      <th>Appointment Date</th>\n",
       "      <th>Capitalization (₹. Lakhs)</th>\n",
       "      <th>Total Directorships</th>\n",
       "      <th>Disqualified u/s 164(2)</th>\n",
       "      <th>DIN Deactivated</th>\n",
       "    </tr>\n",
       "  </thead>\n",
       "  <tbody>\n",
       "    <tr>\n",
       "      <th>0</th>\n",
       "      <td>Ashok Kumar Phulwari</td>\n",
       "      <td>03453674</td>\n",
       "      <td>Director</td>\n",
       "      <td>14-03-2011</td>\n",
       "      <td>₹14.00</td>\n",
       "      <td>14</td>\n",
       "      <td>No</td>\n",
       "      <td>No</td>\n",
       "    </tr>\n",
       "    <tr>\n",
       "      <th>1</th>\n",
       "      <td>Bachan Singh</td>\n",
       "      <td>03453735</td>\n",
       "      <td>Director</td>\n",
       "      <td>14-03-2011</td>\n",
       "      <td>₹10.00</td>\n",
       "      <td>10</td>\n",
       "      <td>No</td>\n",
       "      <td>Yes</td>\n",
       "    </tr>\n",
       "  </tbody>\n",
       "</table>\n",
       "</div>"
      ],
      "text/plain": [
       "                   Name       DIN Designation Appointment Date  \\\n",
       "0  Ashok Kumar Phulwari  03453674    Director       14-03-2011   \n",
       "1          Bachan Singh  03453735    Director       14-03-2011   \n",
       "\n",
       "  Capitalization (₹. Lakhs) Total Directorships Disqualified u/s 164(2)  \\\n",
       "0                    ₹14.00                  14                      No   \n",
       "1                    ₹10.00                  10                      No   \n",
       "\n",
       "  DIN Deactivated  \n",
       "0              No  \n",
       "1             Yes  "
      ]
     },
     "execution_count": 95,
     "metadata": {},
     "output_type": "execute_result"
    }
   ],
   "source": [
    "df_director"
   ]
  },
  {
   "cell_type": "code",
   "execution_count": 96,
   "metadata": {},
   "outputs": [],
   "source": [
    "#save into csv\n",
    "df_director.to_csv(\"C:\\\\DataSets\\\\CreditAnalysis\\\\director_details.csv\")"
   ]
  },
  {
   "cell_type": "code",
   "execution_count": 97,
   "metadata": {},
   "outputs": [],
   "source": [
    "driver.close()"
   ]
  },
  {
   "cell_type": "code",
   "execution_count": null,
   "metadata": {},
   "outputs": [],
   "source": []
  }
 ],
 "metadata": {
  "kernelspec": {
   "display_name": "Python 3",
   "language": "python",
   "name": "python3"
  },
  "language_info": {
   "codemirror_mode": {
    "name": "ipython",
    "version": 3
   },
   "file_extension": ".py",
   "mimetype": "text/x-python",
   "name": "python",
   "nbconvert_exporter": "python",
   "pygments_lexer": "ipython3",
   "version": "3.6.8"
  }
 },
 "nbformat": 4,
 "nbformat_minor": 2
}
