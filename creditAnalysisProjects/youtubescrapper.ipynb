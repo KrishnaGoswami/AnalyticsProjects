{
 "cells": [
  {
   "cell_type": "code",
   "execution_count": 1,
   "metadata": {},
   "outputs": [],
   "source": [
    "import time\n",
    "import json\n",
    "from selenium import webdriver\n",
    "from selenium.webdriver.common.keys import Keys"
   ]
  },
  {
   "cell_type": "code",
   "execution_count": 2,
   "metadata": {},
   "outputs": [],
   "source": [
    "driver = webdriver.Chrome('C:\\\\chromedriver\\\\chromedriver.exe')"
   ]
  },
  {
   "cell_type": "code",
   "execution_count": 4,
   "metadata": {},
   "outputs": [],
   "source": [
    "url = \"https://www.youtube.com/watch?v=9uH7_7SG7cw\""
   ]
  },
  {
   "cell_type": "code",
   "execution_count": 5,
   "metadata": {},
   "outputs": [],
   "source": [
    "driver.get(url)"
   ]
  },
  {
   "cell_type": "code",
   "execution_count": 6,
   "metadata": {},
   "outputs": [],
   "source": [
    "#reference url is\n",
    "#https://github.com/martin-martin/scrape-youtube-comments/blob/master/collect_comments.py"
   ]
  },
  {
   "cell_type": "code",
   "execution_count": 7,
   "metadata": {},
   "outputs": [],
   "source": [
    "time.sleep(2) # give the page some time to load"
   ]
  },
  {
   "cell_type": "code",
   "execution_count": 8,
   "metadata": {},
   "outputs": [
    {
     "name": "stdout",
     "output_type": "stream",
     "text": [
      "Redmi Note 6 Pro Detailed Camera Review\n"
     ]
    }
   ],
   "source": [
    "# get the video's title\n",
    "title = driver.find_element_by_xpath('//*[@id=\"container\"]/h1/yt-formatted-string').text\n",
    "print(title)"
   ]
  },
  {
   "cell_type": "code",
   "execution_count": 9,
   "metadata": {},
   "outputs": [],
   "source": [
    "# --------------- LOAD ALL COMMENTS ---------------\n",
    "# defining the numbers here so we can reference and easily change them\n",
    "SCROLL_PAUSE_TIME = 2\n",
    "CYCLES = 7"
   ]
  },
  {
   "cell_type": "code",
   "execution_count": 10,
   "metadata": {},
   "outputs": [],
   "source": [
    "# we know there's always exactly one HTML element, so let's access it\n",
    "html = driver.find_element_by_tag_name('html')\n",
    "# first time needs to not jump to the very end in order to start\n",
    "html.send_keys(Keys.PAGE_DOWN)  # doing it twice for good measure\n",
    "html.send_keys(Keys.PAGE_DOWN)  # one time sometimes wasn't enough\n",
    "# adding extra time for initial comments to load\n",
    "# if they fail (because too little time allowed), the whole script breaks\n",
    "time.sleep(SCROLL_PAUSE_TIME * 3)"
   ]
  },
  {
   "cell_type": "code",
   "execution_count": 11,
   "metadata": {},
   "outputs": [],
   "source": [
    "# and now for loading the hidden comments by scrolling down and up\n",
    "for i in range(CYCLES):\n",
    "    html.send_keys(Keys.END)\n",
    "    time.sleep(SCROLL_PAUSE_TIME)"
   ]
  },
  {
   "cell_type": "code",
   "execution_count": 12,
   "metadata": {},
   "outputs": [],
   "source": [
    "# --------------- GETTING THE COMMENT TEXTS ---------------\n",
    "comment_elems = driver.find_elements_by_xpath('//*[@id=\"content-text\"]')\n",
    "# pprint(comment_elems)  # for double-checking\n",
    "all_comments = [elem.text for elem in comment_elems]"
   ]
  },
  {
   "cell_type": "code",
   "execution_count": 14,
   "metadata": {},
   "outputs": [],
   "source": [
    "# --------------- WRITING TO OUTPUT FILE ---------------\n",
    "with open('C:\\\\DataSets\\\\CreditAnalysis\\\\yt_comments.json', 'w') as f:\n",
    "    json.dump(all_comments, f)"
   ]
  },
  {
   "cell_type": "code",
   "execution_count": 15,
   "metadata": {},
   "outputs": [],
   "source": [
    "# close the browser\n",
    "driver.close()"
   ]
  },
  {
   "cell_type": "code",
   "execution_count": null,
   "metadata": {},
   "outputs": [],
   "source": []
  }
 ],
 "metadata": {
  "kernelspec": {
   "display_name": "Python 3",
   "language": "python",
   "name": "python3"
  },
  "language_info": {
   "codemirror_mode": {
    "name": "ipython",
    "version": 3
   },
   "file_extension": ".py",
   "mimetype": "text/x-python",
   "name": "python",
   "nbconvert_exporter": "python",
   "pygments_lexer": "ipython3",
   "version": "3.6.8"
  }
 },
 "nbformat": 4,
 "nbformat_minor": 2
}
