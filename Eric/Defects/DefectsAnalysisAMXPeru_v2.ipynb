{
 "cells": [
  {
   "cell_type": "code",
   "execution_count": 676,
   "metadata": {},
   "outputs": [],
   "source": [
    "import pandas as pd\n",
    "import numpy as np\n",
    "import matplotlib.pyplot as plt\n",
    "from sklearn.model_selection import train_test_split"
   ]
  },
  {
   "cell_type": "code",
   "execution_count": 677,
   "metadata": {},
   "outputs": [],
   "source": [
    "from IPython.core.interactiveshell import InteractiveShell\n",
    "InteractiveShell.ast_node_interactivity = \"all\""
   ]
  },
  {
   "cell_type": "code",
   "execution_count": 678,
   "metadata": {},
   "outputs": [],
   "source": [
    "defects_orig = pd.read_excel(\"C:\\\\DataSets\\\\Ericsson\\\\Defects\\\\Defects_AMX_Peru.xlsx\", encoding = \"ISO-8859-1\", parse_dates=['Creation Date'])"
   ]
  },
  {
   "cell_type": "code",
   "execution_count": 679,
   "metadata": {},
   "outputs": [
    {
     "data": {
      "text/plain": [
       "(1516, 36)"
      ]
     },
     "execution_count": 679,
     "metadata": {},
     "output_type": "execute_result"
    }
   ],
   "source": [
    "defects_orig.shape"
   ]
  },
  {
   "cell_type": "code",
   "execution_count": 802,
   "metadata": {},
   "outputs": [],
   "source": [
    "defects = defects_orig.copy(deep = True)"
   ]
  },
  {
   "cell_type": "code",
   "execution_count": 803,
   "metadata": {},
   "outputs": [
    {
     "name": "stdout",
     "output_type": "stream",
     "text": [
      "<class 'pandas.core.frame.DataFrame'>\n",
      "RangeIndex: 1516 entries, 0 to 1515\n",
      "Data columns (total 36 columns):\n",
      "Type                         1516 non-null object\n",
      "Id                           1516 non-null int64\n",
      "Status                       1516 non-null object\n",
      "Development Status           558 non-null object\n",
      "Priority                     1516 non-null object\n",
      "Severity                     1516 non-null object\n",
      "Due Date                     1323 non-null datetime64[ns]\n",
      "Filed Against                1516 non-null object\n",
      "Found In                     1516 non-null object\n",
      "Approvals                    0 non-null float64\n",
      "Archived                     1516 non-null bool\n",
      "BUC                          784 non-null object\n",
      "CRM - Catalog Sync           0 non-null float64\n",
      "Country Affected             3 non-null object\n",
      "Created By                   1516 non-null object\n",
      "Creation Date                1516 non-null datetime64[ns]\n",
      "Defect Type                  1516 non-null object\n",
      "Detection Phase              1516 non-null object\n",
      "Duplicated By                23 non-null object\n",
      "Market Segmentation          564 non-null object\n",
      "Modified By                  1516 non-null object\n",
      "Modified Date                1516 non-null datetime64[ns]\n",
      "Owned By                     1516 non-null object\n",
      "Planned For                  1516 non-null object\n",
      "Product Defect               1516 non-null bool\n",
      "Project Area                 1516 non-null object\n",
      "Reopen Counter               1516 non-null int64\n",
      "Reopen Date                  329 non-null datetime64[ns]\n",
      "Resolution                   1254 non-null object\n",
      "Resolution Date              1246 non-null datetime64[ns]\n",
      "Resolved By (Contributor)    1516 non-null object\n",
      "Restricted Access            1516 non-null object\n",
      "Root Cause Analysis          1516 non-null object\n",
      "Subscribed By                1516 non-null object\n",
      "System Affected              978 non-null object\n",
      "Technology                   991 non-null object\n",
      "dtypes: bool(2), datetime64[ns](5), float64(2), int64(2), object(25)\n",
      "memory usage: 405.7+ KB\n"
     ]
    }
   ],
   "source": [
    "defects.info()"
   ]
  },
  {
   "cell_type": "code",
   "execution_count": 804,
   "metadata": {},
   "outputs": [
    {
     "data": {
      "text/plain": [
       "Type                            0\n",
       "Id                              0\n",
       "Status                          0\n",
       "Development Status            958\n",
       "Priority                        0\n",
       "Severity                        0\n",
       "Due Date                      193\n",
       "Filed Against                   0\n",
       "Found In                        0\n",
       "Approvals                    1516\n",
       "Archived                        0\n",
       "BUC                           732\n",
       "CRM - Catalog Sync           1516\n",
       "Country Affected             1513\n",
       "Created By                      0\n",
       "Creation Date                   0\n",
       "Defect Type                     0\n",
       "Detection Phase                 0\n",
       "Duplicated By                1493\n",
       "Market Segmentation           952\n",
       "Modified By                     0\n",
       "Modified Date                   0\n",
       "Owned By                        0\n",
       "Planned For                     0\n",
       "Product Defect                  0\n",
       "Project Area                    0\n",
       "Reopen Counter                  0\n",
       "Reopen Date                  1187\n",
       "Resolution                    262\n",
       "Resolution Date               270\n",
       "Resolved By (Contributor)       0\n",
       "Restricted Access               0\n",
       "Root Cause Analysis             0\n",
       "Subscribed By                   0\n",
       "System Affected               538\n",
       "Technology                    525\n",
       "dtype: int64"
      ]
     },
     "execution_count": 804,
     "metadata": {},
     "output_type": "execute_result"
    }
   ],
   "source": [
    "pd.isnull(defects).sum()"
   ]
  },
  {
   "cell_type": "code",
   "execution_count": 805,
   "metadata": {},
   "outputs": [],
   "source": [
    "#consider only TCRM  and Closed defects"
   ]
  },
  {
   "cell_type": "code",
   "execution_count": 806,
   "metadata": {},
   "outputs": [],
   "source": [
    "condition = ['TCRM', 'TCRM Translation', 'Migration TCRM', 'TCRM Cosmetic']"
   ]
  },
  {
   "cell_type": "code",
   "execution_count": 807,
   "metadata": {},
   "outputs": [],
   "source": [
    "df_tcrm = defects[defects['Filed Against'].isin(condition)]"
   ]
  },
  {
   "cell_type": "code",
   "execution_count": 808,
   "metadata": {},
   "outputs": [
    {
     "data": {
      "text/plain": [
       "(899, 36)"
      ]
     },
     "execution_count": 808,
     "metadata": {},
     "output_type": "execute_result"
    }
   ],
   "source": [
    "df_tcrm.shape"
   ]
  },
  {
   "cell_type": "code",
   "execution_count": 809,
   "metadata": {},
   "outputs": [
    {
     "data": {
      "text/plain": [
       "TCRM                849\n",
       "TCRM Translation     35\n",
       "TCRM Cosmetic         8\n",
       "Migration TCRM        7\n",
       "Name: Filed Against, dtype: int64"
      ]
     },
     "execution_count": 809,
     "metadata": {},
     "output_type": "execute_result"
    }
   ],
   "source": [
    "df_tcrm['Filed Against'].value_counts()"
   ]
  },
  {
   "cell_type": "code",
   "execution_count": 810,
   "metadata": {},
   "outputs": [],
   "source": [
    "df_tcrm = df_tcrm[df_tcrm['Status'] == 'Closed']"
   ]
  },
  {
   "cell_type": "code",
   "execution_count": 811,
   "metadata": {},
   "outputs": [
    {
     "data": {
      "text/plain": [
       "(796, 36)"
      ]
     },
     "execution_count": 811,
     "metadata": {},
     "output_type": "execute_result"
    }
   ],
   "source": [
    "df_tcrm.shape"
   ]
  },
  {
   "cell_type": "code",
   "execution_count": 812,
   "metadata": {},
   "outputs": [],
   "source": [
    "#there are many null values or no values for the below columns, hence will be deleted"
   ]
  },
  {
   "cell_type": "code",
   "execution_count": 813,
   "metadata": {},
   "outputs": [],
   "source": [
    "cols_to_drop = ['Approvals', 'CRM - Catalog Sync', 'Country Affected']"
   ]
  },
  {
   "cell_type": "code",
   "execution_count": 814,
   "metadata": {},
   "outputs": [
    {
     "data": {
      "text/plain": [
       "array(['Defect'], dtype=object)"
      ]
     },
     "execution_count": 814,
     "metadata": {},
     "output_type": "execute_result"
    }
   ],
   "source": [
    "df_tcrm['Type'].unique()"
   ]
  },
  {
   "cell_type": "code",
   "execution_count": 815,
   "metadata": {},
   "outputs": [
    {
     "data": {
      "text/plain": [
       "array([False])"
      ]
     },
     "execution_count": 815,
     "metadata": {},
     "output_type": "execute_result"
    }
   ],
   "source": [
    "df_tcrm['Archived'].unique()"
   ]
  },
  {
   "cell_type": "code",
   "execution_count": 816,
   "metadata": {},
   "outputs": [
    {
     "data": {
      "text/plain": [
       "0    796\n",
       "Name: Reopen Counter, dtype: int64"
      ]
     },
     "execution_count": 816,
     "metadata": {},
     "output_type": "execute_result"
    }
   ],
   "source": [
    "df_tcrm['Reopen Counter'].value_counts()"
   ]
  },
  {
   "cell_type": "code",
   "execution_count": 817,
   "metadata": {},
   "outputs": [
    {
     "data": {
      "text/plain": [
       "Unassigned    796\n",
       "Name: Defect Type, dtype: int64"
      ]
     },
     "execution_count": 817,
     "metadata": {},
     "output_type": "execute_result"
    }
   ],
   "source": [
    "df_tcrm['Defect Type'].value_counts()"
   ]
  },
  {
   "cell_type": "code",
   "execution_count": 818,
   "metadata": {},
   "outputs": [
    {
     "data": {
      "text/plain": [
       "RLAM_CSI_OBS_AMX_ONE_PERU    796\n",
       "Name: Restricted Access, dtype: int64"
      ]
     },
     "execution_count": 818,
     "metadata": {},
     "output_type": "execute_result"
    }
   ],
   "source": [
    "df_tcrm['Restricted Access'].value_counts()"
   ]
  },
  {
   "cell_type": "code",
   "execution_count": 819,
   "metadata": {},
   "outputs": [],
   "source": [
    "#The columns Type, Archived, Reopen Counter, Defect Type, Restricted Access can be dropped, as it has single value"
   ]
  },
  {
   "cell_type": "code",
   "execution_count": 820,
   "metadata": {},
   "outputs": [],
   "source": [
    "cols_to_drop = ['Approvals', 'CRM - Catalog Sync', 'Country Affected', 'Type', 'Archived', 'Reopen Counter',\n",
    "               'Defect Type', 'Restricted Access']"
   ]
  },
  {
   "cell_type": "code",
   "execution_count": 821,
   "metadata": {
    "scrolled": true
   },
   "outputs": [
    {
     "data": {
      "text/plain": [
       "Closed    796\n",
       "Name: Status, dtype: int64"
      ]
     },
     "execution_count": 821,
     "metadata": {},
     "output_type": "execute_result"
    }
   ],
   "source": [
    "df_tcrm['Status'].value_counts()"
   ]
  },
  {
   "cell_type": "code",
   "execution_count": 822,
   "metadata": {},
   "outputs": [
    {
     "data": {
      "text/plain": [
       "TCRM                752\n",
       "TCRM Translation     29\n",
       "TCRM Cosmetic         8\n",
       "Migration TCRM        7\n",
       "Name: Filed Against, dtype: int64"
      ]
     },
     "execution_count": 822,
     "metadata": {},
     "output_type": "execute_result"
    }
   ],
   "source": [
    "df_tcrm['Filed Against'].value_counts()"
   ]
  },
  {
   "cell_type": "code",
   "execution_count": 823,
   "metadata": {},
   "outputs": [
    {
     "data": {
      "text/plain": [
       "Intrastack Testing                     605\n",
       "System Testing (Development Only)      117\n",
       "System Integration Testing              48\n",
       "Sanity                                  11\n",
       "Unit Testing (Development Only)          4\n",
       "Post Production Support                  3\n",
       "Regression Testing                       2\n",
       "Intrastack Testing - Ofers               2\n",
       "Intrastack Testing - Flujos              2\n",
       "Intrastack Testing - Datos Migrados      1\n",
       "Funcional                                1\n",
       "Name: Detection Phase, dtype: int64"
      ]
     },
     "execution_count": 823,
     "metadata": {},
     "output_type": "execute_result"
    }
   ],
   "source": [
    "df_tcrm['Detection Phase'].value_counts()"
   ]
  },
  {
   "cell_type": "code",
   "execution_count": 824,
   "metadata": {},
   "outputs": [
    {
     "data": {
      "text/plain": [
       "TCRM                752\n",
       "TCRM Translation     29\n",
       "TCRM Cosmetic         8\n",
       "Migration TCRM        7\n",
       "Name: Filed Against, dtype: int64"
      ]
     },
     "execution_count": 824,
     "metadata": {},
     "output_type": "execute_result"
    }
   ],
   "source": [
    "df_tcrm['Filed Against'].value_counts()"
   ]
  },
  {
   "cell_type": "code",
   "execution_count": 825,
   "metadata": {},
   "outputs": [],
   "source": [
    "cols_to_drop = ['Approvals', 'CRM - Catalog Sync', 'Country Affected', 'Type', 'Archived', 'Reopen Counter',\n",
    "               'Defect Type', 'Restricted Access', 'Filed Against']"
   ]
  },
  {
   "cell_type": "code",
   "execution_count": 826,
   "metadata": {},
   "outputs": [
    {
     "data": {
      "text/plain": [
       "#37113    2\n",
       "#39809    1\n",
       "#32339    1\n",
       "#28667    1\n",
       "#35935    1\n",
       "#41635    1\n",
       "#38227    1\n",
       "#34053    1\n",
       "#36383    1\n",
       "#26597    1\n",
       "#40350    1\n",
       "#27053    1\n",
       "#33768    1\n",
       "Name: Duplicated By, dtype: int64"
      ]
     },
     "execution_count": 826,
     "metadata": {},
     "output_type": "execute_result"
    }
   ],
   "source": [
    "df_tcrm['Duplicated By'].value_counts()"
   ]
  },
  {
   "cell_type": "code",
   "execution_count": 827,
   "metadata": {},
   "outputs": [],
   "source": [
    "#Duplicated By has only few entries, hence can be deleted"
   ]
  },
  {
   "cell_type": "code",
   "execution_count": 828,
   "metadata": {},
   "outputs": [
    {
     "data": {
      "text/plain": [
       "Consumer    329\n",
       "Name: Market Segmentation, dtype: int64"
      ]
     },
     "execution_count": 828,
     "metadata": {},
     "output_type": "execute_result"
    }
   ],
   "source": [
    "df_tcrm['Market Segmentation'].value_counts()"
   ]
  },
  {
   "cell_type": "code",
   "execution_count": 829,
   "metadata": {},
   "outputs": [
    {
     "data": {
      "text/plain": [
       "Unassigned    796\n",
       "Name: Planned For, dtype: int64"
      ]
     },
     "execution_count": 829,
     "metadata": {},
     "output_type": "execute_result"
    }
   ],
   "source": [
    "df_tcrm['Planned For'].value_counts()"
   ]
  },
  {
   "cell_type": "code",
   "execution_count": 830,
   "metadata": {},
   "outputs": [
    {
     "data": {
      "text/plain": [
       "False    796\n",
       "Name: Product Defect, dtype: int64"
      ]
     },
     "execution_count": 830,
     "metadata": {},
     "output_type": "execute_result"
    }
   ],
   "source": [
    "df_tcrm['Product Defect'].value_counts()"
   ]
  },
  {
   "cell_type": "code",
   "execution_count": 831,
   "metadata": {},
   "outputs": [
    {
     "data": {
      "text/plain": [
       "RLAM_CSI_OBS_AMX_ONE_PERU    796\n",
       "Name: Project Area, dtype: int64"
      ]
     },
     "execution_count": 831,
     "metadata": {},
     "output_type": "execute_result"
    }
   ],
   "source": [
    "df_tcrm['Project Area'].value_counts()"
   ]
  },
  {
   "cell_type": "code",
   "execution_count": 832,
   "metadata": {},
   "outputs": [
    {
     "data": {
      "text/plain": [
       "Anicka Michelle Cercado                                                                                                 21\n",
       "Eduardo Chiroque                                                                                                        21\n",
       "Melissa Sandoval\\nGerardo Estrada\\nRicardo Serrudo Sánchez                                                              19\n",
       "Ana Mendez                                                                                                              18\n",
       "Sergio Briceno                                                                                                          17\n",
       "Anicka Michelle Cercado\\nGerardo Estrada                                                                                13\n",
       "Sergio Briceno\\nGerardo Estrada                                                                                         12\n",
       "Melissa Sandoval                                                                                                        11\n",
       "Felipe Assaf Alves de Sousa                                                                                             11\n",
       "Eloisa Santos\\nGerardo Estrada\\nRicardo Serrudo Sánchez                                                                 10\n",
       "Ana Mendez\\nPonraja Arumugam                                                                                             9\n",
       "Melissa Sandoval\\nGerardo Estrada                                                                                        9\n",
       "Eloisa Santos\\nGerardo Estrada                                                                                           7\n",
       "Melissa Sandoval\\nRicardo Serrudo Sánchez                                                                                7\n",
       "Anicka Michelle Cercado\\nGerardo Estrada\\nRicardo Serrudo Sánchez                                                        7\n",
       "Felipe Assaf Alves de Sousa\\nAshok Kumar\\nRicardo Serrudo Sánchez                                                        7\n",
       "Felipe Assaf Alves de Sousa\\nAshok Kumar                                                                                 7\n",
       "Cyntia Jannet Figueroa                                                                                                   6\n",
       "Eloisa Santos                                                                                                            6\n",
       "Eloisa Santos\\nRicardo Serrudo Sánchez                                                                                   6\n",
       "Eduardo Chiroque\\nRicardo Serrudo Sánchez                                                                                5\n",
       "Felipe Assaf Alves de Sousa\\nEduardo Chiroque                                                                            5\n",
       "Eduardo Chiroque\\nAlper Muminoglu\\nFelipe Assaf Alves de Sousa                                                           4\n",
       "Mirna Lorena Santos Perez\\nGerardo Estrada\\nRicardo Serrudo Sánchez                                                      4\n",
       "Raul Hoyos\\nDiptajit Mohanta\\nCyntia Jannet Figueroa\\nRicardo Serrudo Sánchez                                            4\n",
       "Katherine Velasquez\\nRicardo Serrudo Sánchez                                                                             4\n",
       "Melissa Sandoval\\nDiptajit Mohanta\\nRicardo Serrudo Sánchez                                                              4\n",
       "Eloisa Santos\\nSaulo Villalobos\\nRicardo Serrudo Sánchez                                                                 4\n",
       "Melissa Sandoval\\nSaulo Villalobos\\nRicardo Serrudo Sánchez                                                              4\n",
       "Eduardo Chiroque\\nFelipe Assaf Alves de Sousa                                                                            4\n",
       "                                                                                                                        ..\n",
       "Mirelly Arango                                                                                                           1\n",
       "Carlos Javier Estrada\\nV Sunil Hubert\\nSaulo Villalobos                                                                  1\n",
       "Felipe Assaf Alves de Sousa\\nKaushal Raj Singh\\nRicardo Serrudo Sánchez\\nFernando Custodio\\nJuan Delgado\\nAna Mendez     1\n",
       "Ana Mendez\\nNiloy Kumar Gourh\\nCarolina Acevedo\\nCyntia Jannet Figueroa                                                  1\n",
       "Felipe Assaf Alves de Sousa\\nRicardo Serrudo Sánchez\\nKaushal Raj Singh\\nAna Mendez                                      1\n",
       "Sergio Briceno\\nV Sunil Hubert\\nRicardo Serrudo Sánchez\\nMirna Lorena Santos Perez                                       1\n",
       "Eduardo Chiroque\\nKatherine Velasquez                                                                                    1\n",
       "Maria Fernanda Figueroa\\nNiloy Kumar Gourh                                                                               1\n",
       "Cyntia Jannet Figueroa\\nRicardo Serrudo Sánchez\\nSergio Briceno\\nMehmet Ozkaya                                           1\n",
       "Felipe Assaf Alves de Sousa\\nAshok Kumar\\nRicardo Serrudo Sánchez\\nKaushal Raj Singh                                     1\n",
       "Fernando Custodio\\nGerardo Estrada\\nRicardo Serrudo Sánchez\\nMelissa Sandoval\\nHaroldo Chur                              1\n",
       "Eduardo Chiroque\\nAlper Muminoglu\\nFelipe Assaf Alves de Sousa\\nCarlos Javier Estrada                                    1\n",
       "Melissa Sandoval\\nPonraja Arumugam                                                                                       1\n",
       "Felipe Assaf Alves de Sousa\\nRicardo Serrudo Sánchez\\nSergio Briceno\\nNiloy Kumar Gourh\\nOzgur Ozcan                     1\n",
       "Manolo Gramajo\\nGerardo Estrada\\nRicardo Serrudo Sánchez\\nAna Mendez                                                     1\n",
       "Felipe Assaf Alves de Sousa\\nAshok Kumar\\nRicardo Serrudo Sánchez\\nFernando Custodio                                     1\n",
       "Eduardo Chiroque\\nGerardo Estrada\\nJuan Delgado\\nCyntia Jannet Figueroa\\nCarlos Javier Estrada                           1\n",
       "Katherine Velasquez\\nDiptajit Mohanta\\nCyntia Jannet Figueroa                                                            1\n",
       "Anicka Michelle Cercado\\nMehmet Ozkaya                                                                                   1\n",
       "Felipe Assaf Alves de Sousa\\nMehmet Ozkaya\\nRicardo Serrudo Sánchez\\nGerardo Estrada\\nSergio Briceno                     1\n",
       "Eloisa Santos\\nManikandan Kathirvel\\nRicardo Serrudo Sánchez                                                             1\n",
       "Cyntia Jannet Figueroa\\nCarolina Acevedo\\nGerardo Estrada\\nAna Mendez                                                    1\n",
       "Katherine Velasquez\\nRicardo Serrudo Sánchez\\nEloisa Santos\\nNecati Kaya                                                 1\n",
       "Eloisa Santos\\nNecati Kaya\\nRicardo Serrudo Sánchez                                                                      1\n",
       "Eduardo Chiroque\\nRicardo Serrudo Sánchez\\nFelipe Assaf Alves de Sousa\\nOguzhan Akpinar\\nKatherine Velasquez             1\n",
       "Eduardo Chiroque\\nKaushal Raj Singh\\nKatherine Velasquez\\nCarlos Javier Estrada                                          1\n",
       "Maria Fernanda Figueroa                                                                                                  1\n",
       "Cyntia Jannet Figueroa\\nSaulo Villalobos\\nAna Mendez                                                                     1\n",
       "Mariana Lima da Silva\\nEloisa Santos\\nSaulo Villalobos                                                                   1\n",
       "Eduardo Chiroque\\nAnicka Michelle Cercado                                                                                1\n",
       "Name: Subscribed By, Length: 476, dtype: int64"
      ]
     },
     "execution_count": 832,
     "metadata": {},
     "output_type": "execute_result"
    }
   ],
   "source": [
    "#Subcribed By is not significant, hence we can delete it\n",
    "df_tcrm['Subscribed By'].value_counts()"
   ]
  },
  {
   "cell_type": "code",
   "execution_count": 833,
   "metadata": {},
   "outputs": [
    {
     "data": {
      "text/plain": [
       "Melissa Sandoval               108\n",
       "Ana Mendez                      84\n",
       "Eloisa Santos                   84\n",
       "Anicka Michelle Cercado         82\n",
       "Felipe Assaf Alves de Sousa     75\n",
       "Sergio Briceno                  62\n",
       "Eduardo Chiroque                55\n",
       "Cyntia Jannet Figueroa          45\n",
       "Carlos Javier Estrada           38\n",
       "Manolo Gramajo                  34\n",
       "Mirna Lorena Santos Perez       20\n",
       "Maria Fernanda Figueroa         18\n",
       "Katherine Velasquez             16\n",
       "Fernando Custodio               16\n",
       "Raul Hoyos                      14\n",
       "Mirelly Arango                  10\n",
       "Mariana Lima da Silva            7\n",
       "Aysegul Acar Gunduz              5\n",
       "Astrid Sanchez CermeÃ±o          5\n",
       "Sergio Rodriguez                 4\n",
       "Dario Guillen                    4\n",
       "Bryan Alvaro Alfaro Pinto        2\n",
       "Soumee Karmakar                  2\n",
       "Arantxa Villavicencio Paz        2\n",
       "Princess Reyes Campos            1\n",
       "Rosa Iris Velando Saavedra       1\n",
       "Martin Calagua                   1\n",
       "Haroldo Chur                     1\n",
       "Name: Resolved By (Contributor), dtype: int64"
      ]
     },
     "execution_count": 833,
     "metadata": {},
     "output_type": "execute_result"
    }
   ],
   "source": [
    "#Resolved By (Contributor) is not significant, hence can be deleted\n",
    "df_tcrm['Resolved By (Contributor)'].value_counts()"
   ]
  },
  {
   "cell_type": "code",
   "execution_count": 834,
   "metadata": {},
   "outputs": [
    {
     "data": {
      "text/plain": [
       "TCRM          558\n",
       "ERMS            8\n",
       "N/A\\nTCRM       6\n",
       "ECM             5\n",
       "EOM             4\n",
       "ERMS\\nTCRM      2\n",
       "TCRM\\nN/A       2\n",
       "EMM             1\n",
       "TCRM\\nERMS      1\n",
       "BSCS            1\n",
       "Name: System Affected, dtype: int64"
      ]
     },
     "execution_count": 834,
     "metadata": {},
     "output_type": "execute_result"
    }
   ],
   "source": [
    "#it is not signifacent, hence cen be deleted\n",
    "df_tcrm['System Affected'].value_counts()"
   ]
  },
  {
   "cell_type": "code",
   "execution_count": 835,
   "metadata": {},
   "outputs": [
    {
     "data": {
      "text/plain": [
       "Felipe Assaf Alves de Sousa    94\n",
       "Melissa Sandoval               92\n",
       "Eduardo Chiroque               90\n",
       "Anicka Michelle Cercado        87\n",
       "Ana Mendez                     74\n",
       "Sergio Briceno                 72\n",
       "Eloisa Santos                  71\n",
       "Cyntia Jannet Figueroa         35\n",
       "Carlos Javier Estrada          27\n",
       "Manolo Gramajo                 26\n",
       "Katherine Velasquez            20\n",
       "Mirna Lorena Santos Perez      20\n",
       "Raul Hoyos                     17\n",
       "Maria Fernanda Figueroa        12\n",
       "Aysegul Acar Gunduz            10\n",
       "Fernando Custodio               8\n",
       "Mirelly Arango                  7\n",
       "Arantxa Villavicencio Paz       7\n",
       "Mariana Lima da Silva           6\n",
       "Astrid Sanchez CermeÃ±o         5\n",
       "Soumee Karmakar                 4\n",
       "Gerardo Estrada                 4\n",
       "Sergio Rodriguez                2\n",
       "Princess Reyes Campos           2\n",
       "Rosa Iris Velando Saavedra      1\n",
       "Dennis Hingueros                1\n",
       "Martin Calagua                  1\n",
       "Rafael  Lopes da Silva          1\n",
       "Name: Created By, dtype: int64"
      ]
     },
     "execution_count": 835,
     "metadata": {},
     "output_type": "execute_result"
    },
    {
     "data": {
      "text/plain": [
       "Melissa Sandoval               108\n",
       "Ana Mendez                      84\n",
       "Eloisa Santos                   84\n",
       "Anicka Michelle Cercado         81\n",
       "Felipe Assaf Alves de Sousa     75\n",
       "Sergio Briceno                  62\n",
       "Eduardo Chiroque                55\n",
       "Cyntia Jannet Figueroa          45\n",
       "Carlos Javier Estrada           38\n",
       "Manolo Gramajo                  34\n",
       "Mirna Lorena Santos Perez       20\n",
       "Maria Fernanda Figueroa         18\n",
       "Katherine Velasquez             16\n",
       "Fernando Custodio               16\n",
       "Raul Hoyos                      14\n",
       "Mirelly Arango                  10\n",
       "Mariana Lima da Silva            7\n",
       "Aysegul Acar Gunduz              5\n",
       "Astrid Sanchez CermeÃ±o          5\n",
       "Sergio Rodriguez                 4\n",
       "Dario Guillen                    4\n",
       "Bryan Alvaro Alfaro Pinto        2\n",
       "Soumee Karmakar                  2\n",
       "Arantxa Villavicencio Paz        2\n",
       "Princess Reyes Campos            1\n",
       "qm_user                          1\n",
       "Rosa Iris Velando Saavedra       1\n",
       "Martin Calagua                   1\n",
       "Haroldo Chur                     1\n",
       "Name: Modified By, dtype: int64"
      ]
     },
     "execution_count": 835,
     "metadata": {},
     "output_type": "execute_result"
    },
    {
     "data": {
      "text/plain": [
       "Mariana Lima da Silva          115\n",
       "Eloisa Santos                   84\n",
       "Cyntia Jannet Figueroa          69\n",
       "Ana Mendez                      61\n",
       "Anicka Michelle Cercado         59\n",
       "Felipe Assaf Alves de Sousa     59\n",
       "Eduardo Chiroque                55\n",
       "Melissa Sandoval                51\n",
       "Sergio Briceno                  40\n",
       "Katherine Velasquez             36\n",
       "Carlos Javier Estrada           25\n",
       "Manolo Gramajo                  21\n",
       "Mirna Lorena Santos Perez       16\n",
       "Carolina Acevedo                14\n",
       "Juan Delgado                    10\n",
       "Mirelly Arango                  10\n",
       "Arindam Ganguli                  8\n",
       "Maria Fernanda Figueroa          8\n",
       "Raul Hoyos                       6\n",
       "Ricardo Serrudo Sánchez          6\n",
       "Astrid Sanchez CermeÃ±o          4\n",
       "Aysegul Acar Gunduz              4\n",
       "Arantxa Villavicencio Paz        3\n",
       "Sergio Rodriguez                 3\n",
       "Saurabh Purohit                  3\n",
       "Ponraja Arumugam                 2\n",
       "Bryan Alvaro Alfaro Pinto        2\n",
       "Fabian Carrillo                  2\n",
       "Soumee Karmakar                  2\n",
       "Fernando Custodio                2\n",
       "Niloy Kumar Gourh                2\n",
       "Aswathy B Nair                   1\n",
       "Rosa Iris Velando Saavedra       1\n",
       "Oguzhan Akpinar                  1\n",
       "Gerardo Estrada                  1\n",
       "Haroldo Chur                     1\n",
       "John Moreno                      1\n",
       "Ashok Kumar                      1\n",
       "Juan Avalos                      1\n",
       "Mehmet Ozkaya                    1\n",
       "Martin Calagua                   1\n",
       "Selim Arslan                     1\n",
       "Cleyton Vasconcelos              1\n",
       "Necati Kaya                      1\n",
       "Princess Reyes Campos            1\n",
       "Name: Owned By, dtype: int64"
      ]
     },
     "execution_count": 835,
     "metadata": {},
     "output_type": "execute_result"
    }
   ],
   "source": [
    "#these columns are not significant, hence can be deleted\n",
    "df_tcrm['Created By'].value_counts()\n",
    "df_tcrm['Modified By'].value_counts()\n",
    "df_tcrm['Owned By'].value_counts()"
   ]
  },
  {
   "cell_type": "code",
   "execution_count": 836,
   "metadata": {},
   "outputs": [],
   "source": [
    "#as of now delete reopen date we will analyze later"
   ]
  },
  {
   "cell_type": "code",
   "execution_count": 837,
   "metadata": {},
   "outputs": [],
   "source": [
    "cols_to_drop = ['Approvals', 'CRM - Catalog Sync', 'Country Affected', 'Type', 'Archived', 'Reopen Counter',\n",
    "               'Defect Type', 'Restricted Access', 'Filed Against', 'Duplicated By', 'Market Segmentation',\n",
    "                'Planned For', 'Product Defect', 'Project Area', 'Subscribed By', 'Resolved By (Contributor)',\n",
    "               'System Affected', 'Status', 'Created By', 'Modified By', 'Owned By', 'Reopen Date' ]"
   ]
  },
  {
   "cell_type": "code",
   "execution_count": 838,
   "metadata": {},
   "outputs": [
    {
     "data": {
      "text/plain": [
       "MOBILE POST PAID                   462\n",
       "HFC                                 71\n",
       "LFI                                 18\n",
       "MOBILE POST PAID\\nHFC                2\n",
       "MOBILE POST PAID\\nMOBILE HYBRID      2\n",
       "MOBILE HYBRID                        2\n",
       "N/A\\nMOBILE POST PAID                1\n",
       "HFC\\nMOBILE POST PAID                1\n",
       "LFI\\nHFC                             1\n",
       "N/A\\nHFC                             1\n",
       "LFI\\nMOBILE POST PAID                1\n",
       "Name: Technology, dtype: int64"
      ]
     },
     "execution_count": 838,
     "metadata": {},
     "output_type": "execute_result"
    }
   ],
   "source": [
    "df_tcrm['Technology'].value_counts()"
   ]
  },
  {
   "cell_type": "code",
   "execution_count": 839,
   "metadata": {},
   "outputs": [],
   "source": [
    "df_tcrm['Technology'].fillna(\"Not Available\", inplace = True)"
   ]
  },
  {
   "cell_type": "code",
   "execution_count": 840,
   "metadata": {},
   "outputs": [
    {
     "data": {
      "text/plain": [
       "MOBILE POST PAID                   462\n",
       "Not Available                      234\n",
       "HFC                                 71\n",
       "LFI                                 18\n",
       "MOBILE POST PAID\\nHFC                2\n",
       "MOBILE POST PAID\\nMOBILE HYBRID      2\n",
       "MOBILE HYBRID                        2\n",
       "N/A\\nMOBILE POST PAID                1\n",
       "HFC\\nMOBILE POST PAID                1\n",
       "LFI\\nHFC                             1\n",
       "N/A\\nHFC                             1\n",
       "LFI\\nMOBILE POST PAID                1\n",
       "Name: Technology, dtype: int64"
      ]
     },
     "execution_count": 840,
     "metadata": {},
     "output_type": "execute_result"
    }
   ],
   "source": [
    "df_tcrm_tech = df_tcrm['Technology'].value_counts()\n",
    "df_tcrm_tech"
   ]
  },
  {
   "cell_type": "code",
   "execution_count": 841,
   "metadata": {},
   "outputs": [
    {
     "data": {
      "text/plain": [
       "<Figure size 1080x576 with 0 Axes>"
      ]
     },
     "execution_count": 841,
     "metadata": {},
     "output_type": "execute_result"
    },
    {
     "data": {
      "text/plain": [
       "Text(0.5,0,'Technology')"
      ]
     },
     "execution_count": 841,
     "metadata": {},
     "output_type": "execute_result"
    },
    {
     "data": {
      "text/plain": [
       "Text(0,0.5,'Defect Count')"
      ]
     },
     "execution_count": 841,
     "metadata": {},
     "output_type": "execute_result"
    },
    {
     "data": {
      "text/plain": [
       "Text(0.5,1,'Defect Count vs Technology')"
      ]
     },
     "execution_count": 841,
     "metadata": {},
     "output_type": "execute_result"
    },
    {
     "data": {
      "text/plain": [
       "<matplotlib.axes._subplots.AxesSubplot at 0x136b60f0>"
      ]
     },
     "execution_count": 841,
     "metadata": {},
     "output_type": "execute_result"
    },
    {
     "data": {
      "image/png": "[encoded data removed]",
      "text/plain": [
       "<Figure size 1080x576 with 1 Axes>"
      ]
     },
     "metadata": {},
     "output_type": "display_data"
    }
   ],
   "source": [
    "plt.figure(figsize=(15,8))\n",
    "plt.xlabel(\"Technology\")\n",
    "plt.ylabel(\"Defect Count\")\n",
    "plt.title(\"Defect Count vs Technology\")\n",
    "df_tcrm_tech.plot.bar()"
   ]
  },
  {
   "cell_type": "code",
   "execution_count": 842,
   "metadata": {},
   "outputs": [],
   "source": [
    "df_tcrm['BUC'].fillna(\"Not Available\", inplace = True)"
   ]
  },
  {
   "cell_type": "code",
   "execution_count": 843,
   "metadata": {},
   "outputs": [
    {
     "data": {
      "text/plain": [
       "Not Available                                                                    379\n",
       "BUC 053 - Claro Case Management                                                   90\n",
       "BUC 006 - New Subscription - Order Capture and Fulfillment                        49\n",
       "BUC 052 - Generic Case Flow ( Not Regulated)                                      35\n",
       "BUC 062 - OST Presencial                                                          27\n",
       "BUC 097A - Advanced Payment BI                                                    14\n",
       "BUC 076 - Cease Subscription                                                      10\n",
       "BUC 049 - Change Ownership Between Consumer Customers                             10\n",
       "BUC 060 - Individual Adjustments BI                                                8\n",
       "BUC 100 - Direct Debit Affiliation BI                                              8\n",
       "BUC 079 - Barring / Unbarring Order Capture and Fulfillment                        7\n",
       "BUC 067 - Change Plan Order Capture                                                7\n",
       "BUC 074A - Consumer Modify Subscription Order Capture                              7\n",
       "BUC 006F - Configure services and resources                                        7\n",
       "BUC 020 - Create or Modify Connection                                              6\n",
       "BUC 136 - Contact Bulk Creation                                                    6\n",
       "BUC 019 - Modify Customer Demographics                                             6\n",
       "BUC 006C - Search/Select product offerings                                         6\n",
       "BUC 001 - Contact Creation                                                         5\n",
       "BUC 094 - Consumer Renew Order Capture and Fulfillment                             5\n",
       "BUC 099 - Refund BI                                                                5\n",
       "BUC 086 - Suspend Subscription Order                                               5\n",
       "BUC 006K - NPlay                                                                   5\n",
       "BUC 144 - Security and Audit Control                                               5\n",
       "BUC 084 - Change Number Order Capture and Fulfillment                              5\n",
       "BUC 006E - Credit evaluation - Consumer                                            4\n",
       "BUC 069 - Block/Unblock Order Capture and Fulfillment                              4\n",
       "BUC 097C - Document Payment BI                                                     4\n",
       "BUC 025 - Create or Modify Billing Account                                         4\n",
       "BUC 070 - Change SIM Card Order Capture and Fulfillment                            4\n",
       "                                                                                ... \n",
       "BUC 043 - Generate and get document approval (CRM)                                 2\n",
       "BUC 112 - Equipment Retrieval Request                                              2\n",
       "BUC 073 - Change Device BI                                                         2\n",
       "BUC 035 - Extend Credit Limit                                                      2\n",
       "BUC 015 - Generic Inquiry                                                          2\n",
       "BUC 106 - Money Transfer                                                           2\n",
       "BUC 071 - Resume Order Capture and Fulfillment                                     2\n",
       "BUC 039D - 360 view: Monetary Transactions                                         1\n",
       "BUC 061 - Massive Adjustments BI                                                   1\n",
       "BUC 139 - Appointment Schedule (CRM)                                               1\n",
       "BUC 039F - 360 view: Carts                                                         1\n",
       "BUC 135 - Point Transformation                                                     1\n",
       "BUC 006L_B - Mobile Order Fulfillment with Product Delivery                        1\n",
       "BUC 039B - 360 view: Account Summary                                               1\n",
       "BUC 006B - Salesman validation                                                     1\n",
       "BUC 096 - Financial Agreement\\nN/A                                                 1\n",
       "BUC 006I - Create billing profile\\nBUC 025 - Create or Modify Billing Account      1\n",
       "BUC 031 - Cancel Order (Before PONR)                                               1\n",
       "BUC 101 - Direct Debit Modify  BI                                                  1\n",
       "Promotion                                                                          1\n",
       "BUC 039E - 360 view: Cases                                                         1\n",
       "BUC 039H - 360 view: Documents                                                     1\n",
       "BUC 050 - Retention (Churn)  Order capture and fulfillment                         1\n",
       "BUC 097B - Sales Payment BI                                                        1\n",
       "BUC 006A - Address feasibility check                                               1\n",
       "BUC 102 - Direct Debit Disaffiliation BI                                           1\n",
       "BUC 039C - 360 view: Billing and Payment                                           1\n",
       "BUC 004 - Customer Validation                                                      1\n",
       "BUC 074B - Consumer Modify Subscription Order Fulfillment                          1\n",
       "BUC 116 - Member Affiliation                                                       1\n",
       "Name: BUC, Length: 68, dtype: int64"
      ]
     },
     "execution_count": 843,
     "metadata": {},
     "output_type": "execute_result"
    }
   ],
   "source": [
    "df_tcrm['BUC'].value_counts()"
   ]
  },
  {
   "cell_type": "code",
   "execution_count": 844,
   "metadata": {},
   "outputs": [
    {
     "data": {
      "text/plain": [
       "Deployment Done in Master Dev                                                       114\n",
       "Merged To Master Dev\\nDeployment Done in Master Dev                                  99\n",
       "Merged To Master Dev                                                                 53\n",
       "Merged To Master Dev\\nDeployment Done in Master Dev\\nDeployment Done in QA           37\n",
       "Done                                                                                 30\n",
       "Done\\nDeployment Done in Master Dev                                                  29\n",
       "Deployment Done in Master Dev\\nDeployment Done in QA                                 16\n",
       "Dev Test Done                                                                        14\n",
       "Rejected                                                                             10\n",
       "On Hold                                                                               8\n",
       "Dev Test Done\\nDeployment Done in Master Dev                                          6\n",
       "Merged To Master Dev DONE                                                             5\n",
       "Merged To Master Dev DONE\\nDeployment Done in Master Dev                              4\n",
       "Done\\nDeployment Done in Master Dev\\nDeployment Done in QA                            4\n",
       "Done\\nRejected                                                                        2\n",
       "Rejected\\nDeployment Done in Master Dev                                               2\n",
       "Dev Test Done\\nDone                                                                   2\n",
       "Merged To Master Dev DONE\\nDeployment Done in Master Dev\\nDeployment Done in QA       2\n",
       "Merged done in QA                                                                     2\n",
       "Master Dev Test Done                                                                  2\n",
       "Done\\nMerged To Master Dev                                                            2\n",
       "Rejected\\nDone                                                                        1\n",
       "Done\\nMerged To Master Dev\\nDeployment Done in Master Dev\\nDeployment Done in QA      1\n",
       "Rejected\\nMaster Dev Test Done\\nDeployment Done in Master Dev                         1\n",
       "QA test done                                                                          1\n",
       "N/A\\nDone                                                                             1\n",
       "Merged To Master Dev\\nDeployment Done in Master Dev\\nRejected                         1\n",
       "Dev Test Done\\nDone\\nDeployment Done in Master Dev                                    1\n",
       "N/A\\nDeployment Done in Master Dev\\nDeployment Done in QA                             1\n",
       "Master Dev Test Done\\nDeployment Done in Master Dev\\nDeployment Done in QA            1\n",
       "Done\\nDeployment Done in Master Dev\\nRejected                                         1\n",
       "Done\\nN/A\\nDeployment Done in Master Dev                                              1\n",
       "Done\\nMerged To Master Dev\\nDeployment Done in QA                                     1\n",
       "Done\\nN/A                                                                             1\n",
       "N/A\\nMaster Dev Test Done                                                             1\n",
       "N/A\\nDeployment Done in Master Dev                                                    1\n",
       "Merged To Master Dev\\nDeployment Done in QA                                           1\n",
       "Deployment Done in QA                                                                 1\n",
       "N/A\\nMerged To Master Dev                                                             1\n",
       "Deployment Done in Master Dev\\nDone                                                   1\n",
       "N/A\\nDev Test Done                                                                    1\n",
       "Dev Test Done\\nMerged To Master Dev\\nDeployment Done in Master Dev                    1\n",
       "Name: Development Status, dtype: int64"
      ]
     },
     "execution_count": 844,
     "metadata": {},
     "output_type": "execute_result"
    }
   ],
   "source": [
    "df_tcrm['Development Status'].value_counts()"
   ]
  },
  {
   "cell_type": "code",
   "execution_count": 845,
   "metadata": {},
   "outputs": [],
   "source": [
    "df_tcrm['Development Status'].fillna(\"Not Available\", inplace = True)"
   ]
  },
  {
   "cell_type": "code",
   "execution_count": 846,
   "metadata": {},
   "outputs": [
    {
     "data": {
      "text/plain": [
       "Not Available                                                                    379\n",
       "BUC 053 - Claro Case Management                                                   90\n",
       "BUC 006 - New Subscription - Order Capture and Fulfillment                        49\n",
       "BUC 052 - Generic Case Flow ( Not Regulated)                                      35\n",
       "BUC 062 - OST Presencial                                                          27\n",
       "BUC 097A - Advanced Payment BI                                                    14\n",
       "BUC 076 - Cease Subscription                                                      10\n",
       "BUC 049 - Change Ownership Between Consumer Customers                             10\n",
       "BUC 060 - Individual Adjustments BI                                                8\n",
       "BUC 100 - Direct Debit Affiliation BI                                              8\n",
       "BUC 079 - Barring / Unbarring Order Capture and Fulfillment                        7\n",
       "BUC 067 - Change Plan Order Capture                                                7\n",
       "BUC 074A - Consumer Modify Subscription Order Capture                              7\n",
       "BUC 006F - Configure services and resources                                        7\n",
       "BUC 020 - Create or Modify Connection                                              6\n",
       "BUC 136 - Contact Bulk Creation                                                    6\n",
       "BUC 019 - Modify Customer Demographics                                             6\n",
       "BUC 006C - Search/Select product offerings                                         6\n",
       "BUC 001 - Contact Creation                                                         5\n",
       "BUC 094 - Consumer Renew Order Capture and Fulfillment                             5\n",
       "BUC 099 - Refund BI                                                                5\n",
       "BUC 086 - Suspend Subscription Order                                               5\n",
       "BUC 006K - NPlay                                                                   5\n",
       "BUC 144 - Security and Audit Control                                               5\n",
       "BUC 084 - Change Number Order Capture and Fulfillment                              5\n",
       "BUC 006E - Credit evaluation - Consumer                                            4\n",
       "BUC 069 - Block/Unblock Order Capture and Fulfillment                              4\n",
       "BUC 097C - Document Payment BI                                                     4\n",
       "BUC 025 - Create or Modify Billing Account                                         4\n",
       "BUC 070 - Change SIM Card Order Capture and Fulfillment                            4\n",
       "                                                                                ... \n",
       "BUC 043 - Generate and get document approval (CRM)                                 2\n",
       "BUC 112 - Equipment Retrieval Request                                              2\n",
       "BUC 073 - Change Device BI                                                         2\n",
       "BUC 035 - Extend Credit Limit                                                      2\n",
       "BUC 015 - Generic Inquiry                                                          2\n",
       "BUC 106 - Money Transfer                                                           2\n",
       "BUC 071 - Resume Order Capture and Fulfillment                                     2\n",
       "BUC 039D - 360 view: Monetary Transactions                                         1\n",
       "BUC 061 - Massive Adjustments BI                                                   1\n",
       "BUC 139 - Appointment Schedule (CRM)                                               1\n",
       "BUC 039F - 360 view: Carts                                                         1\n",
       "BUC 135 - Point Transformation                                                     1\n",
       "BUC 006L_B - Mobile Order Fulfillment with Product Delivery                        1\n",
       "BUC 039B - 360 view: Account Summary                                               1\n",
       "BUC 006B - Salesman validation                                                     1\n",
       "BUC 096 - Financial Agreement\\nN/A                                                 1\n",
       "BUC 006I - Create billing profile\\nBUC 025 - Create or Modify Billing Account      1\n",
       "BUC 031 - Cancel Order (Before PONR)                                               1\n",
       "BUC 101 - Direct Debit Modify  BI                                                  1\n",
       "Promotion                                                                          1\n",
       "BUC 039E - 360 view: Cases                                                         1\n",
       "BUC 039H - 360 view: Documents                                                     1\n",
       "BUC 050 - Retention (Churn)  Order capture and fulfillment                         1\n",
       "BUC 097B - Sales Payment BI                                                        1\n",
       "BUC 006A - Address feasibility check                                               1\n",
       "BUC 102 - Direct Debit Disaffiliation BI                                           1\n",
       "BUC 039C - 360 view: Billing and Payment                                           1\n",
       "BUC 004 - Customer Validation                                                      1\n",
       "BUC 074B - Consumer Modify Subscription Order Fulfillment                          1\n",
       "BUC 116 - Member Affiliation                                                       1\n",
       "Name: BUC, Length: 68, dtype: int64"
      ]
     },
     "execution_count": 846,
     "metadata": {},
     "output_type": "execute_result"
    }
   ],
   "source": [
    "df_tcrm_buc = df_tcrm['BUC'].value_counts()\n",
    "df_tcrm_buc"
   ]
  },
  {
   "cell_type": "code",
   "execution_count": 847,
   "metadata": {
    "scrolled": true
   },
   "outputs": [
    {
     "data": {
      "text/plain": [
       "Not Available                                                  379\n",
       "BUC 053 - Claro Case Management                                 90\n",
       "BUC 006 - New Subscription - Order Capture and Fulfillment      49\n",
       "BUC 052 - Generic Case Flow ( Not Regulated)                    35\n",
       "BUC 062 - OST Presencial                                        27\n",
       "BUC 097A - Advanced Payment BI                                  14\n",
       "BUC 076 - Cease Subscription                                    10\n",
       "BUC 049 - Change Ownership Between Consumer Customers           10\n",
       "BUC 060 - Individual Adjustments BI                              8\n",
       "BUC 100 - Direct Debit Affiliation BI                            8\n",
       "BUC 079 - Barring / Unbarring Order Capture and Fulfillment      7\n",
       "BUC 067 - Change Plan Order Capture                              7\n",
       "BUC 074A - Consumer Modify Subscription Order Capture            7\n",
       "BUC 006F - Configure services and resources                      7\n",
       "BUC 020 - Create or Modify Connection                            6\n",
       "Name: BUC, dtype: int64"
      ]
     },
     "execution_count": 847,
     "metadata": {},
     "output_type": "execute_result"
    }
   ],
   "source": [
    "df_tcrm_buc_head15 = df_tcrm_buc.head(15)\n",
    "df_tcrm_buc_head15"
   ]
  },
  {
   "cell_type": "code",
   "execution_count": 848,
   "metadata": {},
   "outputs": [
    {
     "data": {
      "text/plain": [
       "<Figure size 1080x576 with 0 Axes>"
      ]
     },
     "execution_count": 848,
     "metadata": {},
     "output_type": "execute_result"
    },
    {
     "data": {
      "text/plain": [
       "Text(0.5,0,'BUC')"
      ]
     },
     "execution_count": 848,
     "metadata": {},
     "output_type": "execute_result"
    },
    {
     "data": {
      "text/plain": [
       "Text(0,0.5,'Defect Count')"
      ]
     },
     "execution_count": 848,
     "metadata": {},
     "output_type": "execute_result"
    },
    {
     "data": {
      "text/plain": [
       "Text(0.5,1,'Defect Count vs BUC')"
      ]
     },
     "execution_count": 848,
     "metadata": {},
     "output_type": "execute_result"
    },
    {
     "data": {
      "text/plain": [
       "<matplotlib.axes._subplots.AxesSubplot at 0x136911d0>"
      ]
     },
     "execution_count": 848,
     "metadata": {},
     "output_type": "execute_result"
    },
    {
     "data": {
      "image/png": "[encoded data removed]",
      "text/plain": [
       "<Figure size 1080x576 with 1 Axes>"
      ]
     },
     "metadata": {},
     "output_type": "display_data"
    }
   ],
   "source": [
    "plt.figure(figsize=(15,8))\n",
    "plt.xlabel(\"BUC\")\n",
    "plt.ylabel(\"Defect Count\")\n",
    "plt.title(\"Defect Count vs BUC\")\n",
    "df_tcrm_buc_head15.plot.bar()"
   ]
  },
  {
   "cell_type": "code",
   "execution_count": 849,
   "metadata": {},
   "outputs": [],
   "source": [
    "#Fill Null Values of Due Date with Resolution Date"
   ]
  },
  {
   "cell_type": "code",
   "execution_count": 850,
   "metadata": {},
   "outputs": [],
   "source": [
    "df_tcrm['Due Date'] = np.where(df_tcrm['Due Date'].isnull(), df_tcrm['Resolution Date'], df_tcrm['Due Date'])"
   ]
  },
  {
   "cell_type": "code",
   "execution_count": 851,
   "metadata": {},
   "outputs": [
    {
     "name": "stdout",
     "output_type": "stream",
     "text": [
      "<class 'pandas.core.frame.DataFrame'>\n",
      "Int64Index: 796 entries, 28 to 1510\n",
      "Data columns (total 36 columns):\n",
      "Type                         796 non-null object\n",
      "Id                           796 non-null int64\n",
      "Status                       796 non-null object\n",
      "Development Status           796 non-null object\n",
      "Priority                     796 non-null object\n",
      "Severity                     796 non-null object\n",
      "Due Date                     796 non-null datetime64[ns]\n",
      "Filed Against                796 non-null object\n",
      "Found In                     796 non-null object\n",
      "Approvals                    0 non-null float64\n",
      "Archived                     796 non-null bool\n",
      "BUC                          796 non-null object\n",
      "CRM - Catalog Sync           0 non-null float64\n",
      "Country Affected             2 non-null object\n",
      "Created By                   796 non-null object\n",
      "Creation Date                796 non-null datetime64[ns]\n",
      "Defect Type                  796 non-null object\n",
      "Detection Phase              796 non-null object\n",
      "Duplicated By                14 non-null object\n",
      "Market Segmentation          329 non-null object\n",
      "Modified By                  796 non-null object\n",
      "Modified Date                796 non-null datetime64[ns]\n",
      "Owned By                     796 non-null object\n",
      "Planned For                  796 non-null object\n",
      "Product Defect               796 non-null bool\n",
      "Project Area                 796 non-null object\n",
      "Reopen Counter               796 non-null int64\n",
      "Reopen Date                  178 non-null datetime64[ns]\n",
      "Resolution                   796 non-null object\n",
      "Resolution Date              796 non-null datetime64[ns]\n",
      "Resolved By (Contributor)    796 non-null object\n",
      "Restricted Access            796 non-null object\n",
      "Root Cause Analysis          796 non-null object\n",
      "Subscribed By                796 non-null object\n",
      "System Affected              588 non-null object\n",
      "Technology                   796 non-null object\n",
      "dtypes: bool(2), datetime64[ns](5), float64(2), int64(2), object(25)\n",
      "memory usage: 219.2+ KB\n"
     ]
    }
   ],
   "source": [
    "df_tcrm.info()"
   ]
  },
  {
   "cell_type": "code",
   "execution_count": 852,
   "metadata": {},
   "outputs": [],
   "source": [
    "df_tcrm.drop(cols_to_drop, axis=1, inplace=True)#delete the non-required columns"
   ]
  },
  {
   "cell_type": "code",
   "execution_count": 853,
   "metadata": {},
   "outputs": [
    {
     "name": "stdout",
     "output_type": "stream",
     "text": [
      "<class 'pandas.core.frame.DataFrame'>\n",
      "Int64Index: 796 entries, 28 to 1510\n",
      "Data columns (total 14 columns):\n",
      "Id                     796 non-null int64\n",
      "Development Status     796 non-null object\n",
      "Priority               796 non-null object\n",
      "Severity               796 non-null object\n",
      "Due Date               796 non-null datetime64[ns]\n",
      "Found In               796 non-null object\n",
      "BUC                    796 non-null object\n",
      "Creation Date          796 non-null datetime64[ns]\n",
      "Detection Phase        796 non-null object\n",
      "Modified Date          796 non-null datetime64[ns]\n",
      "Resolution             796 non-null object\n",
      "Resolution Date        796 non-null datetime64[ns]\n",
      "Root Cause Analysis    796 non-null object\n",
      "Technology             796 non-null object\n",
      "dtypes: datetime64[ns](4), int64(1), object(9)\n",
      "memory usage: 93.3+ KB\n"
     ]
    }
   ],
   "source": [
    "df_tcrm.info()"
   ]
  },
  {
   "cell_type": "code",
   "execution_count": 854,
   "metadata": {},
   "outputs": [],
   "source": [
    "df_tcrm.to_csv(\"C:\\\\DataSets\\\\Ericsson\\\\Defects\\\\amx_peru_defects_modified1.csv\")"
   ]
  },
  {
   "cell_type": "code",
   "execution_count": 855,
   "metadata": {},
   "outputs": [],
   "source": [
    "#t1 = df_tcrm.where(df_tcrm['Modified Date'] != df_tcrm['Resolution Date'])"
   ]
  },
  {
   "cell_type": "code",
   "execution_count": 856,
   "metadata": {},
   "outputs": [],
   "source": [
    "t1 = df_tcrm[df_tcrm['Modified Date'] != df_tcrm['Resolution Date']]#check for how many records they are different"
   ]
  },
  {
   "cell_type": "code",
   "execution_count": 857,
   "metadata": {},
   "outputs": [
    {
     "data": {
      "text/plain": [
       "(1, 14)"
      ]
     },
     "execution_count": 857,
     "metadata": {},
     "output_type": "execute_result"
    }
   ],
   "source": [
    "t1.shape"
   ]
  },
  {
   "cell_type": "code",
   "execution_count": 858,
   "metadata": {},
   "outputs": [
    {
     "data": {
      "text/html": [
       "<div>\n",
       "<style scoped>\n",
       "    .dataframe tbody tr th:only-of-type {\n",
       "        vertical-align: middle;\n",
       "    }\n",
       "\n",
       "    .dataframe tbody tr th {\n",
       "        vertical-align: top;\n",
       "    }\n",
       "\n",
       "    .dataframe thead th {\n",
       "        text-align: right;\n",
       "    }\n",
       "</style>\n",
       "<table border=\"1\" class=\"dataframe\">\n",
       "  <thead>\n",
       "    <tr style=\"text-align: right;\">\n",
       "      <th></th>\n",
       "      <th>Id</th>\n",
       "      <th>Development Status</th>\n",
       "      <th>Priority</th>\n",
       "      <th>Severity</th>\n",
       "      <th>Due Date</th>\n",
       "      <th>Found In</th>\n",
       "      <th>BUC</th>\n",
       "      <th>Creation Date</th>\n",
       "      <th>Detection Phase</th>\n",
       "      <th>Modified Date</th>\n",
       "      <th>Resolution</th>\n",
       "      <th>Resolution Date</th>\n",
       "      <th>Root Cause Analysis</th>\n",
       "      <th>Technology</th>\n",
       "    </tr>\n",
       "  </thead>\n",
       "  <tbody>\n",
       "    <tr>\n",
       "      <th>213</th>\n",
       "      <td>41914</td>\n",
       "      <td>Not Available</td>\n",
       "      <td>High</td>\n",
       "      <td>Blocker</td>\n",
       "      <td>2019-03-26 07:30:00</td>\n",
       "      <td>DROP 2_Sprint 4</td>\n",
       "      <td>BUC 099 - Refund BI</td>\n",
       "      <td>2019-03-22 01:00:00</td>\n",
       "      <td>Intrastack Testing</td>\n",
       "      <td>2019-04-01 22:24:00</td>\n",
       "      <td>Fixed</td>\n",
       "      <td>2019-04-01 22:23:00</td>\n",
       "      <td>Not Implemented Requirement</td>\n",
       "      <td>Not Available</td>\n",
       "    </tr>\n",
       "  </tbody>\n",
       "</table>\n",
       "</div>"
      ],
      "text/plain": [
       "        Id Development Status Priority Severity            Due Date  \\\n",
       "213  41914      Not Available     High  Blocker 2019-03-26 07:30:00   \n",
       "\n",
       "            Found In                  BUC       Creation Date  \\\n",
       "213  DROP 2_Sprint 4  BUC 099 - Refund BI 2019-03-22 01:00:00   \n",
       "\n",
       "        Detection Phase       Modified Date Resolution     Resolution Date  \\\n",
       "213  Intrastack Testing 2019-04-01 22:24:00      Fixed 2019-04-01 22:23:00   \n",
       "\n",
       "             Root Cause Analysis     Technology  \n",
       "213  Not Implemented Requirement  Not Available  "
      ]
     },
     "execution_count": 858,
     "metadata": {},
     "output_type": "execute_result"
    }
   ],
   "source": [
    "t1.head()"
   ]
  },
  {
   "cell_type": "code",
   "execution_count": 859,
   "metadata": {},
   "outputs": [],
   "source": [
    "#we can remove modified date"
   ]
  },
  {
   "cell_type": "code",
   "execution_count": 860,
   "metadata": {},
   "outputs": [],
   "source": [
    "df_tcrm.drop(['Modified Date'], axis=1, inplace=True)"
   ]
  },
  {
   "cell_type": "code",
   "execution_count": 861,
   "metadata": {},
   "outputs": [
    {
     "name": "stdout",
     "output_type": "stream",
     "text": [
      "<class 'pandas.core.frame.DataFrame'>\n",
      "Int64Index: 796 entries, 28 to 1510\n",
      "Data columns (total 13 columns):\n",
      "Id                     796 non-null int64\n",
      "Development Status     796 non-null object\n",
      "Priority               796 non-null object\n",
      "Severity               796 non-null object\n",
      "Due Date               796 non-null datetime64[ns]\n",
      "Found In               796 non-null object\n",
      "BUC                    796 non-null object\n",
      "Creation Date          796 non-null datetime64[ns]\n",
      "Detection Phase        796 non-null object\n",
      "Resolution             796 non-null object\n",
      "Resolution Date        796 non-null datetime64[ns]\n",
      "Root Cause Analysis    796 non-null object\n",
      "Technology             796 non-null object\n",
      "dtypes: datetime64[ns](3), int64(1), object(9)\n",
      "memory usage: 87.1+ KB\n"
     ]
    }
   ],
   "source": [
    "df_tcrm.info()"
   ]
  },
  {
   "cell_type": "code",
   "execution_count": 862,
   "metadata": {},
   "outputs": [],
   "source": [
    "import datetime as dt"
   ]
  },
  {
   "cell_type": "code",
   "execution_count": 863,
   "metadata": {},
   "outputs": [],
   "source": [
    "#calculate aging of defects\n",
    "df_tcrm['DefectAgeInDays'] = (df_tcrm['Resolution Date'] - df_tcrm['Creation Date']).dt.days"
   ]
  },
  {
   "cell_type": "code",
   "execution_count": 864,
   "metadata": {},
   "outputs": [
    {
     "data": {
      "text/html": [
       "<div>\n",
       "<style scoped>\n",
       "    .dataframe tbody tr th:only-of-type {\n",
       "        vertical-align: middle;\n",
       "    }\n",
       "\n",
       "    .dataframe tbody tr th {\n",
       "        vertical-align: top;\n",
       "    }\n",
       "\n",
       "    .dataframe thead th {\n",
       "        text-align: right;\n",
       "    }\n",
       "</style>\n",
       "<table border=\"1\" class=\"dataframe\">\n",
       "  <thead>\n",
       "    <tr style=\"text-align: right;\">\n",
       "      <th></th>\n",
       "      <th>Id</th>\n",
       "      <th>Development Status</th>\n",
       "      <th>Priority</th>\n",
       "      <th>Severity</th>\n",
       "      <th>Due Date</th>\n",
       "      <th>Found In</th>\n",
       "      <th>BUC</th>\n",
       "      <th>Creation Date</th>\n",
       "      <th>Detection Phase</th>\n",
       "      <th>Resolution</th>\n",
       "      <th>Resolution Date</th>\n",
       "      <th>Root Cause Analysis</th>\n",
       "      <th>Technology</th>\n",
       "      <th>DefectAgeInDays</th>\n",
       "    </tr>\n",
       "  </thead>\n",
       "  <tbody>\n",
       "    <tr>\n",
       "      <th>28</th>\n",
       "      <td>43956</td>\n",
       "      <td>Not Available</td>\n",
       "      <td>Low</td>\n",
       "      <td>Medium</td>\n",
       "      <td>2019-04-14 19:00:00</td>\n",
       "      <td>DROP 2_Sprint 4</td>\n",
       "      <td>BUC 006 - New Subscription - Order Capture and...</td>\n",
       "      <td>2019-04-13 19:12:00</td>\n",
       "      <td>Intrastack Testing</td>\n",
       "      <td>Fixed</td>\n",
       "      <td>2019-04-14 23:39:00</td>\n",
       "      <td>Minor Change / Improvement</td>\n",
       "      <td>MOBILE POST PAID</td>\n",
       "      <td>1</td>\n",
       "    </tr>\n",
       "    <tr>\n",
       "      <th>29</th>\n",
       "      <td>43932</td>\n",
       "      <td>Not Available</td>\n",
       "      <td>Low</td>\n",
       "      <td>Medium</td>\n",
       "      <td>2019-04-15 19:00:00</td>\n",
       "      <td>DROP 2_Sprint 2</td>\n",
       "      <td>BUC 084 - Change Number Order Capture and Fulf...</td>\n",
       "      <td>2019-04-13 00:39:00</td>\n",
       "      <td>Intrastack Testing</td>\n",
       "      <td>Fixed</td>\n",
       "      <td>2019-04-16 01:18:00</td>\n",
       "      <td>Environment Downtime</td>\n",
       "      <td>MOBILE POST PAID</td>\n",
       "      <td>3</td>\n",
       "    </tr>\n",
       "    <tr>\n",
       "      <th>37</th>\n",
       "      <td>43807</td>\n",
       "      <td>Deployment Done in Master Dev</td>\n",
       "      <td>High</td>\n",
       "      <td>High</td>\n",
       "      <td>2019-04-16 20:00:00</td>\n",
       "      <td>DROP 2 - FIJA FUNC</td>\n",
       "      <td>BUC 006 - New Subscription - Order Capture and...</td>\n",
       "      <td>2019-04-12 00:35:00</td>\n",
       "      <td>System Testing (Development Only)</td>\n",
       "      <td>Fixed</td>\n",
       "      <td>2019-04-16 18:38:00</td>\n",
       "      <td>Minor Change / Improvement</td>\n",
       "      <td>LFI</td>\n",
       "      <td>4</td>\n",
       "    </tr>\n",
       "    <tr>\n",
       "      <th>41</th>\n",
       "      <td>43699</td>\n",
       "      <td>Deployment Done in Master Dev</td>\n",
       "      <td>High</td>\n",
       "      <td>High</td>\n",
       "      <td>2019-04-12 20:00:00</td>\n",
       "      <td>DROP 2_Sprint 4</td>\n",
       "      <td>BUC 060 - Individual Adjustments BI</td>\n",
       "      <td>2019-04-11 01:23:00</td>\n",
       "      <td>Intrastack Testing</td>\n",
       "      <td>Fixed</td>\n",
       "      <td>2019-04-16 01:13:00</td>\n",
       "      <td>Coding/Software Fault</td>\n",
       "      <td>Not Available</td>\n",
       "      <td>4</td>\n",
       "    </tr>\n",
       "    <tr>\n",
       "      <th>42</th>\n",
       "      <td>43698</td>\n",
       "      <td>Deployment Done in Master Dev</td>\n",
       "      <td>Low</td>\n",
       "      <td>Medium</td>\n",
       "      <td>2019-04-11 20:00:00</td>\n",
       "      <td>DROP 2_Sprint 3</td>\n",
       "      <td>BUC 049 - Change Ownership Between Consumer Cu...</td>\n",
       "      <td>2019-04-11 01:13:00</td>\n",
       "      <td>Intrastack Testing</td>\n",
       "      <td>Fixed</td>\n",
       "      <td>2019-04-11 20:53:00</td>\n",
       "      <td>Minor Change / Improvement</td>\n",
       "      <td>MOBILE POST PAID</td>\n",
       "      <td>0</td>\n",
       "    </tr>\n",
       "  </tbody>\n",
       "</table>\n",
       "</div>"
      ],
      "text/plain": [
       "       Id             Development Status Priority Severity  \\\n",
       "28  43956                  Not Available      Low   Medium   \n",
       "29  43932                  Not Available      Low   Medium   \n",
       "37  43807  Deployment Done in Master Dev     High     High   \n",
       "41  43699  Deployment Done in Master Dev     High     High   \n",
       "42  43698  Deployment Done in Master Dev      Low   Medium   \n",
       "\n",
       "              Due Date            Found In  \\\n",
       "28 2019-04-14 19:00:00     DROP 2_Sprint 4   \n",
       "29 2019-04-15 19:00:00     DROP 2_Sprint 2   \n",
       "37 2019-04-16 20:00:00  DROP 2 - FIJA FUNC   \n",
       "41 2019-04-12 20:00:00     DROP 2_Sprint 4   \n",
       "42 2019-04-11 20:00:00     DROP 2_Sprint 3   \n",
       "\n",
       "                                                  BUC       Creation Date  \\\n",
       "28  BUC 006 - New Subscription - Order Capture and... 2019-04-13 19:12:00   \n",
       "29  BUC 084 - Change Number Order Capture and Fulf... 2019-04-13 00:39:00   \n",
       "37  BUC 006 - New Subscription - Order Capture and... 2019-04-12 00:35:00   \n",
       "41                BUC 060 - Individual Adjustments BI 2019-04-11 01:23:00   \n",
       "42  BUC 049 - Change Ownership Between Consumer Cu... 2019-04-11 01:13:00   \n",
       "\n",
       "                      Detection Phase Resolution     Resolution Date  \\\n",
       "28                 Intrastack Testing      Fixed 2019-04-14 23:39:00   \n",
       "29                 Intrastack Testing      Fixed 2019-04-16 01:18:00   \n",
       "37  System Testing (Development Only)      Fixed 2019-04-16 18:38:00   \n",
       "41                 Intrastack Testing      Fixed 2019-04-16 01:13:00   \n",
       "42                 Intrastack Testing      Fixed 2019-04-11 20:53:00   \n",
       "\n",
       "           Root Cause Analysis        Technology  DefectAgeInDays  \n",
       "28  Minor Change / Improvement  MOBILE POST PAID                1  \n",
       "29        Environment Downtime  MOBILE POST PAID                3  \n",
       "37  Minor Change / Improvement               LFI                4  \n",
       "41       Coding/Software Fault     Not Available                4  \n",
       "42  Minor Change / Improvement  MOBILE POST PAID                0  "
      ]
     },
     "execution_count": 864,
     "metadata": {},
     "output_type": "execute_result"
    }
   ],
   "source": [
    "df_tcrm.head()"
   ]
  },
  {
   "cell_type": "code",
   "execution_count": 865,
   "metadata": {},
   "outputs": [],
   "source": [
    "#df_tcrm['DefectCreationMonth'] = df_tcrm['Creation Date'].dt.month"
   ]
  },
  {
   "cell_type": "code",
   "execution_count": 866,
   "metadata": {},
   "outputs": [],
   "source": [
    "#df_tcrm['DefectCreationYear'] = df_tcrm['Creation Date'].dt.year"
   ]
  },
  {
   "cell_type": "code",
   "execution_count": 867,
   "metadata": {},
   "outputs": [],
   "source": [
    "#we can remove creation date now\n",
    "#df_tcrm.drop(['Creation Date'], axis=1, inplace=True)"
   ]
  },
  {
   "cell_type": "code",
   "execution_count": 868,
   "metadata": {},
   "outputs": [],
   "source": [
    "#we can remove Due Date and Resolution Date\n",
    "df_tcrm.drop(['Due Date', 'Resolution Date'], axis=1, inplace=True)"
   ]
  },
  {
   "cell_type": "code",
   "execution_count": 869,
   "metadata": {},
   "outputs": [
    {
     "name": "stdout",
     "output_type": "stream",
     "text": [
      "<class 'pandas.core.frame.DataFrame'>\n",
      "Int64Index: 796 entries, 28 to 1510\n",
      "Data columns (total 12 columns):\n",
      "Id                     796 non-null int64\n",
      "Development Status     796 non-null object\n",
      "Priority               796 non-null object\n",
      "Severity               796 non-null object\n",
      "Found In               796 non-null object\n",
      "BUC                    796 non-null object\n",
      "Creation Date          796 non-null datetime64[ns]\n",
      "Detection Phase        796 non-null object\n",
      "Resolution             796 non-null object\n",
      "Root Cause Analysis    796 non-null object\n",
      "Technology             796 non-null object\n",
      "DefectAgeInDays        796 non-null int64\n",
      "dtypes: datetime64[ns](1), int64(2), object(9)\n",
      "memory usage: 80.8+ KB\n"
     ]
    }
   ],
   "source": [
    "df_tcrm.info()"
   ]
  },
  {
   "cell_type": "code",
   "execution_count": 870,
   "metadata": {},
   "outputs": [],
   "source": [
    "#we can remove Id\n",
    "#df_tcrm.drop(['Id'], axis=1, inplace=True)\n",
    "#we can remove Development Status\n",
    "df_tcrm.drop(['Development Status'], axis=1, inplace=True)"
   ]
  },
  {
   "cell_type": "code",
   "execution_count": 871,
   "metadata": {},
   "outputs": [
    {
     "name": "stdout",
     "output_type": "stream",
     "text": [
      "<class 'pandas.core.frame.DataFrame'>\n",
      "Int64Index: 796 entries, 28 to 1510\n",
      "Data columns (total 11 columns):\n",
      "Id                     796 non-null int64\n",
      "Priority               796 non-null object\n",
      "Severity               796 non-null object\n",
      "Found In               796 non-null object\n",
      "BUC                    796 non-null object\n",
      "Creation Date          796 non-null datetime64[ns]\n",
      "Detection Phase        796 non-null object\n",
      "Resolution             796 non-null object\n",
      "Root Cause Analysis    796 non-null object\n",
      "Technology             796 non-null object\n",
      "DefectAgeInDays        796 non-null int64\n",
      "dtypes: datetime64[ns](1), int64(2), object(8)\n",
      "memory usage: 74.6+ KB\n"
     ]
    }
   ],
   "source": [
    "df_tcrm.info()"
   ]
  },
  {
   "cell_type": "code",
   "execution_count": 872,
   "metadata": {},
   "outputs": [
    {
     "data": {
      "text/plain": [
       "Low       306\n",
       "High      282\n",
       "Medium    208\n",
       "Name: Priority, dtype: int64"
      ]
     },
     "execution_count": 872,
     "metadata": {},
     "output_type": "execute_result"
    }
   ],
   "source": [
    "df_tcrm_priority = df_tcrm['Priority'].value_counts()\n",
    "df_tcrm_priority"
   ]
  },
  {
   "cell_type": "code",
   "execution_count": 873,
   "metadata": {},
   "outputs": [
    {
     "data": {
      "text/plain": [
       "<Figure size 1080x576 with 0 Axes>"
      ]
     },
     "execution_count": 873,
     "metadata": {},
     "output_type": "execute_result"
    },
    {
     "data": {
      "text/plain": [
       "Text(0.5,0,'Priority')"
      ]
     },
     "execution_count": 873,
     "metadata": {},
     "output_type": "execute_result"
    },
    {
     "data": {
      "text/plain": [
       "Text(0,0.5,'Defect Count')"
      ]
     },
     "execution_count": 873,
     "metadata": {},
     "output_type": "execute_result"
    },
    {
     "data": {
      "text/plain": [
       "Text(0.5,1,'Defect Count vs Priority')"
      ]
     },
     "execution_count": 873,
     "metadata": {},
     "output_type": "execute_result"
    },
    {
     "data": {
      "text/plain": [
       "<matplotlib.axes._subplots.AxesSubplot at 0x1375d5f8>"
      ]
     },
     "execution_count": 873,
     "metadata": {},
     "output_type": "execute_result"
    },
    {
     "data": {
      "image/png": "[encoded data removed]",
      "text/plain": [
       "<Figure size 1080x576 with 1 Axes>"
      ]
     },
     "metadata": {},
     "output_type": "display_data"
    }
   ],
   "source": [
    "plt.figure(figsize=(15,8))\n",
    "plt.xlabel(\"Priority\")\n",
    "plt.ylabel(\"Defect Count\")\n",
    "plt.title(\"Defect Count vs Priority\")\n",
    "df_tcrm_priority.plot.bar()"
   ]
  },
  {
   "cell_type": "code",
   "execution_count": 874,
   "metadata": {},
   "outputs": [
    {
     "data": {
      "text/plain": [
       "Medium      496\n",
       "High        171\n",
       "Blocker      79\n",
       "Critical     38\n",
       "Minor        12\n",
       "Name: Severity, dtype: int64"
      ]
     },
     "execution_count": 874,
     "metadata": {},
     "output_type": "execute_result"
    }
   ],
   "source": [
    "df_tcrm_severity = df_tcrm['Severity'].value_counts()\n",
    "df_tcrm_severity"
   ]
  },
  {
   "cell_type": "code",
   "execution_count": 883,
   "metadata": {},
   "outputs": [
    {
     "data": {
      "text/plain": [
       "<Figure size 1080x576 with 0 Axes>"
      ]
     },
     "execution_count": 883,
     "metadata": {},
     "output_type": "execute_result"
    },
    {
     "data": {
      "text/plain": [
       "Text(0.5,0,'Severity')"
      ]
     },
     "execution_count": 883,
     "metadata": {},
     "output_type": "execute_result"
    },
    {
     "data": {
      "text/plain": [
       "Text(0,0.5,'Defect Count')"
      ]
     },
     "execution_count": 883,
     "metadata": {},
     "output_type": "execute_result"
    },
    {
     "data": {
      "text/plain": [
       "Text(0.5,1,'Defect Count vs Severity')"
      ]
     },
     "execution_count": 883,
     "metadata": {},
     "output_type": "execute_result"
    },
    {
     "data": {
      "text/plain": [
       "<matplotlib.axes._subplots.AxesSubplot at 0x149e2470>"
      ]
     },
     "execution_count": 883,
     "metadata": {},
     "output_type": "execute_result"
    },
    {
     "data": {
      "image/png": "[encoded data removed]",
      "text/plain": [
       "<Figure size 1080x576 with 1 Axes>"
      ]
     },
     "metadata": {},
     "output_type": "display_data"
    }
   ],
   "source": [
    "plt.figure(figsize=(15,8))\n",
    "plt.xlabel(\"Severity\")\n",
    "plt.ylabel(\"Defect Count\")\n",
    "plt.title(\"Defect Count vs Severity\")\n",
    "df_tcrm_severity.plot.bar()"
   ]
  },
  {
   "cell_type": "code",
   "execution_count": 876,
   "metadata": {},
   "outputs": [
    {
     "data": {
      "text/plain": [
       "DROP 2_Sprint 4        259\n",
       "DROP 2_Sprint 2        248\n",
       "DROP 2_Sprint 1        165\n",
       "DROP 2 - FIJA FUNC      88\n",
       "DROP 2_Sprint 3         22\n",
       "Integracion_interno      7\n",
       "DROP 2 - MIGRACION       5\n",
       "Bill2Bill                1\n",
       "DROP 1_1.1               1\n",
       "Name: Found In, dtype: int64"
      ]
     },
     "execution_count": 876,
     "metadata": {},
     "output_type": "execute_result"
    }
   ],
   "source": [
    "df_tcrm_found_in = df_tcrm['Found In'].value_counts()\n",
    "df_tcrm_found_in"
   ]
  },
  {
   "cell_type": "code",
   "execution_count": 882,
   "metadata": {},
   "outputs": [
    {
     "data": {
      "text/plain": [
       "<Figure size 1080x576 with 0 Axes>"
      ]
     },
     "execution_count": 882,
     "metadata": {},
     "output_type": "execute_result"
    },
    {
     "data": {
      "text/plain": [
       "Text(0.5,0,'Found In')"
      ]
     },
     "execution_count": 882,
     "metadata": {},
     "output_type": "execute_result"
    },
    {
     "data": {
      "text/plain": [
       "Text(0,0.5,'Defect Count')"
      ]
     },
     "execution_count": 882,
     "metadata": {},
     "output_type": "execute_result"
    },
    {
     "data": {
      "text/plain": [
       "Text(0.5,1,'Defect Count vs Found In')"
      ]
     },
     "execution_count": 882,
     "metadata": {},
     "output_type": "execute_result"
    },
    {
     "data": {
      "text/plain": [
       "<matplotlib.axes._subplots.AxesSubplot at 0x145630b8>"
      ]
     },
     "execution_count": 882,
     "metadata": {},
     "output_type": "execute_result"
    },
    {
     "data": {
      "image/png": "[encoded data removed]",
      "text/plain": [
       "<Figure size 1080x576 with 1 Axes>"
      ]
     },
     "metadata": {},
     "output_type": "display_data"
    }
   ],
   "source": [
    "plt.figure(figsize=(15,8))\n",
    "plt.xlabel(\"Found In\")\n",
    "plt.ylabel(\"Defect Count\")\n",
    "plt.title(\"Defect Count vs Found In\")\n",
    "df_tcrm_found_in.plot.bar()"
   ]
  },
  {
   "cell_type": "code",
   "execution_count": 878,
   "metadata": {},
   "outputs": [
    {
     "data": {
      "text/plain": [
       "Fixed        713\n",
       "Invalid       72\n",
       "Duplicate     11\n",
       "Name: Resolution, dtype: int64"
      ]
     },
     "execution_count": 878,
     "metadata": {},
     "output_type": "execute_result"
    }
   ],
   "source": [
    "df_tcrm_resolution = df_tcrm['Resolution'].value_counts()\n",
    "df_tcrm_resolution"
   ]
  },
  {
   "cell_type": "code",
   "execution_count": 881,
   "metadata": {},
   "outputs": [
    {
     "data": {
      "text/plain": [
       "<Figure size 1080x576 with 0 Axes>"
      ]
     },
     "execution_count": 881,
     "metadata": {},
     "output_type": "execute_result"
    },
    {
     "data": {
      "text/plain": [
       "Text(0.5,0,'Resolution')"
      ]
     },
     "execution_count": 881,
     "metadata": {},
     "output_type": "execute_result"
    },
    {
     "data": {
      "text/plain": [
       "Text(0,0.5,'Defect Count')"
      ]
     },
     "execution_count": 881,
     "metadata": {},
     "output_type": "execute_result"
    },
    {
     "data": {
      "text/plain": [
       "Text(0.5,1,'Defect Count vs Resolution')"
      ]
     },
     "execution_count": 881,
     "metadata": {},
     "output_type": "execute_result"
    },
    {
     "data": {
      "text/plain": [
       "<matplotlib.axes._subplots.AxesSubplot at 0x14798a58>"
      ]
     },
     "execution_count": 881,
     "metadata": {},
     "output_type": "execute_result"
    },
    {
     "data": {
      "image/png": "[encoded data removed]",
      "text/plain": [
       "<Figure size 1080x576 with 1 Axes>"
      ]
     },
     "metadata": {},
     "output_type": "display_data"
    }
   ],
   "source": [
    "plt.figure(figsize=(15,8))\n",
    "plt.xlabel(\"Resolution\")\n",
    "plt.ylabel(\"Defect Count\")\n",
    "plt.title(\"Defect Count vs Resolution\")\n",
    "df_tcrm_resolution.plot.bar()"
   ]
  },
  {
   "cell_type": "code",
   "execution_count": 885,
   "metadata": {},
   "outputs": [
    {
     "data": {
      "text/plain": [
       "1      83\n",
       "0      55\n",
       "2      55\n",
       "3      43\n",
       "6      40\n",
       "5      37\n",
       "7      28\n",
       "4      27\n",
       "10     26\n",
       "9      22\n",
       "8      18\n",
       "12     17\n",
       "14     17\n",
       "13     15\n",
       "16     15\n",
       "11     14\n",
       "15     14\n",
       "23     14\n",
       "17     13\n",
       "25     12\n",
       "21     10\n",
       "19     10\n",
       "20      9\n",
       "41      8\n",
       "28      8\n",
       "48      7\n",
       "24      7\n",
       "29      7\n",
       "34      7\n",
       "39      6\n",
       "       ..\n",
       "33      2\n",
       "52      2\n",
       "53      2\n",
       "37      2\n",
       "141     1\n",
       "140     1\n",
       "139     1\n",
       "104     1\n",
       "133     1\n",
       "131     1\n",
       "142     1\n",
       "124     1\n",
       "120     1\n",
       "146     1\n",
       "119     1\n",
       "50      1\n",
       "85      1\n",
       "98      1\n",
       "92      1\n",
       "61      1\n",
       "79      1\n",
       "76      1\n",
       "74      1\n",
       "147     1\n",
       "69      1\n",
       "54      1\n",
       "57      1\n",
       "64      1\n",
       "63      1\n",
       "192     1\n",
       "Name: DefectAgeInDays, Length: 94, dtype: int64"
      ]
     },
     "execution_count": 885,
     "metadata": {},
     "output_type": "execute_result"
    }
   ],
   "source": [
    "df_tcrm['DefectAgeInDays'].value_counts()"
   ]
  },
  {
   "cell_type": "code",
   "execution_count": 886,
   "metadata": {},
   "outputs": [],
   "source": [
    "df_tcrm['DefectAgeInWeeks'] = (df_tcrm['DefectAgeInDays']/7).astype(int)#convert defectsAge in days to defectsAge in weeks"
   ]
  },
  {
   "cell_type": "code",
   "execution_count": 887,
   "metadata": {},
   "outputs": [
    {
     "data": {
      "text/plain": [
       "0     340\n",
       "1     140\n",
       "2      83\n",
       "3      56\n",
       "4      34\n",
       "5      34\n",
       "6      26\n",
       "7      19\n",
       "8      19\n",
       "9      10\n",
       "10      9\n",
       "11      7\n",
       "20      4\n",
       "15      3\n",
       "17      3\n",
       "14      2\n",
       "19      2\n",
       "21      1\n",
       "12      1\n",
       "13      1\n",
       "18      1\n",
       "27      1\n",
       "Name: DefectAgeInWeeks, dtype: int64"
      ]
     },
     "execution_count": 887,
     "metadata": {},
     "output_type": "execute_result"
    }
   ],
   "source": [
    "df_tcrm['DefectAgeInWeeks'].value_counts()"
   ]
  },
  {
   "cell_type": "code",
   "execution_count": 888,
   "metadata": {},
   "outputs": [
    {
     "name": "stdout",
     "output_type": "stream",
     "text": [
      "<class 'pandas.core.frame.DataFrame'>\n",
      "Int64Index: 796 entries, 28 to 1510\n",
      "Data columns (total 12 columns):\n",
      "Id                     796 non-null int64\n",
      "Priority               796 non-null object\n",
      "Severity               796 non-null object\n",
      "Found In               796 non-null object\n",
      "BUC                    796 non-null object\n",
      "Creation Date          796 non-null datetime64[ns]\n",
      "Detection Phase        796 non-null object\n",
      "Resolution             796 non-null object\n",
      "Root Cause Analysis    796 non-null object\n",
      "Technology             796 non-null object\n",
      "DefectAgeInDays        796 non-null int64\n",
      "DefectAgeInWeeks       796 non-null int32\n",
      "dtypes: datetime64[ns](1), int32(1), int64(2), object(8)\n",
      "memory usage: 77.7+ KB\n"
     ]
    }
   ],
   "source": [
    "df_tcrm.info()"
   ]
  },
  {
   "cell_type": "code",
   "execution_count": 889,
   "metadata": {},
   "outputs": [
    {
     "data": {
      "text/html": [
       "<div>\n",
       "<style scoped>\n",
       "    .dataframe tbody tr th:only-of-type {\n",
       "        vertical-align: middle;\n",
       "    }\n",
       "\n",
       "    .dataframe tbody tr th {\n",
       "        vertical-align: top;\n",
       "    }\n",
       "\n",
       "    .dataframe thead th {\n",
       "        text-align: right;\n",
       "    }\n",
       "</style>\n",
       "<table border=\"1\" class=\"dataframe\">\n",
       "  <thead>\n",
       "    <tr style=\"text-align: right;\">\n",
       "      <th></th>\n",
       "      <th>Id</th>\n",
       "      <th>DefectAgeInDays</th>\n",
       "      <th>DefectAgeInWeeks</th>\n",
       "    </tr>\n",
       "  </thead>\n",
       "  <tbody>\n",
       "    <tr>\n",
       "      <th>count</th>\n",
       "      <td>796.000000</td>\n",
       "      <td>796.000000</td>\n",
       "      <td>796.000000</td>\n",
       "    </tr>\n",
       "    <tr>\n",
       "      <th>mean</th>\n",
       "      <td>36331.371859</td>\n",
       "      <td>18.559045</td>\n",
       "      <td>2.275126</td>\n",
       "    </tr>\n",
       "    <tr>\n",
       "      <th>std</th>\n",
       "      <td>4627.829225</td>\n",
       "      <td>24.914804</td>\n",
       "      <td>3.538245</td>\n",
       "    </tr>\n",
       "    <tr>\n",
       "      <th>min</th>\n",
       "      <td>26411.000000</td>\n",
       "      <td>0.000000</td>\n",
       "      <td>0.000000</td>\n",
       "    </tr>\n",
       "    <tr>\n",
       "      <th>25%</th>\n",
       "      <td>32028.500000</td>\n",
       "      <td>3.000000</td>\n",
       "      <td>0.000000</td>\n",
       "    </tr>\n",
       "    <tr>\n",
       "      <th>50%</th>\n",
       "      <td>37344.000000</td>\n",
       "      <td>9.000000</td>\n",
       "      <td>1.000000</td>\n",
       "    </tr>\n",
       "    <tr>\n",
       "      <th>75%</th>\n",
       "      <td>40146.750000</td>\n",
       "      <td>24.000000</td>\n",
       "      <td>3.000000</td>\n",
       "    </tr>\n",
       "    <tr>\n",
       "      <th>max</th>\n",
       "      <td>43956.000000</td>\n",
       "      <td>192.000000</td>\n",
       "      <td>27.000000</td>\n",
       "    </tr>\n",
       "  </tbody>\n",
       "</table>\n",
       "</div>"
      ],
      "text/plain": [
       "                 Id  DefectAgeInDays  DefectAgeInWeeks\n",
       "count    796.000000       796.000000        796.000000\n",
       "mean   36331.371859        18.559045          2.275126\n",
       "std     4627.829225        24.914804          3.538245\n",
       "min    26411.000000         0.000000          0.000000\n",
       "25%    32028.500000         3.000000          0.000000\n",
       "50%    37344.000000         9.000000          1.000000\n",
       "75%    40146.750000        24.000000          3.000000\n",
       "max    43956.000000       192.000000         27.000000"
      ]
     },
     "execution_count": 889,
     "metadata": {},
     "output_type": "execute_result"
    }
   ],
   "source": [
    "df_tcrm.describe()"
   ]
  },
  {
   "cell_type": "code",
   "execution_count": 890,
   "metadata": {},
   "outputs": [
    {
     "data": {
      "text/html": [
       "<div>\n",
       "<style scoped>\n",
       "    .dataframe tbody tr th:only-of-type {\n",
       "        vertical-align: middle;\n",
       "    }\n",
       "\n",
       "    .dataframe tbody tr th {\n",
       "        vertical-align: top;\n",
       "    }\n",
       "\n",
       "    .dataframe thead th {\n",
       "        text-align: right;\n",
       "    }\n",
       "</style>\n",
       "<table border=\"1\" class=\"dataframe\">\n",
       "  <thead>\n",
       "    <tr style=\"text-align: right;\">\n",
       "      <th></th>\n",
       "      <th>Priority</th>\n",
       "      <th>Severity</th>\n",
       "      <th>Found In</th>\n",
       "      <th>BUC</th>\n",
       "      <th>Detection Phase</th>\n",
       "      <th>Resolution</th>\n",
       "      <th>Root Cause Analysis</th>\n",
       "      <th>Technology</th>\n",
       "    </tr>\n",
       "  </thead>\n",
       "  <tbody>\n",
       "    <tr>\n",
       "      <th>count</th>\n",
       "      <td>796</td>\n",
       "      <td>796</td>\n",
       "      <td>796</td>\n",
       "      <td>796</td>\n",
       "      <td>796</td>\n",
       "      <td>796</td>\n",
       "      <td>796</td>\n",
       "      <td>796</td>\n",
       "    </tr>\n",
       "    <tr>\n",
       "      <th>unique</th>\n",
       "      <td>3</td>\n",
       "      <td>5</td>\n",
       "      <td>9</td>\n",
       "      <td>68</td>\n",
       "      <td>11</td>\n",
       "      <td>3</td>\n",
       "      <td>19</td>\n",
       "      <td>12</td>\n",
       "    </tr>\n",
       "    <tr>\n",
       "      <th>top</th>\n",
       "      <td>Low</td>\n",
       "      <td>Medium</td>\n",
       "      <td>DROP 2_Sprint 4</td>\n",
       "      <td>Not Available</td>\n",
       "      <td>Intrastack Testing</td>\n",
       "      <td>Fixed</td>\n",
       "      <td>Coding/Software Fault</td>\n",
       "      <td>MOBILE POST PAID</td>\n",
       "    </tr>\n",
       "    <tr>\n",
       "      <th>freq</th>\n",
       "      <td>306</td>\n",
       "      <td>496</td>\n",
       "      <td>259</td>\n",
       "      <td>379</td>\n",
       "      <td>605</td>\n",
       "      <td>713</td>\n",
       "      <td>270</td>\n",
       "      <td>462</td>\n",
       "    </tr>\n",
       "  </tbody>\n",
       "</table>\n",
       "</div>"
      ],
      "text/plain": [
       "       Priority Severity         Found In            BUC     Detection Phase  \\\n",
       "count       796      796              796            796                 796   \n",
       "unique        3        5                9             68                  11   \n",
       "top         Low   Medium  DROP 2_Sprint 4  Not Available  Intrastack Testing   \n",
       "freq        306      496              259            379                 605   \n",
       "\n",
       "       Resolution    Root Cause Analysis        Technology  \n",
       "count         796                    796               796  \n",
       "unique          3                     19                12  \n",
       "top         Fixed  Coding/Software Fault  MOBILE POST PAID  \n",
       "freq          713                    270               462  "
      ]
     },
     "execution_count": 890,
     "metadata": {},
     "output_type": "execute_result"
    }
   ],
   "source": [
    "#Descriptive statistics on categorical data\n",
    "df_tcrm.describe(include=['O'])"
   ]
  },
  {
   "cell_type": "markdown",
   "metadata": {},
   "source": [
    "### Analyze defect aging"
   ]
  },
  {
   "cell_type": "code",
   "execution_count": 891,
   "metadata": {},
   "outputs": [],
   "source": [
    "import seaborn as sns"
   ]
  },
  {
   "cell_type": "code",
   "execution_count": 894,
   "metadata": {},
   "outputs": [
    {
     "data": {
      "image/png": "[encoded data removed]",
      "text/plain": [
       "<Figure size 1440x576 with 1 Axes>"
      ]
     },
     "metadata": {},
     "output_type": "display_data"
    }
   ],
   "source": [
    "#check defectAging distribution\n",
    "#sns.set(style = 'ticks', color_codes=True)\n",
    "#defects_hist = sns.FacetGrid(df_tcrm)\n",
    "#defects_hist.map(plt.hist, 'DefectAgeInDays', bins = 20)\n",
    "df_tcrm.hist(column = 'DefectAgeInDays', bins = 10, figsize = (20,8))\n",
    "plt.xticks(np.arange(0, 192, 10))\n",
    "plt.xlabel(\"Defect Age in Days\")\n",
    "plt.ylabel(\"Defect Count\")\n",
    "plt.title(\"Defect Count vs DefectAgeInDays\")\n",
    "plt.show();"
   ]
  },
  {
   "cell_type": "code",
   "execution_count": 895,
   "metadata": {},
   "outputs": [
    {
     "name": "stdout",
     "output_type": "stream",
     "text": [
      "<class 'pandas.core.frame.DataFrame'>\n",
      "Int64Index: 796 entries, 28 to 1510\n",
      "Data columns (total 12 columns):\n",
      "Id                     796 non-null int64\n",
      "Priority               796 non-null object\n",
      "Severity               796 non-null object\n",
      "Found In               796 non-null object\n",
      "BUC                    796 non-null object\n",
      "Creation Date          796 non-null datetime64[ns]\n",
      "Detection Phase        796 non-null object\n",
      "Resolution             796 non-null object\n",
      "Root Cause Analysis    796 non-null object\n",
      "Technology             796 non-null object\n",
      "DefectAgeInDays        796 non-null int64\n",
      "DefectAgeInWeeks       796 non-null int32\n",
      "dtypes: datetime64[ns](1), int32(1), int64(2), object(8)\n",
      "memory usage: 77.7+ KB\n"
     ]
    }
   ],
   "source": [
    "df_tcrm.info()"
   ]
  },
  {
   "cell_type": "code",
   "execution_count": 764,
   "metadata": {},
   "outputs": [],
   "source": [
    "#The above figure says about the defect age distribution"
   ]
  },
  {
   "cell_type": "raw",
   "metadata": {},
   "source": [
    "#set up bins\n",
    "bin = [0,20,40,75,200]\n",
    "#use pd.cut function can attribute the values into its specific bins\n",
    "category = pd.cut(df_tcrm.DefectAgeInDays,bin)\n",
    "category = category.to_frame()\n",
    "category.columns = ['DefectAginginDaysRange']\n",
    "#concatenate age and its bin\n",
    "#df_new = pd.concat([df_age,category],axis = 1)"
   ]
  },
  {
   "cell_type": "code",
   "execution_count": 765,
   "metadata": {},
   "outputs": [],
   "source": [
    "#category.head()"
   ]
  },
  {
   "cell_type": "code",
   "execution_count": 766,
   "metadata": {},
   "outputs": [],
   "source": [
    "#df_tcrm = pd.concat([df_tcrm, category], axis = 1)"
   ]
  },
  {
   "cell_type": "code",
   "execution_count": 767,
   "metadata": {},
   "outputs": [],
   "source": [
    "#df_tcrm.head()"
   ]
  },
  {
   "cell_type": "raw",
   "metadata": {},
   "source": [
    "sns.countplot(x = 'DefectAginginDaysRange', data = df_tcrm, palette = 'hls')\n",
    "plt.show();"
   ]
  },
  {
   "cell_type": "markdown",
   "metadata": {},
   "source": [
    "### perform time series analysis"
   ]
  },
  {
   "cell_type": "code",
   "execution_count": 896,
   "metadata": {},
   "outputs": [
    {
     "data": {
      "text/plain": [
       "Timestamp('2018-08-30 18:10:00')"
      ]
     },
     "execution_count": 896,
     "metadata": {},
     "output_type": "execute_result"
    },
    {
     "data": {
      "text/plain": [
       "Timestamp('2019-04-13 19:12:00')"
      ]
     },
     "execution_count": 896,
     "metadata": {},
     "output_type": "execute_result"
    }
   ],
   "source": [
    "df_tcrm['Creation Date'].min()\n",
    "df_tcrm['Creation Date'].max()"
   ]
  },
  {
   "cell_type": "code",
   "execution_count": 897,
   "metadata": {},
   "outputs": [
    {
     "data": {
      "text/plain": [
       "Id                     0\n",
       "Priority               0\n",
       "Severity               0\n",
       "Found In               0\n",
       "BUC                    0\n",
       "Creation Date          0\n",
       "Detection Phase        0\n",
       "Resolution             0\n",
       "Root Cause Analysis    0\n",
       "Technology             0\n",
       "DefectAgeInDays        0\n",
       "DefectAgeInWeeks       0\n",
       "dtype: int64"
      ]
     },
     "execution_count": 897,
     "metadata": {},
     "output_type": "execute_result"
    }
   ],
   "source": [
    "df_tcrm.isnull().sum()"
   ]
  },
  {
   "cell_type": "code",
   "execution_count": 898,
   "metadata": {},
   "outputs": [],
   "source": [
    "df_tcrm['Creation Date'] = df_tcrm['Creation Date'].dt.date"
   ]
  },
  {
   "cell_type": "code",
   "execution_count": 899,
   "metadata": {},
   "outputs": [
    {
     "data": {
      "text/html": [
       "<div>\n",
       "<style scoped>\n",
       "    .dataframe tbody tr th:only-of-type {\n",
       "        vertical-align: middle;\n",
       "    }\n",
       "\n",
       "    .dataframe tbody tr th {\n",
       "        vertical-align: top;\n",
       "    }\n",
       "\n",
       "    .dataframe thead th {\n",
       "        text-align: right;\n",
       "    }\n",
       "</style>\n",
       "<table border=\"1\" class=\"dataframe\">\n",
       "  <thead>\n",
       "    <tr style=\"text-align: right;\">\n",
       "      <th></th>\n",
       "      <th>Id</th>\n",
       "      <th>Priority</th>\n",
       "      <th>Severity</th>\n",
       "      <th>Found In</th>\n",
       "      <th>BUC</th>\n",
       "      <th>Creation Date</th>\n",
       "      <th>Detection Phase</th>\n",
       "      <th>Resolution</th>\n",
       "      <th>Root Cause Analysis</th>\n",
       "      <th>Technology</th>\n",
       "      <th>DefectAgeInDays</th>\n",
       "      <th>DefectAgeInWeeks</th>\n",
       "    </tr>\n",
       "  </thead>\n",
       "  <tbody>\n",
       "    <tr>\n",
       "      <th>28</th>\n",
       "      <td>43956</td>\n",
       "      <td>Low</td>\n",
       "      <td>Medium</td>\n",
       "      <td>DROP 2_Sprint 4</td>\n",
       "      <td>BUC 006 - New Subscription - Order Capture and...</td>\n",
       "      <td>2019-04-13</td>\n",
       "      <td>Intrastack Testing</td>\n",
       "      <td>Fixed</td>\n",
       "      <td>Minor Change / Improvement</td>\n",
       "      <td>MOBILE POST PAID</td>\n",
       "      <td>1</td>\n",
       "      <td>0</td>\n",
       "    </tr>\n",
       "    <tr>\n",
       "      <th>29</th>\n",
       "      <td>43932</td>\n",
       "      <td>Low</td>\n",
       "      <td>Medium</td>\n",
       "      <td>DROP 2_Sprint 2</td>\n",
       "      <td>BUC 084 - Change Number Order Capture and Fulf...</td>\n",
       "      <td>2019-04-13</td>\n",
       "      <td>Intrastack Testing</td>\n",
       "      <td>Fixed</td>\n",
       "      <td>Environment Downtime</td>\n",
       "      <td>MOBILE POST PAID</td>\n",
       "      <td>3</td>\n",
       "      <td>0</td>\n",
       "    </tr>\n",
       "    <tr>\n",
       "      <th>37</th>\n",
       "      <td>43807</td>\n",
       "      <td>High</td>\n",
       "      <td>High</td>\n",
       "      <td>DROP 2 - FIJA FUNC</td>\n",
       "      <td>BUC 006 - New Subscription - Order Capture and...</td>\n",
       "      <td>2019-04-12</td>\n",
       "      <td>System Testing (Development Only)</td>\n",
       "      <td>Fixed</td>\n",
       "      <td>Minor Change / Improvement</td>\n",
       "      <td>LFI</td>\n",
       "      <td>4</td>\n",
       "      <td>0</td>\n",
       "    </tr>\n",
       "    <tr>\n",
       "      <th>41</th>\n",
       "      <td>43699</td>\n",
       "      <td>High</td>\n",
       "      <td>High</td>\n",
       "      <td>DROP 2_Sprint 4</td>\n",
       "      <td>BUC 060 - Individual Adjustments BI</td>\n",
       "      <td>2019-04-11</td>\n",
       "      <td>Intrastack Testing</td>\n",
       "      <td>Fixed</td>\n",
       "      <td>Coding/Software Fault</td>\n",
       "      <td>Not Available</td>\n",
       "      <td>4</td>\n",
       "      <td>0</td>\n",
       "    </tr>\n",
       "    <tr>\n",
       "      <th>42</th>\n",
       "      <td>43698</td>\n",
       "      <td>Low</td>\n",
       "      <td>Medium</td>\n",
       "      <td>DROP 2_Sprint 3</td>\n",
       "      <td>BUC 049 - Change Ownership Between Consumer Cu...</td>\n",
       "      <td>2019-04-11</td>\n",
       "      <td>Intrastack Testing</td>\n",
       "      <td>Fixed</td>\n",
       "      <td>Minor Change / Improvement</td>\n",
       "      <td>MOBILE POST PAID</td>\n",
       "      <td>0</td>\n",
       "      <td>0</td>\n",
       "    </tr>\n",
       "  </tbody>\n",
       "</table>\n",
       "</div>"
      ],
      "text/plain": [
       "       Id Priority Severity            Found In  \\\n",
       "28  43956      Low   Medium     DROP 2_Sprint 4   \n",
       "29  43932      Low   Medium     DROP 2_Sprint 2   \n",
       "37  43807     High     High  DROP 2 - FIJA FUNC   \n",
       "41  43699     High     High     DROP 2_Sprint 4   \n",
       "42  43698      Low   Medium     DROP 2_Sprint 3   \n",
       "\n",
       "                                                  BUC Creation Date  \\\n",
       "28  BUC 006 - New Subscription - Order Capture and...    2019-04-13   \n",
       "29  BUC 084 - Change Number Order Capture and Fulf...    2019-04-13   \n",
       "37  BUC 006 - New Subscription - Order Capture and...    2019-04-12   \n",
       "41                BUC 060 - Individual Adjustments BI    2019-04-11   \n",
       "42  BUC 049 - Change Ownership Between Consumer Cu...    2019-04-11   \n",
       "\n",
       "                      Detection Phase Resolution         Root Cause Analysis  \\\n",
       "28                 Intrastack Testing      Fixed  Minor Change / Improvement   \n",
       "29                 Intrastack Testing      Fixed        Environment Downtime   \n",
       "37  System Testing (Development Only)      Fixed  Minor Change / Improvement   \n",
       "41                 Intrastack Testing      Fixed       Coding/Software Fault   \n",
       "42                 Intrastack Testing      Fixed  Minor Change / Improvement   \n",
       "\n",
       "          Technology  DefectAgeInDays  DefectAgeInWeeks  \n",
       "28  MOBILE POST PAID                1                 0  \n",
       "29  MOBILE POST PAID                3                 0  \n",
       "37               LFI                4                 0  \n",
       "41     Not Available                4                 0  \n",
       "42  MOBILE POST PAID                0                 0  "
      ]
     },
     "execution_count": 899,
     "metadata": {},
     "output_type": "execute_result"
    }
   ],
   "source": [
    "df_tcrm.head()"
   ]
  },
  {
   "cell_type": "code",
   "execution_count": 900,
   "metadata": {},
   "outputs": [],
   "source": [
    "df_tcrm_grpby = df_tcrm.groupby(['Creation Date'])['Id'].count()"
   ]
  },
  {
   "cell_type": "code",
   "execution_count": 901,
   "metadata": {},
   "outputs": [
    {
     "data": {
      "text/plain": [
       "pandas.core.series.Series"
      ]
     },
     "execution_count": 901,
     "metadata": {},
     "output_type": "execute_result"
    }
   ],
   "source": [
    "type(df_tcrm_grpby)"
   ]
  },
  {
   "cell_type": "code",
   "execution_count": 902,
   "metadata": {},
   "outputs": [
    {
     "data": {
      "text/plain": [
       "Creation Date\n",
       "2018-08-30     1\n",
       "2018-08-31     3\n",
       "2018-09-01     1\n",
       "2018-09-02     1\n",
       "2018-09-03     1\n",
       "2018-09-04     2\n",
       "2018-09-05     1\n",
       "2018-09-06     1\n",
       "2018-09-10     1\n",
       "2018-09-12     1\n",
       "2018-09-13     1\n",
       "2018-09-17     1\n",
       "2018-09-18     1\n",
       "2018-09-19     2\n",
       "2018-09-20     3\n",
       "2018-09-21     5\n",
       "2018-09-22     2\n",
       "2018-09-23     2\n",
       "2018-09-24     1\n",
       "2018-09-25     5\n",
       "2018-09-26     1\n",
       "2018-09-27     3\n",
       "2018-09-28     3\n",
       "2018-10-02     6\n",
       "2018-10-03     4\n",
       "2018-10-04     1\n",
       "2018-10-05     4\n",
       "2018-10-10     4\n",
       "2018-10-11     2\n",
       "2018-10-13     2\n",
       "              ..\n",
       "2019-03-12     8\n",
       "2019-03-13     8\n",
       "2019-03-14     8\n",
       "2019-03-15    10\n",
       "2019-03-16     2\n",
       "2019-03-17     1\n",
       "2019-03-18     2\n",
       "2019-03-19     3\n",
       "2019-03-20     6\n",
       "2019-03-21     6\n",
       "2019-03-22     6\n",
       "2019-03-23     4\n",
       "2019-03-24     1\n",
       "2019-03-25     4\n",
       "2019-03-26     4\n",
       "2019-03-27     4\n",
       "2019-03-28     7\n",
       "2019-03-29     7\n",
       "2019-03-30     4\n",
       "2019-04-02     5\n",
       "2019-04-03     3\n",
       "2019-04-04     3\n",
       "2019-04-05     2\n",
       "2019-04-06     2\n",
       "2019-04-08     1\n",
       "2019-04-09     3\n",
       "2019-04-10     4\n",
       "2019-04-11     2\n",
       "2019-04-12     1\n",
       "2019-04-13     2\n",
       "Name: Id, Length: 177, dtype: int64"
      ]
     },
     "execution_count": 902,
     "metadata": {},
     "output_type": "execute_result"
    }
   ],
   "source": [
    "df_tcrm_grpby"
   ]
  },
  {
   "cell_type": "code",
   "execution_count": 903,
   "metadata": {},
   "outputs": [],
   "source": [
    "df_tcrm_grpby = df_tcrm_grpby.to_frame()"
   ]
  },
  {
   "cell_type": "code",
   "execution_count": 904,
   "metadata": {},
   "outputs": [
    {
     "data": {
      "text/html": [
       "<div>\n",
       "<style scoped>\n",
       "    .dataframe tbody tr th:only-of-type {\n",
       "        vertical-align: middle;\n",
       "    }\n",
       "\n",
       "    .dataframe tbody tr th {\n",
       "        vertical-align: top;\n",
       "    }\n",
       "\n",
       "    .dataframe thead th {\n",
       "        text-align: right;\n",
       "    }\n",
       "</style>\n",
       "<table border=\"1\" class=\"dataframe\">\n",
       "  <thead>\n",
       "    <tr style=\"text-align: right;\">\n",
       "      <th></th>\n",
       "      <th>Id</th>\n",
       "    </tr>\n",
       "    <tr>\n",
       "      <th>Creation Date</th>\n",
       "      <th></th>\n",
       "    </tr>\n",
       "  </thead>\n",
       "  <tbody>\n",
       "    <tr>\n",
       "      <th>2018-08-30</th>\n",
       "      <td>1</td>\n",
       "    </tr>\n",
       "    <tr>\n",
       "      <th>2018-08-31</th>\n",
       "      <td>3</td>\n",
       "    </tr>\n",
       "    <tr>\n",
       "      <th>2018-09-01</th>\n",
       "      <td>1</td>\n",
       "    </tr>\n",
       "    <tr>\n",
       "      <th>2018-09-02</th>\n",
       "      <td>1</td>\n",
       "    </tr>\n",
       "    <tr>\n",
       "      <th>2018-09-03</th>\n",
       "      <td>1</td>\n",
       "    </tr>\n",
       "  </tbody>\n",
       "</table>\n",
       "</div>"
      ],
      "text/plain": [
       "               Id\n",
       "Creation Date    \n",
       "2018-08-30      1\n",
       "2018-08-31      3\n",
       "2018-09-01      1\n",
       "2018-09-02      1\n",
       "2018-09-03      1"
      ]
     },
     "execution_count": 904,
     "metadata": {},
     "output_type": "execute_result"
    }
   ],
   "source": [
    "df_tcrm_grpby.head()"
   ]
  },
  {
   "cell_type": "code",
   "execution_count": 909,
   "metadata": {},
   "outputs": [],
   "source": [
    "df_tcrm_grpby.index = pd.to_datetime(df_tcrm_grpby.index)"
   ]
  },
  {
   "cell_type": "code",
   "execution_count": 920,
   "metadata": {},
   "outputs": [
    {
     "data": {
      "text/plain": [
       "<matplotlib.axes._subplots.AxesSubplot at 0x18069c88>"
      ]
     },
     "execution_count": 920,
     "metadata": {},
     "output_type": "execute_result"
    },
    {
     "data": {
      "text/plain": [
       "Text(0.5,1,'Daily Defect Count Time Series')"
      ]
     },
     "execution_count": 920,
     "metadata": {},
     "output_type": "execute_result"
    },
    {
     "data": {
      "text/plain": [
       "Text(0,0.5,'Defect Count')"
      ]
     },
     "execution_count": 920,
     "metadata": {},
     "output_type": "execute_result"
    },
    {
     "data": {
      "text/plain": [
       "<Figure size 1080x576 with 0 Axes>"
      ]
     },
     "execution_count": 920,
     "metadata": {},
     "output_type": "execute_result"
    },
    {
     "data": {
      "image/png": "[encoded data removed]",
      "text/plain": [
       "<Figure size 432x288 with 1 Axes>"
      ]
     },
     "metadata": {},
     "output_type": "display_data"
    },
    {
     "data": {
      "text/plain": [
       "<Figure size 1080x576 with 0 Axes>"
      ]
     },
     "metadata": {},
     "output_type": "display_data"
    }
   ],
   "source": [
    "#plt.x_label(\"Defect Creation Date\")\n",
    "#plt.y_label(\"No of Defects\")\n",
    "df_tcrm_grpby.plot()\n",
    "plt.title(\"Daily Defect Count Time Series\")\n",
    "plt.ylabel(\"Defect Count\")\n",
    "plt.figure(figsize=(15,8))"
   ]
  },
  {
   "cell_type": "code",
   "execution_count": 921,
   "metadata": {},
   "outputs": [
    {
     "data": {
      "text/plain": [
       "pandas.core.frame.DataFrame"
      ]
     },
     "execution_count": 921,
     "metadata": {},
     "output_type": "execute_result"
    }
   ],
   "source": [
    "type(df_tcrm_grpby)"
   ]
  },
  {
   "cell_type": "code",
   "execution_count": 922,
   "metadata": {},
   "outputs": [
    {
     "name": "stdout",
     "output_type": "stream",
     "text": [
      "<class 'pandas.core.frame.DataFrame'>\n",
      "DatetimeIndex: 177 entries, 2018-08-30 to 2019-04-13\n",
      "Data columns (total 1 columns):\n",
      "Id    177 non-null int64\n",
      "dtypes: int64(1)\n",
      "memory usage: 2.8 KB\n"
     ]
    }
   ],
   "source": [
    "df_tcrm_grpby.info()"
   ]
  },
  {
   "cell_type": "code",
   "execution_count": 923,
   "metadata": {},
   "outputs": [
    {
     "name": "stdout",
     "output_type": "stream",
     "text": [
      "<class 'pandas.core.frame.DataFrame'>\n",
      "DatetimeIndex: 177 entries, 2018-08-30 to 2019-04-13\n",
      "Data columns (total 1 columns):\n",
      "Id    177 non-null int64\n",
      "dtypes: int64(1)\n",
      "memory usage: 2.8 KB\n"
     ]
    }
   ],
   "source": [
    "df_tcrm_grpby.info()"
   ]
  },
  {
   "cell_type": "code",
   "execution_count": 925,
   "metadata": {},
   "outputs": [
    {
     "data": {
      "text/plain": [
       "<matplotlib.axes._subplots.AxesSubplot at 0x186388d0>"
      ]
     },
     "execution_count": 925,
     "metadata": {},
     "output_type": "execute_result"
    },
    {
     "data": {
      "text/plain": [
       "Text(0.5,0,'Date')"
      ]
     },
     "execution_count": 925,
     "metadata": {},
     "output_type": "execute_result"
    },
    {
     "data": {
      "text/plain": [
       "Text(0,0.5,'Defect Count')"
      ]
     },
     "execution_count": 925,
     "metadata": {},
     "output_type": "execute_result"
    },
    {
     "data": {
      "text/plain": [
       "Text(0.5,1,'Weekly Defect Count Time Series')"
      ]
     },
     "execution_count": 925,
     "metadata": {},
     "output_type": "execute_result"
    },
    {
     "data": {
      "image/png": "[encoded data removed]",
      "text/plain": [
       "<Figure size 432x288 with 1 Axes>"
      ]
     },
     "metadata": {},
     "output_type": "display_data"
    }
   ],
   "source": [
    "weekly_df_tcrm_grpby = df_tcrm_grpby.resample('W').sum()\n",
    "weekly_df_tcrm_grpby.plot()\n",
    "plt.xlabel(\"Date\")\n",
    "plt.ylabel(\"Defect Count\")\n",
    "plt.title(\"Weekly Defect Count Time Series\")"
   ]
  },
  {
   "cell_type": "code",
   "execution_count": 926,
   "metadata": {},
   "outputs": [
    {
     "data": {
      "text/plain": [
       "<matplotlib.axes._subplots.AxesSubplot at 0x186db780>"
      ]
     },
     "execution_count": 926,
     "metadata": {},
     "output_type": "execute_result"
    },
    {
     "data": {
      "text/plain": [
       "Text(0.5,0,'Date')"
      ]
     },
     "execution_count": 926,
     "metadata": {},
     "output_type": "execute_result"
    },
    {
     "data": {
      "text/plain": [
       "Text(0,0.5,'Defect Count')"
      ]
     },
     "execution_count": 926,
     "metadata": {},
     "output_type": "execute_result"
    },
    {
     "data": {
      "text/plain": [
       "Text(0.5,1,'Monthly Defect Count Time Series')"
      ]
     },
     "execution_count": 926,
     "metadata": {},
     "output_type": "execute_result"
    },
    {
     "data": {
      "image/png": "[encoded data removed]",
      "text/plain": [
       "<Figure size 432x288 with 1 Axes>"
      ]
     },
     "metadata": {},
     "output_type": "display_data"
    }
   ],
   "source": [
    "monthly_df_tcrm_grpby = df_tcrm_grpby.resample('M').sum()\n",
    "monthly_df_tcrm_grpby.plot()\n",
    "plt.xlabel(\"Date\")\n",
    "plt.ylabel(\"Defect Count\")\n",
    "plt.title(\"Monthly Defect Count Time Series\")"
   ]
  },
  {
   "cell_type": "code",
   "execution_count": 927,
   "metadata": {},
   "outputs": [],
   "source": [
    "#df_tcrm.rename(columns = {'Id' : 'Count'}, inplace = True)\n",
    "df_tcrm_grpby.columns = ['Count']"
   ]
  },
  {
   "cell_type": "code",
   "execution_count": 928,
   "metadata": {},
   "outputs": [
    {
     "data": {
      "text/html": [
       "<div>\n",
       "<style scoped>\n",
       "    .dataframe tbody tr th:only-of-type {\n",
       "        vertical-align: middle;\n",
       "    }\n",
       "\n",
       "    .dataframe tbody tr th {\n",
       "        vertical-align: top;\n",
       "    }\n",
       "\n",
       "    .dataframe thead th {\n",
       "        text-align: right;\n",
       "    }\n",
       "</style>\n",
       "<table border=\"1\" class=\"dataframe\">\n",
       "  <thead>\n",
       "    <tr style=\"text-align: right;\">\n",
       "      <th></th>\n",
       "      <th>Count</th>\n",
       "    </tr>\n",
       "    <tr>\n",
       "      <th>Creation Date</th>\n",
       "      <th></th>\n",
       "    </tr>\n",
       "  </thead>\n",
       "  <tbody>\n",
       "    <tr>\n",
       "      <th>2018-08-30</th>\n",
       "      <td>1</td>\n",
       "    </tr>\n",
       "    <tr>\n",
       "      <th>2018-08-31</th>\n",
       "      <td>3</td>\n",
       "    </tr>\n",
       "    <tr>\n",
       "      <th>2018-09-01</th>\n",
       "      <td>1</td>\n",
       "    </tr>\n",
       "    <tr>\n",
       "      <th>2018-09-02</th>\n",
       "      <td>1</td>\n",
       "    </tr>\n",
       "    <tr>\n",
       "      <th>2018-09-03</th>\n",
       "      <td>1</td>\n",
       "    </tr>\n",
       "  </tbody>\n",
       "</table>\n",
       "</div>"
      ],
      "text/plain": [
       "               Count\n",
       "Creation Date       \n",
       "2018-08-30         1\n",
       "2018-08-31         3\n",
       "2018-09-01         1\n",
       "2018-09-02         1\n",
       "2018-09-03         1"
      ]
     },
     "execution_count": 928,
     "metadata": {},
     "output_type": "execute_result"
    }
   ],
   "source": [
    "df_tcrm_grpby.head()"
   ]
  },
  {
   "cell_type": "code",
   "execution_count": 929,
   "metadata": {},
   "outputs": [
    {
     "data": {
      "text/plain": [
       "Index(['Count'], dtype='object')"
      ]
     },
     "execution_count": 929,
     "metadata": {},
     "output_type": "execute_result"
    }
   ],
   "source": [
    "df_tcrm_grpby.columns"
   ]
  },
  {
   "cell_type": "code",
   "execution_count": 930,
   "metadata": {},
   "outputs": [],
   "source": [
    "df_tcrm_grpby.index = pd.to_datetime(df_tcrm_grpby.index)"
   ]
  },
  {
   "cell_type": "code",
   "execution_count": 931,
   "metadata": {},
   "outputs": [],
   "source": [
    "df_tcrm_grpby_weekly = pd.DataFrame()"
   ]
  },
  {
   "cell_type": "markdown",
   "metadata": {},
   "source": [
    "### Perform other analysis"
   ]
  },
  {
   "cell_type": "code",
   "execution_count": 932,
   "metadata": {},
   "outputs": [
    {
     "data": {
      "text/html": [
       "<div>\n",
       "<style scoped>\n",
       "    .dataframe tbody tr th:only-of-type {\n",
       "        vertical-align: middle;\n",
       "    }\n",
       "\n",
       "    .dataframe tbody tr th {\n",
       "        vertical-align: top;\n",
       "    }\n",
       "\n",
       "    .dataframe thead th {\n",
       "        text-align: right;\n",
       "    }\n",
       "</style>\n",
       "<table border=\"1\" class=\"dataframe\">\n",
       "  <thead>\n",
       "    <tr style=\"text-align: right;\">\n",
       "      <th></th>\n",
       "      <th>Id</th>\n",
       "      <th>Priority</th>\n",
       "      <th>Severity</th>\n",
       "      <th>Found In</th>\n",
       "      <th>BUC</th>\n",
       "      <th>Creation Date</th>\n",
       "      <th>Detection Phase</th>\n",
       "      <th>Resolution</th>\n",
       "      <th>Root Cause Analysis</th>\n",
       "      <th>Technology</th>\n",
       "      <th>DefectAgeInDays</th>\n",
       "      <th>DefectAgeInWeeks</th>\n",
       "    </tr>\n",
       "  </thead>\n",
       "  <tbody>\n",
       "    <tr>\n",
       "      <th>28</th>\n",
       "      <td>43956</td>\n",
       "      <td>Low</td>\n",
       "      <td>Medium</td>\n",
       "      <td>DROP 2_Sprint 4</td>\n",
       "      <td>BUC 006 - New Subscription - Order Capture and...</td>\n",
       "      <td>2019-04-13</td>\n",
       "      <td>Intrastack Testing</td>\n",
       "      <td>Fixed</td>\n",
       "      <td>Minor Change / Improvement</td>\n",
       "      <td>MOBILE POST PAID</td>\n",
       "      <td>1</td>\n",
       "      <td>0</td>\n",
       "    </tr>\n",
       "    <tr>\n",
       "      <th>29</th>\n",
       "      <td>43932</td>\n",
       "      <td>Low</td>\n",
       "      <td>Medium</td>\n",
       "      <td>DROP 2_Sprint 2</td>\n",
       "      <td>BUC 084 - Change Number Order Capture and Fulf...</td>\n",
       "      <td>2019-04-13</td>\n",
       "      <td>Intrastack Testing</td>\n",
       "      <td>Fixed</td>\n",
       "      <td>Environment Downtime</td>\n",
       "      <td>MOBILE POST PAID</td>\n",
       "      <td>3</td>\n",
       "      <td>0</td>\n",
       "    </tr>\n",
       "    <tr>\n",
       "      <th>37</th>\n",
       "      <td>43807</td>\n",
       "      <td>High</td>\n",
       "      <td>High</td>\n",
       "      <td>DROP 2 - FIJA FUNC</td>\n",
       "      <td>BUC 006 - New Subscription - Order Capture and...</td>\n",
       "      <td>2019-04-12</td>\n",
       "      <td>System Testing (Development Only)</td>\n",
       "      <td>Fixed</td>\n",
       "      <td>Minor Change / Improvement</td>\n",
       "      <td>LFI</td>\n",
       "      <td>4</td>\n",
       "      <td>0</td>\n",
       "    </tr>\n",
       "    <tr>\n",
       "      <th>41</th>\n",
       "      <td>43699</td>\n",
       "      <td>High</td>\n",
       "      <td>High</td>\n",
       "      <td>DROP 2_Sprint 4</td>\n",
       "      <td>BUC 060 - Individual Adjustments BI</td>\n",
       "      <td>2019-04-11</td>\n",
       "      <td>Intrastack Testing</td>\n",
       "      <td>Fixed</td>\n",
       "      <td>Coding/Software Fault</td>\n",
       "      <td>Not Available</td>\n",
       "      <td>4</td>\n",
       "      <td>0</td>\n",
       "    </tr>\n",
       "    <tr>\n",
       "      <th>42</th>\n",
       "      <td>43698</td>\n",
       "      <td>Low</td>\n",
       "      <td>Medium</td>\n",
       "      <td>DROP 2_Sprint 3</td>\n",
       "      <td>BUC 049 - Change Ownership Between Consumer Cu...</td>\n",
       "      <td>2019-04-11</td>\n",
       "      <td>Intrastack Testing</td>\n",
       "      <td>Fixed</td>\n",
       "      <td>Minor Change / Improvement</td>\n",
       "      <td>MOBILE POST PAID</td>\n",
       "      <td>0</td>\n",
       "      <td>0</td>\n",
       "    </tr>\n",
       "  </tbody>\n",
       "</table>\n",
       "</div>"
      ],
      "text/plain": [
       "       Id Priority Severity            Found In  \\\n",
       "28  43956      Low   Medium     DROP 2_Sprint 4   \n",
       "29  43932      Low   Medium     DROP 2_Sprint 2   \n",
       "37  43807     High     High  DROP 2 - FIJA FUNC   \n",
       "41  43699     High     High     DROP 2_Sprint 4   \n",
       "42  43698      Low   Medium     DROP 2_Sprint 3   \n",
       "\n",
       "                                                  BUC Creation Date  \\\n",
       "28  BUC 006 - New Subscription - Order Capture and...    2019-04-13   \n",
       "29  BUC 084 - Change Number Order Capture and Fulf...    2019-04-13   \n",
       "37  BUC 006 - New Subscription - Order Capture and...    2019-04-12   \n",
       "41                BUC 060 - Individual Adjustments BI    2019-04-11   \n",
       "42  BUC 049 - Change Ownership Between Consumer Cu...    2019-04-11   \n",
       "\n",
       "                      Detection Phase Resolution         Root Cause Analysis  \\\n",
       "28                 Intrastack Testing      Fixed  Minor Change / Improvement   \n",
       "29                 Intrastack Testing      Fixed        Environment Downtime   \n",
       "37  System Testing (Development Only)      Fixed  Minor Change / Improvement   \n",
       "41                 Intrastack Testing      Fixed       Coding/Software Fault   \n",
       "42                 Intrastack Testing      Fixed  Minor Change / Improvement   \n",
       "\n",
       "          Technology  DefectAgeInDays  DefectAgeInWeeks  \n",
       "28  MOBILE POST PAID                1                 0  \n",
       "29  MOBILE POST PAID                3                 0  \n",
       "37               LFI                4                 0  \n",
       "41     Not Available                4                 0  \n",
       "42  MOBILE POST PAID                0                 0  "
      ]
     },
     "execution_count": 932,
     "metadata": {},
     "output_type": "execute_result"
    }
   ],
   "source": [
    "df_tcrm.head()"
   ]
  },
  {
   "cell_type": "code",
   "execution_count": 880,
   "metadata": {
    "scrolled": true
   },
   "outputs": [
    {
     "data": {
      "text/plain": [
       "Coding/Software Fault                    270\n",
       "Minor Change / Improvement               227\n",
       "No fault / Working as designed            55\n",
       "Not Implemented Requirement               48\n",
       "System configuration fault                46\n",
       "Out of Scope                              35\n",
       "Consultation / How to                     27\n",
       "Environment Downtime                      17\n",
       "No Evidence / Fault not reproducible      15\n",
       "Faulty Installation                       14\n",
       "Wrongly tested                            13\n",
       "Poor / Faulty Operation & Maintenance      9\n",
       "Requirement Change                         4\n",
       "Solution Design Fault                      4\n",
       "Rejected - Not Contracted                  4\n",
       "Rejected - Missing Handover                3\n",
       "Out of Scope - Customer Definition         3\n",
       "Ericsson Product Fault                     1\n",
       "Endpoint                                   1\n",
       "Name: Root Cause Analysis, dtype: int64"
      ]
     },
     "execution_count": 880,
     "metadata": {},
     "output_type": "execute_result"
    }
   ],
   "source": [
    "df_tcrm_RCA = df_tcrm['Root Cause Analysis'].value_counts()\n",
    "df_tcrm_RCA"
   ]
  },
  {
   "cell_type": "code",
   "execution_count": 939,
   "metadata": {},
   "outputs": [
    {
     "data": {
      "text/plain": [
       "Coding/Software Fault             270\n",
       "Minor Change / Improvement        227\n",
       "No fault / Working as designed     55\n",
       "Not Implemented Requirement        48\n",
       "System configuration fault         46\n",
       "Name: Root Cause Analysis, dtype: int64"
      ]
     },
     "execution_count": 939,
     "metadata": {},
     "output_type": "execute_result"
    }
   ],
   "source": [
    "df_tcrm_RCA_head5 = df_tcrm_RCA.head(5)\n",
    "df_tcrm_RCA_head5"
   ]
  },
  {
   "cell_type": "code",
   "execution_count": 940,
   "metadata": {},
   "outputs": [
    {
     "data": {
      "text/plain": [
       "<Figure size 1080x576 with 0 Axes>"
      ]
     },
     "execution_count": 940,
     "metadata": {},
     "output_type": "execute_result"
    },
    {
     "data": {
      "text/plain": [
       "Text(0.5,0,'Root Cause')"
      ]
     },
     "execution_count": 940,
     "metadata": {},
     "output_type": "execute_result"
    },
    {
     "data": {
      "text/plain": [
       "Text(0,0.5,'Defect Count')"
      ]
     },
     "execution_count": 940,
     "metadata": {},
     "output_type": "execute_result"
    },
    {
     "data": {
      "text/plain": [
       "Text(0.5,1,'Defect Count vs Root Cause')"
      ]
     },
     "execution_count": 940,
     "metadata": {},
     "output_type": "execute_result"
    },
    {
     "data": {
      "text/plain": [
       "<matplotlib.axes._subplots.AxesSubplot at 0x18984710>"
      ]
     },
     "execution_count": 940,
     "metadata": {},
     "output_type": "execute_result"
    },
    {
     "data": {
      "image/png": "[encoded data removed]",
      "text/plain": [
       "<Figure size 1080x576 with 1 Axes>"
      ]
     },
     "metadata": {},
     "output_type": "display_data"
    }
   ],
   "source": [
    "plt.figure(figsize=(15,8))\n",
    "plt.xlabel(\"Root Cause\")\n",
    "plt.ylabel(\"Defect Count\")\n",
    "plt.title(\"Defect Count vs Root Cause\")\n",
    "df_tcrm_RCA_head5.plot.bar()"
   ]
  },
  {
   "cell_type": "code",
   "execution_count": 944,
   "metadata": {},
   "outputs": [
    {
     "name": "stdout",
     "output_type": "stream",
     "text": [
      "<class 'pandas.core.frame.DataFrame'>\n",
      "Int64Index: 796 entries, 28 to 1510\n",
      "Data columns (total 12 columns):\n",
      "Id                     796 non-null int64\n",
      "Priority               796 non-null object\n",
      "Severity               796 non-null object\n",
      "Found In               796 non-null object\n",
      "BUC                    796 non-null object\n",
      "Creation Date          796 non-null object\n",
      "Detection Phase        796 non-null object\n",
      "Resolution             796 non-null object\n",
      "Root Cause Analysis    796 non-null object\n",
      "Technology             796 non-null object\n",
      "DefectAgeInDays        796 non-null int64\n",
      "DefectAgeInWeeks       796 non-null int32\n",
      "dtypes: int32(1), int64(2), object(9)\n",
      "memory usage: 77.7+ KB\n",
      "<class 'pandas.core.frame.DataFrame'>\n",
      "Int64Index: 646 entries, 28 to 1510\n",
      "Data columns (total 12 columns):\n",
      "Id                     646 non-null int64\n",
      "Priority               646 non-null object\n",
      "Severity               646 non-null object\n",
      "Found In               646 non-null object\n",
      "BUC                    646 non-null object\n",
      "Creation Date          646 non-null object\n",
      "Detection Phase        646 non-null object\n",
      "Resolution             646 non-null object\n",
      "Root Cause Analysis    646 non-null object\n",
      "Technology             646 non-null object\n",
      "DefectAgeInDays        646 non-null int64\n",
      "DefectAgeInWeeks       646 non-null int32\n",
      "dtypes: int32(1), int64(2), object(9)\n",
      "memory usage: 63.1+ KB\n"
     ]
    },
    {
     "data": {
      "text/html": [
       "<div>\n",
       "<style scoped>\n",
       "    .dataframe tbody tr th:only-of-type {\n",
       "        vertical-align: middle;\n",
       "    }\n",
       "\n",
       "    .dataframe tbody tr th {\n",
       "        vertical-align: top;\n",
       "    }\n",
       "\n",
       "    .dataframe thead th {\n",
       "        text-align: right;\n",
       "    }\n",
       "</style>\n",
       "<table border=\"1\" class=\"dataframe\">\n",
       "  <thead>\n",
       "    <tr style=\"text-align: right;\">\n",
       "      <th></th>\n",
       "      <th>Id</th>\n",
       "      <th>Priority</th>\n",
       "      <th>Severity</th>\n",
       "      <th>Found In</th>\n",
       "      <th>BUC</th>\n",
       "      <th>Creation Date</th>\n",
       "      <th>Detection Phase</th>\n",
       "      <th>Resolution</th>\n",
       "      <th>Root Cause Analysis</th>\n",
       "      <th>Technology</th>\n",
       "      <th>DefectAgeInDays</th>\n",
       "      <th>DefectAgeInWeeks</th>\n",
       "    </tr>\n",
       "  </thead>\n",
       "  <tbody>\n",
       "    <tr>\n",
       "      <th>28</th>\n",
       "      <td>43956</td>\n",
       "      <td>Low</td>\n",
       "      <td>Medium</td>\n",
       "      <td>DROP 2_Sprint 4</td>\n",
       "      <td>BUC 006 - New Subscription - Order Capture and...</td>\n",
       "      <td>2019-04-13</td>\n",
       "      <td>Intrastack Testing</td>\n",
       "      <td>Fixed</td>\n",
       "      <td>Minor Change / Improvement</td>\n",
       "      <td>MOBILE POST PAID</td>\n",
       "      <td>1</td>\n",
       "      <td>0</td>\n",
       "    </tr>\n",
       "    <tr>\n",
       "      <th>37</th>\n",
       "      <td>43807</td>\n",
       "      <td>High</td>\n",
       "      <td>High</td>\n",
       "      <td>DROP 2 - FIJA FUNC</td>\n",
       "      <td>BUC 006 - New Subscription - Order Capture and...</td>\n",
       "      <td>2019-04-12</td>\n",
       "      <td>System Testing (Development Only)</td>\n",
       "      <td>Fixed</td>\n",
       "      <td>Minor Change / Improvement</td>\n",
       "      <td>LFI</td>\n",
       "      <td>4</td>\n",
       "      <td>0</td>\n",
       "    </tr>\n",
       "    <tr>\n",
       "      <th>41</th>\n",
       "      <td>43699</td>\n",
       "      <td>High</td>\n",
       "      <td>High</td>\n",
       "      <td>DROP 2_Sprint 4</td>\n",
       "      <td>BUC 060 - Individual Adjustments BI</td>\n",
       "      <td>2019-04-11</td>\n",
       "      <td>Intrastack Testing</td>\n",
       "      <td>Fixed</td>\n",
       "      <td>Coding/Software Fault</td>\n",
       "      <td>Not Available</td>\n",
       "      <td>4</td>\n",
       "      <td>0</td>\n",
       "    </tr>\n",
       "    <tr>\n",
       "      <th>42</th>\n",
       "      <td>43698</td>\n",
       "      <td>Low</td>\n",
       "      <td>Medium</td>\n",
       "      <td>DROP 2_Sprint 3</td>\n",
       "      <td>BUC 049 - Change Ownership Between Consumer Cu...</td>\n",
       "      <td>2019-04-11</td>\n",
       "      <td>Intrastack Testing</td>\n",
       "      <td>Fixed</td>\n",
       "      <td>Minor Change / Improvement</td>\n",
       "      <td>MOBILE POST PAID</td>\n",
       "      <td>0</td>\n",
       "      <td>0</td>\n",
       "    </tr>\n",
       "    <tr>\n",
       "      <th>45</th>\n",
       "      <td>43674</td>\n",
       "      <td>Low</td>\n",
       "      <td>Medium</td>\n",
       "      <td>DROP 2_Sprint 1</td>\n",
       "      <td>BUC 039E - 360 view: Cases</td>\n",
       "      <td>2019-04-10</td>\n",
       "      <td>Intrastack Testing</td>\n",
       "      <td>Fixed</td>\n",
       "      <td>Coding/Software Fault</td>\n",
       "      <td>MOBILE POST PAID</td>\n",
       "      <td>6</td>\n",
       "      <td>0</td>\n",
       "    </tr>\n",
       "  </tbody>\n",
       "</table>\n",
       "</div>"
      ],
      "text/plain": [
       "       Id Priority Severity            Found In  \\\n",
       "28  43956      Low   Medium     DROP 2_Sprint 4   \n",
       "37  43807     High     High  DROP 2 - FIJA FUNC   \n",
       "41  43699     High     High     DROP 2_Sprint 4   \n",
       "42  43698      Low   Medium     DROP 2_Sprint 3   \n",
       "45  43674      Low   Medium     DROP 2_Sprint 1   \n",
       "\n",
       "                                                  BUC Creation Date  \\\n",
       "28  BUC 006 - New Subscription - Order Capture and...    2019-04-13   \n",
       "37  BUC 006 - New Subscription - Order Capture and...    2019-04-12   \n",
       "41                BUC 060 - Individual Adjustments BI    2019-04-11   \n",
       "42  BUC 049 - Change Ownership Between Consumer Cu...    2019-04-11   \n",
       "45                         BUC 039E - 360 view: Cases    2019-04-10   \n",
       "\n",
       "                      Detection Phase Resolution         Root Cause Analysis  \\\n",
       "28                 Intrastack Testing      Fixed  Minor Change / Improvement   \n",
       "37  System Testing (Development Only)      Fixed  Minor Change / Improvement   \n",
       "41                 Intrastack Testing      Fixed       Coding/Software Fault   \n",
       "42                 Intrastack Testing      Fixed  Minor Change / Improvement   \n",
       "45                 Intrastack Testing      Fixed       Coding/Software Fault   \n",
       "\n",
       "          Technology  DefectAgeInDays  DefectAgeInWeeks  \n",
       "28  MOBILE POST PAID                1                 0  \n",
       "37               LFI                4                 0  \n",
       "41     Not Available                4                 0  \n",
       "42  MOBILE POST PAID                0                 0  \n",
       "45  MOBILE POST PAID                6                 0  "
      ]
     },
     "execution_count": 944,
     "metadata": {},
     "output_type": "execute_result"
    }
   ],
   "source": [
    "top5_root_cause = ['Coding/Software Fault','Minor Change / Improvement','No fault / Working as designed','Not Implemented Requirement','System configuration fault']\n",
    "df_tcrm_top5_RCA = df_tcrm.loc[df_tcrm['Root Cause Analysis'].isin(top5_root_cause)]\n",
    "df_tcrm.info()\n",
    "df_tcrm_top5_RCA.info()\n",
    "df_tcrm_top5_RCA.head()"
   ]
  },
  {
   "cell_type": "code",
   "execution_count": null,
   "metadata": {},
   "outputs": [],
   "source": []
  },
  {
   "cell_type": "code",
   "execution_count": 945,
   "metadata": {},
   "outputs": [
    {
     "data": {
      "text/plain": [
       "Root Cause Analysis             Found In           \n",
       "Coding/Software Fault           DROP 2 - FIJA FUNC      34\n",
       "                                DROP 2_Sprint 1         54\n",
       "                                DROP 2_Sprint 2        100\n",
       "                                DROP 2_Sprint 3          4\n",
       "                                DROP 2_Sprint 4         77\n",
       "                                Integracion_interno      1\n",
       "Minor Change / Improvement      DROP 1_1.1               1\n",
       "                                DROP 2 - FIJA FUNC      33\n",
       "                                DROP 2 - MIGRACION       4\n",
       "                                DROP 2_Sprint 1         34\n",
       "                                DROP 2_Sprint 2         50\n",
       "                                DROP 2_Sprint 3          8\n",
       "                                DROP 2_Sprint 4         96\n",
       "                                Integracion_interno      1\n",
       "No fault / Working as designed  DROP 2 - FIJA FUNC       4\n",
       "                                DROP 2_Sprint 1         14\n",
       "                                DROP 2_Sprint 2         20\n",
       "                                DROP 2_Sprint 3          1\n",
       "                                DROP 2_Sprint 4         15\n",
       "                                Integracion_interno      1\n",
       "Not Implemented Requirement     DROP 2 - FIJA FUNC       2\n",
       "                                DROP 2_Sprint 1         17\n",
       "                                DROP 2_Sprint 2         14\n",
       "                                DROP 2_Sprint 3          4\n",
       "                                DROP 2_Sprint 4         11\n",
       "System configuration fault      Bill2Bill                1\n",
       "                                DROP 2 - FIJA FUNC       5\n",
       "                                DROP 2_Sprint 1         11\n",
       "                                DROP 2_Sprint 2         18\n",
       "                                DROP 2_Sprint 3          1\n",
       "                                DROP 2_Sprint 4          9\n",
       "                                Integracion_interno      1\n",
       "Name: Id, dtype: int64"
      ]
     },
     "execution_count": 945,
     "metadata": {},
     "output_type": "execute_result"
    }
   ],
   "source": [
    "df_tcrm_RCA_top5_FoundIn = df_tcrm_top5_RCA.groupby(['Root Cause Analysis','Found In'])['Id'].count()\n",
    "df_tcrm_RCA_top5_FoundIn\n",
    "#this will give us which functionality caused more issues across different root causes"
   ]
  },
  {
   "cell_type": "code",
   "execution_count": 956,
   "metadata": {},
   "outputs": [
    {
     "data": {
      "text/plain": [
       "<matplotlib.axes._subplots.AxesSubplot at 0x20c549e8>"
      ]
     },
     "execution_count": 956,
     "metadata": {},
     "output_type": "execute_result"
    },
    {
     "data": {
      "image/png": "[encoded data removed]",
      "text/plain": [
       "<Figure size 1080x576 with 1 Axes>"
      ]
     },
     "metadata": {},
     "output_type": "display_data"
    }
   ],
   "source": [
    "#df_tcrm_RCA_top5_FoundIn\n",
    "#plt.figure(figsize=(15,8))\n",
    "#plt.xlabel(\"RCA with Found In\")\n",
    "#plt.ylabel(\"Defect Count\")\n",
    "#plt.title(\"Defect Count vs RCA and Found In\")\n",
    "df_tcrm_RCA_top5_FoundIn_unstack = df_tcrm_RCA_top5_FoundIn.unstack()\n",
    "df_tcrm_RCA_top5_FoundIn_unstack.plot(kind = 'bar', stacked = True, figsize=(15,8), title = \"Defect Count vs RCA and Found In\")"
   ]
  },
  {
   "cell_type": "code",
   "execution_count": 957,
   "metadata": {},
   "outputs": [
    {
     "data": {
      "text/plain": [
       "Root Cause Analysis             Detection Phase                    \n",
       "Coding/Software Fault           Intrastack Testing                     212\n",
       "                                Sanity                                   5\n",
       "                                System Integration Testing              10\n",
       "                                System Testing (Development Only)       43\n",
       "Minor Change / Improvement      Intrastack Testing                     162\n",
       "                                Intrastack Testing - Datos Migrados      1\n",
       "                                Post Production Support                  1\n",
       "                                Regression Testing                       1\n",
       "                                Sanity                                   3\n",
       "                                System Integration Testing              16\n",
       "                                System Testing (Development Only)       41\n",
       "                                Unit Testing (Development Only)          2\n",
       "No fault / Working as designed  Funcional                                1\n",
       "                                Intrastack Testing                      40\n",
       "                                Post Production Support                  2\n",
       "                                Sanity                                   2\n",
       "                                System Integration Testing               6\n",
       "                                System Testing (Development Only)        4\n",
       "Not Implemented Requirement     Intrastack Testing                      42\n",
       "                                System Integration Testing               3\n",
       "                                System Testing (Development Only)        3\n",
       "System configuration fault      Intrastack Testing                      31\n",
       "                                Intrastack Testing - Flujos              1\n",
       "                                Intrastack Testing - Ofers               1\n",
       "                                System Integration Testing               4\n",
       "                                System Testing (Development Only)        9\n",
       "Name: Id, dtype: int64"
      ]
     },
     "execution_count": 957,
     "metadata": {},
     "output_type": "execute_result"
    }
   ],
   "source": [
    "df_tcrm_RCA_top5_DetectionPhase = df_tcrm_top5_RCA.groupby(['Root Cause Analysis','Detection Phase'])['Id'].count()\n",
    "df_tcrm_RCA_top5_DetectionPhase"
   ]
  },
  {
   "cell_type": "code",
   "execution_count": 959,
   "metadata": {},
   "outputs": [
    {
     "data": {
      "text/plain": [
       "<matplotlib.axes._subplots.AxesSubplot at 0x227c7080>"
      ]
     },
     "execution_count": 959,
     "metadata": {},
     "output_type": "execute_result"
    },
    {
     "data": {
      "image/png": "[encoded data removed]",
      "text/plain": [
       "<Figure size 1080x576 with 1 Axes>"
      ]
     },
     "metadata": {},
     "output_type": "display_data"
    }
   ],
   "source": [
    "df_tcrm_RCA_top5_DetectionPhase_unstack = df_tcrm_RCA_top5_DetectionPhase.unstack()\n",
    "df_tcrm_RCA_top5_DetectionPhase_unstack.plot(kind = 'bar', stacked = True, figsize=(15,8), title = \"Defect Count vs RCA and Detection Phase\")"
   ]
  },
  {
   "cell_type": "code",
   "execution_count": 960,
   "metadata": {},
   "outputs": [
    {
     "data": {
      "text/plain": [
       "Root Cause Analysis             Technology                     \n",
       "Coding/Software Fault           HFC                                 32\n",
       "                                HFC\\nMOBILE POST PAID                1\n",
       "                                LFI                                  3\n",
       "                                LFI\\nMOBILE POST PAID                1\n",
       "                                MOBILE HYBRID                        1\n",
       "                                MOBILE POST PAID                   151\n",
       "                                Not Available                       81\n",
       "Minor Change / Improvement      HFC                                 24\n",
       "                                LFI                                 10\n",
       "                                MOBILE POST PAID                   121\n",
       "                                MOBILE POST PAID\\nHFC                1\n",
       "                                MOBILE POST PAID\\nMOBILE HYBRID      1\n",
       "                                Not Available                       70\n",
       "No fault / Working as designed  HFC                                  3\n",
       "                                MOBILE HYBRID                        1\n",
       "                                MOBILE POST PAID                    36\n",
       "                                N/A\\nHFC                             1\n",
       "                                Not Available                       14\n",
       "Not Implemented Requirement     HFC                                  1\n",
       "                                LFI                                  1\n",
       "                                MOBILE POST PAID                    35\n",
       "                                Not Available                       11\n",
       "System configuration fault      HFC                                  5\n",
       "                                LFI                                  1\n",
       "                                MOBILE POST PAID                    31\n",
       "                                N/A\\nMOBILE POST PAID                1\n",
       "                                Not Available                        8\n",
       "Name: Id, dtype: int64"
      ]
     },
     "execution_count": 960,
     "metadata": {},
     "output_type": "execute_result"
    }
   ],
   "source": [
    "df_tcrm_RCA_top5_Technology = df_tcrm_top5_RCA.groupby(['Root Cause Analysis','Technology'])['Id'].count()\n",
    "df_tcrm_RCA_top5_Technology"
   ]
  },
  {
   "cell_type": "code",
   "execution_count": 961,
   "metadata": {},
   "outputs": [
    {
     "data": {
      "text/plain": [
       "<matplotlib.axes._subplots.AxesSubplot at 0x2130f358>"
      ]
     },
     "execution_count": 961,
     "metadata": {},
     "output_type": "execute_result"
    },
    {
     "data": {
      "image/png": "[encoded data removed]",
      "text/plain": [
       "<Figure size 1080x576 with 1 Axes>"
      ]
     },
     "metadata": {},
     "output_type": "display_data"
    }
   ],
   "source": [
    "df_tcrm_RCA_top5_Technology_unstack = df_tcrm_RCA_top5_Technology.unstack()\n",
    "df_tcrm_RCA_top5_Technology_unstack.plot(kind = 'bar', stacked = True, figsize=(15,8), title = \"Defect Count vs RCA and Technology\")"
   ]
  },
  {
   "cell_type": "code",
   "execution_count": 973,
   "metadata": {},
   "outputs": [
    {
     "data": {
      "text/html": [
       "<div>\n",
       "<style scoped>\n",
       "    .dataframe tbody tr th:only-of-type {\n",
       "        vertical-align: middle;\n",
       "    }\n",
       "\n",
       "    .dataframe tbody tr th {\n",
       "        vertical-align: top;\n",
       "    }\n",
       "\n",
       "    .dataframe thead th {\n",
       "        text-align: right;\n",
       "    }\n",
       "</style>\n",
       "<table border=\"1\" class=\"dataframe\">\n",
       "  <thead>\n",
       "    <tr style=\"text-align: right;\">\n",
       "      <th></th>\n",
       "      <th>BUC</th>\n",
       "      <th>Id</th>\n",
       "    </tr>\n",
       "  </thead>\n",
       "  <tbody>\n",
       "    <tr>\n",
       "      <th>66</th>\n",
       "      <td>Not Available</td>\n",
       "      <td>379</td>\n",
       "    </tr>\n",
       "    <tr>\n",
       "      <th>32</th>\n",
       "      <td>BUC 053 - Claro Case Management</td>\n",
       "      <td>90</td>\n",
       "    </tr>\n",
       "    <tr>\n",
       "      <th>2</th>\n",
       "      <td>BUC 006 - New Subscription - Order Capture and...</td>\n",
       "      <td>49</td>\n",
       "    </tr>\n",
       "    <tr>\n",
       "      <th>31</th>\n",
       "      <td>BUC 052 - Generic Case Flow ( Not Regulated)</td>\n",
       "      <td>35</td>\n",
       "    </tr>\n",
       "    <tr>\n",
       "      <th>35</th>\n",
       "      <td>BUC 062 - OST Presencial</td>\n",
       "      <td>27</td>\n",
       "    </tr>\n",
       "    <tr>\n",
       "      <th>50</th>\n",
       "      <td>BUC 097A - Advanced Payment BI</td>\n",
       "      <td>14</td>\n",
       "    </tr>\n",
       "    <tr>\n",
       "      <th>29</th>\n",
       "      <td>BUC 049 - Change Ownership Between Consumer Cu...</td>\n",
       "      <td>10</td>\n",
       "    </tr>\n",
       "    <tr>\n",
       "      <th>44</th>\n",
       "      <td>BUC 076 - Cease Subscription</td>\n",
       "      <td>10</td>\n",
       "    </tr>\n",
       "    <tr>\n",
       "      <th>33</th>\n",
       "      <td>BUC 060 - Individual Adjustments BI</td>\n",
       "      <td>8</td>\n",
       "    </tr>\n",
       "    <tr>\n",
       "      <th>55</th>\n",
       "      <td>BUC 100 - Direct Debit Affiliation BI</td>\n",
       "      <td>8</td>\n",
       "    </tr>\n",
       "  </tbody>\n",
       "</table>\n",
       "</div>"
      ],
      "text/plain": [
       "                                                  BUC   Id\n",
       "66                                      Not Available  379\n",
       "32                    BUC 053 - Claro Case Management   90\n",
       "2   BUC 006 - New Subscription - Order Capture and...   49\n",
       "31       BUC 052 - Generic Case Flow ( Not Regulated)   35\n",
       "35                           BUC 062 - OST Presencial   27\n",
       "50                     BUC 097A - Advanced Payment BI   14\n",
       "29  BUC 049 - Change Ownership Between Consumer Cu...   10\n",
       "44                       BUC 076 - Cease Subscription   10\n",
       "33                BUC 060 - Individual Adjustments BI    8\n",
       "55              BUC 100 - Direct Debit Affiliation BI    8"
      ]
     },
     "execution_count": 973,
     "metadata": {},
     "output_type": "execute_result"
    }
   ],
   "source": [
    "#no of defects across BUC\n",
    "df_tcrm_grpby_BUCDefctCnt = df_tcrm.groupby(['BUC'])['Id'].count().reset_index()\n",
    "df_tcrm_grpby_BUCDefctCnt_sorted = df_tcrm_grpby_BUCDefctCnt.sort_values('Id', ascending = False)\n",
    "df_tcrm_grpby_BUCDefctCnt_sorted_head10 = df_tcrm_grpby_BUCDefctCnt_sorted.head(10)\n",
    "df_tcrm_grpby_BUCDefctCnt_sorted_head10"
   ]
  },
  {
   "cell_type": "code",
   "execution_count": 974,
   "metadata": {},
   "outputs": [
    {
     "data": {
      "text/plain": [
       "Index(['BUC', 'Id'], dtype='object')"
      ]
     },
     "execution_count": 974,
     "metadata": {},
     "output_type": "execute_result"
    }
   ],
   "source": [
    "df_tcrm_grpby_BUCDefctCnt_sorted_head10.columns"
   ]
  },
  {
   "cell_type": "code",
   "execution_count": 977,
   "metadata": {},
   "outputs": [
    {
     "data": {
      "text/plain": [
       "<matplotlib.axes._subplots.AxesSubplot at 0x234d0a58>"
      ]
     },
     "execution_count": 977,
     "metadata": {},
     "output_type": "execute_result"
    },
    {
     "data": {
      "image/png": "[encoded data removed]",
      "text/plain": [
       "<Figure size 1080x576 with 1 Axes>"
      ]
     },
     "metadata": {},
     "output_type": "display_data"
    }
   ],
   "source": [
    "df_tcrm_grpby_BUCDefctCnt_sorted_head10.plot(x = 'BUC', kind = 'bar', figsize=(15,8), title = \"Defect Count vs top10 BUC\")"
   ]
  },
  {
   "cell_type": "code",
   "execution_count": 980,
   "metadata": {},
   "outputs": [
    {
     "data": {
      "text/html": [
       "<div>\n",
       "<style scoped>\n",
       "    .dataframe tbody tr th:only-of-type {\n",
       "        vertical-align: middle;\n",
       "    }\n",
       "\n",
       "    .dataframe tbody tr th {\n",
       "        vertical-align: top;\n",
       "    }\n",
       "\n",
       "    .dataframe thead th {\n",
       "        text-align: right;\n",
       "    }\n",
       "</style>\n",
       "<table border=\"1\" class=\"dataframe\">\n",
       "  <thead>\n",
       "    <tr style=\"text-align: right;\">\n",
       "      <th></th>\n",
       "      <th>BUC</th>\n",
       "      <th>Id</th>\n",
       "    </tr>\n",
       "  </thead>\n",
       "  <tbody>\n",
       "    <tr>\n",
       "      <th>66</th>\n",
       "      <td>Not Available</td>\n",
       "      <td>379</td>\n",
       "    </tr>\n",
       "    <tr>\n",
       "      <th>32</th>\n",
       "      <td>BUC 053 - Claro Case Management</td>\n",
       "      <td>90</td>\n",
       "    </tr>\n",
       "    <tr>\n",
       "      <th>2</th>\n",
       "      <td>BUC 006 - New Subscription - Order Capture and...</td>\n",
       "      <td>49</td>\n",
       "    </tr>\n",
       "    <tr>\n",
       "      <th>31</th>\n",
       "      <td>BUC 052 - Generic Case Flow ( Not Regulated)</td>\n",
       "      <td>35</td>\n",
       "    </tr>\n",
       "    <tr>\n",
       "      <th>35</th>\n",
       "      <td>BUC 062 - OST Presencial</td>\n",
       "      <td>27</td>\n",
       "    </tr>\n",
       "    <tr>\n",
       "      <th>50</th>\n",
       "      <td>BUC 097A - Advanced Payment BI</td>\n",
       "      <td>14</td>\n",
       "    </tr>\n",
       "    <tr>\n",
       "      <th>29</th>\n",
       "      <td>BUC 049 - Change Ownership Between Consumer Cu...</td>\n",
       "      <td>10</td>\n",
       "    </tr>\n",
       "    <tr>\n",
       "      <th>44</th>\n",
       "      <td>BUC 076 - Cease Subscription</td>\n",
       "      <td>10</td>\n",
       "    </tr>\n",
       "    <tr>\n",
       "      <th>33</th>\n",
       "      <td>BUC 060 - Individual Adjustments BI</td>\n",
       "      <td>8</td>\n",
       "    </tr>\n",
       "    <tr>\n",
       "      <th>55</th>\n",
       "      <td>BUC 100 - Direct Debit Affiliation BI</td>\n",
       "      <td>8</td>\n",
       "    </tr>\n",
       "  </tbody>\n",
       "</table>\n",
       "</div>"
      ],
      "text/plain": [
       "                                                  BUC   Id\n",
       "66                                      Not Available  379\n",
       "32                    BUC 053 - Claro Case Management   90\n",
       "2   BUC 006 - New Subscription - Order Capture and...   49\n",
       "31       BUC 052 - Generic Case Flow ( Not Regulated)   35\n",
       "35                           BUC 062 - OST Presencial   27\n",
       "50                     BUC 097A - Advanced Payment BI   14\n",
       "29  BUC 049 - Change Ownership Between Consumer Cu...   10\n",
       "44                       BUC 076 - Cease Subscription   10\n",
       "33                BUC 060 - Individual Adjustments BI    8\n",
       "55              BUC 100 - Direct Debit Affiliation BI    8"
      ]
     },
     "execution_count": 980,
     "metadata": {},
     "output_type": "execute_result"
    }
   ],
   "source": [
    "#no of defects across BUC\n",
    "df_tcrm_grpby_BUCDefectAgeInDays = df_tcrm.groupby(['BUC'])['DefectAgeInDays'].mean().reset_index()\n",
    "df_tcrm_grpby_BUCDefectAgeInDays_sorted = df_tcrm_grpby_BUCDefectAgeInDays.sort_values('DefectAgeInDays', ascending = False)\n",
    "df_tcrm_grpby_BUCDefectAgeInDays_sorted_head10 = df_tcrm_grpby_BUCDefctCnt_sorted.head(10)\n",
    "df_tcrm_grpby_BUCDefectAgeInDays_sorted_head10"
   ]
  },
  {
   "cell_type": "code",
   "execution_count": null,
   "metadata": {},
   "outputs": [],
   "source": []
  },
  {
   "cell_type": "code",
   "execution_count": 982,
   "metadata": {},
   "outputs": [
    {
     "data": {
      "text/plain": [
       "<matplotlib.axes._subplots.AxesSubplot at 0x22f8e9b0>"
      ]
     },
     "execution_count": 982,
     "metadata": {},
     "output_type": "execute_result"
    },
    {
     "data": {
      "image/png": "[encoded data removed]",
      "text/plain": [
       "<Figure size 1080x576 with 1 Axes>"
      ]
     },
     "metadata": {},
     "output_type": "display_data"
    }
   ],
   "source": [
    "df_tcrm_grpby_BUCDefectAgeInDays_sorted_head10.plot(x = 'BUC', kind = 'bar', figsize=(15,8), title = \"Defect Aging vs BUC\")"
   ]
  },
  {
   "cell_type": "code",
   "execution_count": null,
   "metadata": {},
   "outputs": [],
   "source": []
  },
  {
   "cell_type": "markdown",
   "metadata": {},
   "source": [
    "### K-means clustering model building"
   ]
  },
  {
   "cell_type": "code",
   "execution_count": 185,
   "metadata": {},
   "outputs": [],
   "source": [
    "df_tcrm_model = df_tcrm.copy(deep = True)"
   ]
  },
  {
   "cell_type": "code",
   "execution_count": 186,
   "metadata": {},
   "outputs": [],
   "source": [
    "#we can remove DefectAgeInDays\n",
    "df_tcrm_model.drop(['DefectAge'], axis=1, inplace=True)\n",
    "#we can remove creation date now\n",
    "df_tcrm_model.drop(['Creation Date'], axis=1, inplace=True)"
   ]
  },
  {
   "cell_type": "code",
   "execution_count": 187,
   "metadata": {},
   "outputs": [
    {
     "name": "stdout",
     "output_type": "stream",
     "text": [
      "<class 'pandas.core.frame.DataFrame'>\n",
      "Int64Index: 796 entries, 28 to 1510\n",
      "Data columns (total 10 columns):\n",
      "Priority               796 non-null object\n",
      "Severity               796 non-null object\n",
      "Found In               796 non-null object\n",
      "BUC                    796 non-null object\n",
      "Detection Phase        796 non-null object\n",
      "Resolution             796 non-null object\n",
      "Root Cause Analysis    796 non-null object\n",
      "Technology             796 non-null object\n",
      "DefectCreationMonth    796 non-null int64\n",
      "DefectAgeInWeeks       796 non-null int32\n",
      "dtypes: int32(1), int64(1), object(8)\n",
      "memory usage: 65.3+ KB\n"
     ]
    }
   ],
   "source": [
    "df_tcrm_model.info()"
   ]
  },
  {
   "cell_type": "code",
   "execution_count": 191,
   "metadata": {},
   "outputs": [],
   "source": [
    "#dummy coding using loop\n",
    "for col in df_tcrm_model.columns:\n",
    "    if df_tcrm_model[col].dtype == 'object':\n",
    "        df_tcrm_model[col] = pd.Categorical(df_tcrm_model[col]).codes"
   ]
  },
  {
   "cell_type": "code",
   "execution_count": 192,
   "metadata": {},
   "outputs": [
    {
     "data": {
      "text/html": [
       "<div>\n",
       "<style scoped>\n",
       "    .dataframe tbody tr th:only-of-type {\n",
       "        vertical-align: middle;\n",
       "    }\n",
       "\n",
       "    .dataframe tbody tr th {\n",
       "        vertical-align: top;\n",
       "    }\n",
       "\n",
       "    .dataframe thead th {\n",
       "        text-align: right;\n",
       "    }\n",
       "</style>\n",
       "<table border=\"1\" class=\"dataframe\">\n",
       "  <thead>\n",
       "    <tr style=\"text-align: right;\">\n",
       "      <th></th>\n",
       "      <th>Priority</th>\n",
       "      <th>Severity</th>\n",
       "      <th>Found In</th>\n",
       "      <th>BUC</th>\n",
       "      <th>Detection Phase</th>\n",
       "      <th>Resolution</th>\n",
       "      <th>Root Cause Analysis</th>\n",
       "      <th>Technology</th>\n",
       "      <th>DefectCreationMonth</th>\n",
       "      <th>DefectAgeInWeeks</th>\n",
       "    </tr>\n",
       "  </thead>\n",
       "  <tbody>\n",
       "    <tr>\n",
       "      <th>28</th>\n",
       "      <td>1</td>\n",
       "      <td>3</td>\n",
       "      <td>7</td>\n",
       "      <td>2</td>\n",
       "      <td>1</td>\n",
       "      <td>1</td>\n",
       "      <td>6</td>\n",
       "      <td>6</td>\n",
       "      <td>4</td>\n",
       "      <td>0</td>\n",
       "    </tr>\n",
       "    <tr>\n",
       "      <th>29</th>\n",
       "      <td>1</td>\n",
       "      <td>3</td>\n",
       "      <td>5</td>\n",
       "      <td>46</td>\n",
       "      <td>1</td>\n",
       "      <td>1</td>\n",
       "      <td>3</td>\n",
       "      <td>6</td>\n",
       "      <td>4</td>\n",
       "      <td>0</td>\n",
       "    </tr>\n",
       "    <tr>\n",
       "      <th>37</th>\n",
       "      <td>0</td>\n",
       "      <td>2</td>\n",
       "      <td>2</td>\n",
       "      <td>2</td>\n",
       "      <td>9</td>\n",
       "      <td>1</td>\n",
       "      <td>6</td>\n",
       "      <td>2</td>\n",
       "      <td>4</td>\n",
       "      <td>0</td>\n",
       "    </tr>\n",
       "    <tr>\n",
       "      <th>41</th>\n",
       "      <td>0</td>\n",
       "      <td>2</td>\n",
       "      <td>7</td>\n",
       "      <td>33</td>\n",
       "      <td>1</td>\n",
       "      <td>1</td>\n",
       "      <td>0</td>\n",
       "      <td>11</td>\n",
       "      <td>4</td>\n",
       "      <td>0</td>\n",
       "    </tr>\n",
       "    <tr>\n",
       "      <th>42</th>\n",
       "      <td>1</td>\n",
       "      <td>3</td>\n",
       "      <td>6</td>\n",
       "      <td>29</td>\n",
       "      <td>1</td>\n",
       "      <td>1</td>\n",
       "      <td>6</td>\n",
       "      <td>6</td>\n",
       "      <td>4</td>\n",
       "      <td>0</td>\n",
       "    </tr>\n",
       "  </tbody>\n",
       "</table>\n",
       "</div>"
      ],
      "text/plain": [
       "    Priority  Severity  Found In  BUC  Detection Phase  Resolution  \\\n",
       "28         1         3         7    2                1           1   \n",
       "29         1         3         5   46                1           1   \n",
       "37         0         2         2    2                9           1   \n",
       "41         0         2         7   33                1           1   \n",
       "42         1         3         6   29                1           1   \n",
       "\n",
       "    Root Cause Analysis  Technology  DefectCreationMonth  DefectAgeInWeeks  \n",
       "28                    6           6                    4                 0  \n",
       "29                    3           6                    4                 0  \n",
       "37                    6           2                    4                 0  \n",
       "41                    0          11                    4                 0  \n",
       "42                    6           6                    4                 0  "
      ]
     },
     "execution_count": 192,
     "metadata": {},
     "output_type": "execute_result"
    }
   ],
   "source": [
    "df_tcrm_model.head()"
   ]
  },
  {
   "cell_type": "code",
   "execution_count": 193,
   "metadata": {},
   "outputs": [
    {
     "data": {
      "text/html": [
       "<div>\n",
       "<style scoped>\n",
       "    .dataframe tbody tr th:only-of-type {\n",
       "        vertical-align: middle;\n",
       "    }\n",
       "\n",
       "    .dataframe tbody tr th {\n",
       "        vertical-align: top;\n",
       "    }\n",
       "\n",
       "    .dataframe thead th {\n",
       "        text-align: right;\n",
       "    }\n",
       "</style>\n",
       "<table border=\"1\" class=\"dataframe\">\n",
       "  <thead>\n",
       "    <tr style=\"text-align: right;\">\n",
       "      <th></th>\n",
       "      <th>Priority</th>\n",
       "      <th>Severity</th>\n",
       "      <th>Found In</th>\n",
       "      <th>BUC</th>\n",
       "      <th>Detection Phase</th>\n",
       "      <th>Resolution</th>\n",
       "      <th>Root Cause Analysis</th>\n",
       "      <th>Technology</th>\n",
       "      <th>DefectCreationMonth</th>\n",
       "      <th>DefectAgeInWeeks</th>\n",
       "    </tr>\n",
       "  </thead>\n",
       "  <tbody>\n",
       "    <tr>\n",
       "      <th>0</th>\n",
       "      <td>0.5</td>\n",
       "      <td>0.75</td>\n",
       "      <td>0.875</td>\n",
       "      <td>0.029851</td>\n",
       "      <td>0.1</td>\n",
       "      <td>0.5</td>\n",
       "      <td>0.333333</td>\n",
       "      <td>0.545455</td>\n",
       "      <td>0.272727</td>\n",
       "      <td>0.0</td>\n",
       "    </tr>\n",
       "    <tr>\n",
       "      <th>1</th>\n",
       "      <td>0.5</td>\n",
       "      <td>0.75</td>\n",
       "      <td>0.625</td>\n",
       "      <td>0.686567</td>\n",
       "      <td>0.1</td>\n",
       "      <td>0.5</td>\n",
       "      <td>0.166667</td>\n",
       "      <td>0.545455</td>\n",
       "      <td>0.272727</td>\n",
       "      <td>0.0</td>\n",
       "    </tr>\n",
       "    <tr>\n",
       "      <th>2</th>\n",
       "      <td>0.0</td>\n",
       "      <td>0.50</td>\n",
       "      <td>0.250</td>\n",
       "      <td>0.029851</td>\n",
       "      <td>0.9</td>\n",
       "      <td>0.5</td>\n",
       "      <td>0.333333</td>\n",
       "      <td>0.181818</td>\n",
       "      <td>0.272727</td>\n",
       "      <td>0.0</td>\n",
       "    </tr>\n",
       "    <tr>\n",
       "      <th>3</th>\n",
       "      <td>0.0</td>\n",
       "      <td>0.50</td>\n",
       "      <td>0.875</td>\n",
       "      <td>0.492537</td>\n",
       "      <td>0.1</td>\n",
       "      <td>0.5</td>\n",
       "      <td>0.000000</td>\n",
       "      <td>1.000000</td>\n",
       "      <td>0.272727</td>\n",
       "      <td>0.0</td>\n",
       "    </tr>\n",
       "    <tr>\n",
       "      <th>4</th>\n",
       "      <td>0.5</td>\n",
       "      <td>0.75</td>\n",
       "      <td>0.750</td>\n",
       "      <td>0.432836</td>\n",
       "      <td>0.1</td>\n",
       "      <td>0.5</td>\n",
       "      <td>0.333333</td>\n",
       "      <td>0.545455</td>\n",
       "      <td>0.272727</td>\n",
       "      <td>0.0</td>\n",
       "    </tr>\n",
       "  </tbody>\n",
       "</table>\n",
       "</div>"
      ],
      "text/plain": [
       "   Priority  Severity  Found In       BUC  Detection Phase  Resolution  \\\n",
       "0       0.5      0.75     0.875  0.029851              0.1         0.5   \n",
       "1       0.5      0.75     0.625  0.686567              0.1         0.5   \n",
       "2       0.0      0.50     0.250  0.029851              0.9         0.5   \n",
       "3       0.0      0.50     0.875  0.492537              0.1         0.5   \n",
       "4       0.5      0.75     0.750  0.432836              0.1         0.5   \n",
       "\n",
       "   Root Cause Analysis  Technology  DefectCreationMonth  DefectAgeInWeeks  \n",
       "0             0.333333    0.545455             0.272727               0.0  \n",
       "1             0.166667    0.545455             0.272727               0.0  \n",
       "2             0.333333    0.181818             0.272727               0.0  \n",
       "3             0.000000    1.000000             0.272727               0.0  \n",
       "4             0.333333    0.545455             0.272727               0.0  "
      ]
     },
     "execution_count": 193,
     "metadata": {},
     "output_type": "execute_result"
    },
    {
     "data": {
      "text/html": [
       "<div>\n",
       "<style scoped>\n",
       "    .dataframe tbody tr th:only-of-type {\n",
       "        vertical-align: middle;\n",
       "    }\n",
       "\n",
       "    .dataframe tbody tr th {\n",
       "        vertical-align: top;\n",
       "    }\n",
       "\n",
       "    .dataframe thead th {\n",
       "        text-align: right;\n",
       "    }\n",
       "</style>\n",
       "<table border=\"1\" class=\"dataframe\">\n",
       "  <thead>\n",
       "    <tr style=\"text-align: right;\">\n",
       "      <th></th>\n",
       "      <th>Priority</th>\n",
       "      <th>Severity</th>\n",
       "      <th>Found In</th>\n",
       "      <th>BUC</th>\n",
       "      <th>Detection Phase</th>\n",
       "      <th>Resolution</th>\n",
       "      <th>Root Cause Analysis</th>\n",
       "      <th>Technology</th>\n",
       "      <th>DefectCreationMonth</th>\n",
       "      <th>DefectAgeInWeeks</th>\n",
       "    </tr>\n",
       "  </thead>\n",
       "  <tbody>\n",
       "    <tr>\n",
       "      <th>count</th>\n",
       "      <td>796.000000</td>\n",
       "      <td>796.000000</td>\n",
       "      <td>796.000000</td>\n",
       "      <td>796.000000</td>\n",
       "      <td>796.000000</td>\n",
       "      <td>796.000000</td>\n",
       "      <td>796.000000</td>\n",
       "      <td>796.000000</td>\n",
       "      <td>796.000000</td>\n",
       "      <td>796.000000</td>\n",
       "    </tr>\n",
       "    <tr>\n",
       "      <th>mean</th>\n",
       "      <td>0.453518</td>\n",
       "      <td>0.601759</td>\n",
       "      <td>0.642745</td>\n",
       "      <td>0.702636</td>\n",
       "      <td>0.276633</td>\n",
       "      <td>0.538317</td>\n",
       "      <td>0.294458</td>\n",
       "      <td>0.622316</td>\n",
       "      <td>0.367976</td>\n",
       "      <td>0.084264</td>\n",
       "    </tr>\n",
       "    <tr>\n",
       "      <th>std</th>\n",
       "      <td>0.389775</td>\n",
       "      <td>0.245417</td>\n",
       "      <td>0.204267</td>\n",
       "      <td>0.325669</td>\n",
       "      <td>0.321211</td>\n",
       "      <td>0.156941</td>\n",
       "      <td>0.281307</td>\n",
       "      <td>0.291965</td>\n",
       "      <td>0.378625</td>\n",
       "      <td>0.131046</td>\n",
       "    </tr>\n",
       "    <tr>\n",
       "      <th>min</th>\n",
       "      <td>0.000000</td>\n",
       "      <td>0.000000</td>\n",
       "      <td>0.000000</td>\n",
       "      <td>0.000000</td>\n",
       "      <td>0.000000</td>\n",
       "      <td>0.000000</td>\n",
       "      <td>0.000000</td>\n",
       "      <td>0.000000</td>\n",
       "      <td>0.000000</td>\n",
       "      <td>0.000000</td>\n",
       "    </tr>\n",
       "    <tr>\n",
       "      <th>25%</th>\n",
       "      <td>0.000000</td>\n",
       "      <td>0.500000</td>\n",
       "      <td>0.500000</td>\n",
       "      <td>0.477612</td>\n",
       "      <td>0.100000</td>\n",
       "      <td>0.500000</td>\n",
       "      <td>0.000000</td>\n",
       "      <td>0.545455</td>\n",
       "      <td>0.090909</td>\n",
       "      <td>0.000000</td>\n",
       "    </tr>\n",
       "    <tr>\n",
       "      <th>50%</th>\n",
       "      <td>0.500000</td>\n",
       "      <td>0.750000</td>\n",
       "      <td>0.625000</td>\n",
       "      <td>0.873134</td>\n",
       "      <td>0.100000</td>\n",
       "      <td>0.500000</td>\n",
       "      <td>0.333333</td>\n",
       "      <td>0.545455</td>\n",
       "      <td>0.181818</td>\n",
       "      <td>0.037037</td>\n",
       "    </tr>\n",
       "    <tr>\n",
       "      <th>75%</th>\n",
       "      <td>1.000000</td>\n",
       "      <td>0.750000</td>\n",
       "      <td>0.875000</td>\n",
       "      <td>0.985075</td>\n",
       "      <td>0.100000</td>\n",
       "      <td>0.500000</td>\n",
       "      <td>0.444444</td>\n",
       "      <td>1.000000</td>\n",
       "      <td>0.818182</td>\n",
       "      <td>0.111111</td>\n",
       "    </tr>\n",
       "    <tr>\n",
       "      <th>max</th>\n",
       "      <td>1.000000</td>\n",
       "      <td>1.000000</td>\n",
       "      <td>1.000000</td>\n",
       "      <td>1.000000</td>\n",
       "      <td>1.000000</td>\n",
       "      <td>1.000000</td>\n",
       "      <td>1.000000</td>\n",
       "      <td>1.000000</td>\n",
       "      <td>1.000000</td>\n",
       "      <td>1.000000</td>\n",
       "    </tr>\n",
       "  </tbody>\n",
       "</table>\n",
       "</div>"
      ],
      "text/plain": [
       "         Priority    Severity    Found In         BUC  Detection Phase  \\\n",
       "count  796.000000  796.000000  796.000000  796.000000       796.000000   \n",
       "mean     0.453518    0.601759    0.642745    0.702636         0.276633   \n",
       "std      0.389775    0.245417    0.204267    0.325669         0.321211   \n",
       "min      0.000000    0.000000    0.000000    0.000000         0.000000   \n",
       "25%      0.000000    0.500000    0.500000    0.477612         0.100000   \n",
       "50%      0.500000    0.750000    0.625000    0.873134         0.100000   \n",
       "75%      1.000000    0.750000    0.875000    0.985075         0.100000   \n",
       "max      1.000000    1.000000    1.000000    1.000000         1.000000   \n",
       "\n",
       "       Resolution  Root Cause Analysis  Technology  DefectCreationMonth  \\\n",
       "count  796.000000           796.000000  796.000000           796.000000   \n",
       "mean     0.538317             0.294458    0.622316             0.367976   \n",
       "std      0.156941             0.281307    0.291965             0.378625   \n",
       "min      0.000000             0.000000    0.000000             0.000000   \n",
       "25%      0.500000             0.000000    0.545455             0.090909   \n",
       "50%      0.500000             0.333333    0.545455             0.181818   \n",
       "75%      0.500000             0.444444    1.000000             0.818182   \n",
       "max      1.000000             1.000000    1.000000             1.000000   \n",
       "\n",
       "       DefectAgeInWeeks  \n",
       "count        796.000000  \n",
       "mean           0.084264  \n",
       "std            0.131046  \n",
       "min            0.000000  \n",
       "25%            0.000000  \n",
       "50%            0.037037  \n",
       "75%            0.111111  \n",
       "max            1.000000  "
      ]
     },
     "execution_count": 193,
     "metadata": {},
     "output_type": "execute_result"
    }
   ],
   "source": [
    "#Scale all values between 0 and 1\n",
    "from sklearn.preprocessing import MinMaxScaler\n",
    "scId = MinMaxScaler(feature_range=(0,1))\n",
    "arr_scId = scId.fit_transform(df_tcrm_model)\n",
    "df_scId = pd.DataFrame(arr_scId, columns = df_tcrm_model.columns)\n",
    "df_scId.head()\n",
    "df_scId.describe()"
   ]
  },
  {
   "cell_type": "code",
   "execution_count": 194,
   "metadata": {},
   "outputs": [
    {
     "data": {
      "text/plain": [
       "KMeans(algorithm='auto', copy_x=True, init='k-means++', max_iter=300,\n",
       "    n_clusters=2, n_init=10, n_jobs=1, precompute_distances='auto',\n",
       "    random_state=None, tol=0.0001, verbose=0)"
      ]
     },
     "execution_count": 194,
     "metadata": {},
     "output_type": "execute_result"
    },
    {
     "data": {
      "text/plain": [
       "KMeans(algorithm='auto', copy_x=True, init='k-means++', max_iter=300,\n",
       "    n_clusters=3, n_init=10, n_jobs=1, precompute_distances='auto',\n",
       "    random_state=None, tol=0.0001, verbose=0)"
      ]
     },
     "execution_count": 194,
     "metadata": {},
     "output_type": "execute_result"
    },
    {
     "data": {
      "text/plain": [
       "KMeans(algorithm='auto', copy_x=True, init='k-means++', max_iter=300,\n",
       "    n_clusters=4, n_init=10, n_jobs=1, precompute_distances='auto',\n",
       "    random_state=None, tol=0.0001, verbose=0)"
      ]
     },
     "execution_count": 194,
     "metadata": {},
     "output_type": "execute_result"
    },
    {
     "data": {
      "text/plain": [
       "KMeans(algorithm='auto', copy_x=True, init='k-means++', max_iter=300,\n",
       "    n_clusters=5, n_init=10, n_jobs=1, precompute_distances='auto',\n",
       "    random_state=None, tol=0.0001, verbose=0)"
      ]
     },
     "execution_count": 194,
     "metadata": {},
     "output_type": "execute_result"
    },
    {
     "data": {
      "text/plain": [
       "KMeans(algorithm='auto', copy_x=True, init='k-means++', max_iter=300,\n",
       "    n_clusters=6, n_init=10, n_jobs=1, precompute_distances='auto',\n",
       "    random_state=None, tol=0.0001, verbose=0)"
      ]
     },
     "execution_count": 194,
     "metadata": {},
     "output_type": "execute_result"
    },
    {
     "data": {
      "text/plain": [
       "KMeans(algorithm='auto', copy_x=True, init='k-means++', max_iter=300,\n",
       "    n_clusters=7, n_init=10, n_jobs=1, precompute_distances='auto',\n",
       "    random_state=None, tol=0.0001, verbose=0)"
      ]
     },
     "execution_count": 194,
     "metadata": {},
     "output_type": "execute_result"
    },
    {
     "data": {
      "text/plain": [
       "KMeans(algorithm='auto', copy_x=True, init='k-means++', max_iter=300,\n",
       "    n_clusters=8, n_init=10, n_jobs=1, precompute_distances='auto',\n",
       "    random_state=None, tol=0.0001, verbose=0)"
      ]
     },
     "execution_count": 194,
     "metadata": {},
     "output_type": "execute_result"
    },
    {
     "data": {
      "text/plain": [
       "KMeans(algorithm='auto', copy_x=True, init='k-means++', max_iter=300,\n",
       "    n_clusters=9, n_init=10, n_jobs=1, precompute_distances='auto',\n",
       "    random_state=None, tol=0.0001, verbose=0)"
      ]
     },
     "execution_count": 194,
     "metadata": {},
     "output_type": "execute_result"
    },
    {
     "data": {
      "text/html": [
       "<div>\n",
       "<style scoped>\n",
       "    .dataframe tbody tr th:only-of-type {\n",
       "        vertical-align: middle;\n",
       "    }\n",
       "\n",
       "    .dataframe tbody tr th {\n",
       "        vertical-align: top;\n",
       "    }\n",
       "\n",
       "    .dataframe thead th {\n",
       "        text-align: right;\n",
       "    }\n",
       "</style>\n",
       "<table border=\"1\" class=\"dataframe\">\n",
       "  <thead>\n",
       "    <tr style=\"text-align: right;\">\n",
       "      <th></th>\n",
       "      <th>Cluster_number</th>\n",
       "      <th>Error_Terms</th>\n",
       "    </tr>\n",
       "  </thead>\n",
       "  <tbody>\n",
       "    <tr>\n",
       "      <th>0</th>\n",
       "      <td>2</td>\n",
       "      <td>5.294016</td>\n",
       "    </tr>\n",
       "    <tr>\n",
       "      <th>1</th>\n",
       "      <td>3</td>\n",
       "      <td>4.422751</td>\n",
       "    </tr>\n",
       "    <tr>\n",
       "      <th>2</th>\n",
       "      <td>4</td>\n",
       "      <td>3.813916</td>\n",
       "    </tr>\n",
       "    <tr>\n",
       "      <th>3</th>\n",
       "      <td>5</td>\n",
       "      <td>3.535588</td>\n",
       "    </tr>\n",
       "    <tr>\n",
       "      <th>4</th>\n",
       "      <td>6</td>\n",
       "      <td>3.251293</td>\n",
       "    </tr>\n",
       "    <tr>\n",
       "      <th>5</th>\n",
       "      <td>7</td>\n",
       "      <td>3.032604</td>\n",
       "    </tr>\n",
       "    <tr>\n",
       "      <th>6</th>\n",
       "      <td>8</td>\n",
       "      <td>2.868444</td>\n",
       "    </tr>\n",
       "    <tr>\n",
       "      <th>7</th>\n",
       "      <td>9</td>\n",
       "      <td>2.718697</td>\n",
       "    </tr>\n",
       "  </tbody>\n",
       "</table>\n",
       "</div>"
      ],
      "text/plain": [
       "   Cluster_number  Error_Terms\n",
       "0               2     5.294016\n",
       "1               3     4.422751\n",
       "2               4     3.813916\n",
       "3               5     3.535588\n",
       "4               6     3.251293\n",
       "5               7     3.032604\n",
       "6               8     2.868444\n",
       "7               9     2.718697"
      ]
     },
     "execution_count": 194,
     "metadata": {},
     "output_type": "execute_result"
    }
   ],
   "source": [
    "#build clusters\n",
    "from sklearn.cluster import KMeans\n",
    "num_of_clusters = range(2,10)\n",
    "error = []\n",
    "\n",
    "for num_clusters in num_of_clusters:\n",
    "    clusters = KMeans(num_clusters)\n",
    "    clusters.fit(df_scId)\n",
    "    error.append(clusters.inertia_/100)\n",
    "\n",
    "df = pd.DataFrame({\"Cluster_number\": num_of_clusters, \"Error_Terms\": error})\n",
    "df"
   ]
  },
  {
   "cell_type": "code",
   "execution_count": 195,
   "metadata": {},
   "outputs": [
    {
     "data": {
      "image/png": "[encoded data removed]",
      "text/plain": [
       "<Figure size 1080x720 with 1 Axes>"
      ]
     },
     "metadata": {
      "needs_background": "light"
     },
     "output_type": "display_data"
    }
   ],
   "source": [
    "#find out right number of clusters\n",
    "import matplotlib.pyplot as plt\n",
    "plt.figure(figsize=(15,10))\n",
    "plt.plot(df.Cluster_number, df.Error_Terms, marker = \"D\", color=\"red\")\n",
    "plt.xlabel(\"Number of clusters\")\n",
    "plt.ylabel(\"SSE\")\n",
    "plt.title(\"Find the optimal number of clusters\")\n",
    "plt.show();"
   ]
  },
  {
   "cell_type": "code",
   "execution_count": 196,
   "metadata": {},
   "outputs": [
    {
     "data": {
      "text/plain": [
       "KMeans(algorithm='auto', copy_x=True, init='k-means++', max_iter=300,\n",
       "    n_clusters=4, n_init=10, n_jobs=1, precompute_distances='auto',\n",
       "    random_state=None, tol=0.0001, verbose=0)"
      ]
     },
     "execution_count": 196,
     "metadata": {},
     "output_type": "execute_result"
    },
    {
     "data": {
      "text/plain": [
       "array([1, 1, 3, 2, 1, 1, 1, 1, 1, 1, 1, 2, 3, 1, 1, 2, 1, 2, 1, 1, 1, 2,\n",
       "       1, 3, 1, 2, 1, 1, 3, 3, 2, 3, 1, 1, 2, 2, 1, 3, 1, 1, 2, 2, 1, 1,\n",
       "       2, 2, 1, 1, 2, 2, 1, 1, 3, 1, 2, 3, 2, 3, 2, 1, 1, 1, 1, 1, 1, 1,\n",
       "       2, 2, 1, 2, 1, 2, 2, 3, 1, 3, 2, 1, 1, 2, 1, 1, 3, 2, 1, 1, 1, 1,\n",
       "       2, 1, 2, 2, 1, 1, 1, 1, 2, 1, 1, 1, 1, 2, 1, 2, 3, 1, 2, 2, 1, 1,\n",
       "       1, 2, 2, 3, 2, 2, 1, 1, 1, 1, 1, 1, 2, 1, 1, 1, 1, 2, 2, 2, 2, 1,\n",
       "       1, 2, 1, 1, 1, 1, 1, 1, 2, 1, 2, 1, 1, 1, 2, 1, 1, 1, 1, 1, 1, 1,\n",
       "       2, 1, 1, 1, 1, 1, 1, 1, 1, 1, 1, 1, 1, 1, 2, 2, 1, 1, 1, 1, 2, 1,\n",
       "       1, 1, 3, 2, 1, 2, 1, 2, 2, 1, 3, 3, 3, 1, 1, 1, 1, 2, 2, 1, 1, 1,\n",
       "       2, 1, 3, 1, 1, 1, 1, 2, 1, 1, 1, 2, 1, 1, 1, 2, 1, 1, 1, 2, 1, 1,\n",
       "       3, 1, 3, 3, 2, 1, 1, 1, 1, 2, 2, 2, 1, 3, 1, 1, 3, 3, 1, 3, 3, 1,\n",
       "       2, 2, 2, 1, 3, 1, 3, 1, 1, 1, 1, 2, 2, 2, 1, 2, 1, 1, 1, 2, 2, 2,\n",
       "       1, 1, 1, 2, 1, 1, 1, 2, 1, 2, 2, 2, 2, 2, 3, 2, 1, 2, 2, 1, 2, 2,\n",
       "       3, 3, 2, 2, 2, 2, 3, 1, 2, 2, 1, 2, 2, 1, 2, 1, 1, 1, 1, 2, 1, 2,\n",
       "       2, 2, 1, 1, 1, 1, 1, 1, 1, 1, 2, 1, 2, 2, 1, 2, 1, 1, 3, 1, 1, 2,\n",
       "       1, 2, 2, 2, 1, 2, 1, 3, 3, 3, 3, 1, 2, 3, 1, 1, 2, 1, 1, 1, 2, 2,\n",
       "       1, 3, 2, 2, 1, 1, 1, 2, 1, 1, 1, 1, 2, 1, 1, 1, 2, 2, 2, 2, 3, 1,\n",
       "       1, 2, 2, 1, 2, 1, 2, 1, 2, 1, 1, 1, 1, 1, 1, 1, 2, 1, 1, 1, 2, 2,\n",
       "       1, 1, 2, 1, 3, 3, 1, 2, 1, 1, 1, 2, 2, 1, 2, 2, 1, 1, 1, 1, 2, 1,\n",
       "       2, 1, 1, 2, 1, 1, 1, 1, 2, 1, 1, 1, 1, 1, 1, 1, 1, 1, 2, 1, 1, 1,\n",
       "       1, 1, 2, 2, 1, 1, 1, 1, 1, 3, 1, 1, 1, 1, 1, 1, 1, 1, 2, 1, 1, 1,\n",
       "       1, 1, 2, 2, 1, 1, 1, 1, 1, 1, 1, 1, 1, 1, 2, 1, 2, 2, 1, 1, 1, 1,\n",
       "       1, 1, 1, 1, 1, 1, 2, 1, 2, 1, 1, 2, 1, 2, 1, 2, 3, 2, 2, 2, 1, 1,\n",
       "       1, 2, 2, 3, 1, 1, 2, 2, 1, 2, 1, 1, 1, 3, 2, 2, 2, 0, 0, 0, 0, 2,\n",
       "       0, 0, 0, 0, 0, 3, 0, 0, 0, 2, 2, 0, 2, 0, 0, 0, 3, 0, 0, 2, 0, 0,\n",
       "       0, 0, 0, 0, 0, 2, 2, 0, 0, 0, 0, 0, 0, 2, 0, 0, 0, 0, 3, 0, 0, 0,\n",
       "       0, 0, 0, 0, 0, 3, 0, 0, 0, 0, 3, 0, 0, 2, 2, 0, 3, 0, 0, 3, 3, 0,\n",
       "       0, 0, 0, 0, 0, 0, 0, 0, 0, 0, 0, 0, 0, 0, 0, 0, 0, 0, 0, 0, 0, 0,\n",
       "       0, 0, 0, 0, 0, 0, 0, 0, 0, 0, 0, 0, 0, 2, 0, 0, 0, 0, 0, 0, 0, 0,\n",
       "       0, 0, 0, 0, 0, 0, 2, 0, 0, 0, 0, 3, 3, 3, 0, 0, 0, 2, 0, 0, 0, 0,\n",
       "       3, 2, 0, 0, 0, 0, 0, 0, 0, 0, 0, 0, 0, 2, 0, 0, 0, 0, 0, 0, 0, 0,\n",
       "       2, 2, 0, 0, 0, 0, 2, 2, 0, 3, 3, 0, 0, 0, 0, 0, 0, 0, 0, 0, 3, 3,\n",
       "       3, 0, 0, 0, 0, 0, 0, 3, 3, 0, 0, 0, 3, 0, 0, 0, 0, 0, 0, 0, 2, 0,\n",
       "       2, 3, 0, 0, 0, 0, 0, 0, 0, 3, 0, 0, 0, 0, 0, 0, 0, 0, 0, 0, 0, 0,\n",
       "       3, 0, 3, 3, 3, 2, 0, 3, 3, 3, 3, 0, 3, 0, 0, 0, 0, 3, 0, 0, 0, 2,\n",
       "       0, 3, 3, 0, 0, 3, 3, 3, 2, 0, 0, 2, 0, 0, 0, 0, 0, 0, 0, 0, 0, 0,\n",
       "       0, 0, 3, 0])"
      ]
     },
     "execution_count": 196,
     "metadata": {},
     "output_type": "execute_result"
    }
   ],
   "source": [
    "#build with 4 clusters\n",
    "clusters = KMeans(4)\n",
    "clusters.fit(df_scId)\n",
    "clusters.labels_"
   ]
  },
  {
   "cell_type": "code",
   "execution_count": 197,
   "metadata": {},
   "outputs": [
    {
     "data": {
      "text/html": [
       "<div>\n",
       "<style scoped>\n",
       "    .dataframe tbody tr th:only-of-type {\n",
       "        vertical-align: middle;\n",
       "    }\n",
       "\n",
       "    .dataframe tbody tr th {\n",
       "        vertical-align: top;\n",
       "    }\n",
       "\n",
       "    .dataframe thead th {\n",
       "        text-align: right;\n",
       "    }\n",
       "</style>\n",
       "<table border=\"1\" class=\"dataframe\">\n",
       "  <thead>\n",
       "    <tr style=\"text-align: right;\">\n",
       "      <th></th>\n",
       "      <th>Priority</th>\n",
       "      <th>Severity</th>\n",
       "      <th>Found In</th>\n",
       "      <th>BUC</th>\n",
       "      <th>Detection Phase</th>\n",
       "      <th>Resolution</th>\n",
       "      <th>Root Cause Analysis</th>\n",
       "      <th>Technology</th>\n",
       "      <th>DefectCreationMonth</th>\n",
       "      <th>DefectAgeInWeeks</th>\n",
       "      <th>cluster</th>\n",
       "    </tr>\n",
       "  </thead>\n",
       "  <tbody>\n",
       "    <tr>\n",
       "      <th>28</th>\n",
       "      <td>1</td>\n",
       "      <td>3</td>\n",
       "      <td>7</td>\n",
       "      <td>2</td>\n",
       "      <td>1</td>\n",
       "      <td>1</td>\n",
       "      <td>6</td>\n",
       "      <td>6</td>\n",
       "      <td>4</td>\n",
       "      <td>0</td>\n",
       "      <td>1</td>\n",
       "    </tr>\n",
       "    <tr>\n",
       "      <th>29</th>\n",
       "      <td>1</td>\n",
       "      <td>3</td>\n",
       "      <td>5</td>\n",
       "      <td>46</td>\n",
       "      <td>1</td>\n",
       "      <td>1</td>\n",
       "      <td>3</td>\n",
       "      <td>6</td>\n",
       "      <td>4</td>\n",
       "      <td>0</td>\n",
       "      <td>1</td>\n",
       "    </tr>\n",
       "    <tr>\n",
       "      <th>37</th>\n",
       "      <td>0</td>\n",
       "      <td>2</td>\n",
       "      <td>2</td>\n",
       "      <td>2</td>\n",
       "      <td>9</td>\n",
       "      <td>1</td>\n",
       "      <td>6</td>\n",
       "      <td>2</td>\n",
       "      <td>4</td>\n",
       "      <td>0</td>\n",
       "      <td>3</td>\n",
       "    </tr>\n",
       "    <tr>\n",
       "      <th>41</th>\n",
       "      <td>0</td>\n",
       "      <td>2</td>\n",
       "      <td>7</td>\n",
       "      <td>33</td>\n",
       "      <td>1</td>\n",
       "      <td>1</td>\n",
       "      <td>0</td>\n",
       "      <td>11</td>\n",
       "      <td>4</td>\n",
       "      <td>0</td>\n",
       "      <td>2</td>\n",
       "    </tr>\n",
       "    <tr>\n",
       "      <th>42</th>\n",
       "      <td>1</td>\n",
       "      <td>3</td>\n",
       "      <td>6</td>\n",
       "      <td>29</td>\n",
       "      <td>1</td>\n",
       "      <td>1</td>\n",
       "      <td>6</td>\n",
       "      <td>6</td>\n",
       "      <td>4</td>\n",
       "      <td>0</td>\n",
       "      <td>1</td>\n",
       "    </tr>\n",
       "  </tbody>\n",
       "</table>\n",
       "</div>"
      ],
      "text/plain": [
       "    Priority  Severity  Found In  BUC  Detection Phase  Resolution  \\\n",
       "28         1         3         7    2                1           1   \n",
       "29         1         3         5   46                1           1   \n",
       "37         0         2         2    2                9           1   \n",
       "41         0         2         7   33                1           1   \n",
       "42         1         3         6   29                1           1   \n",
       "\n",
       "    Root Cause Analysis  Technology  DefectCreationMonth  DefectAgeInWeeks  \\\n",
       "28                    6           6                    4                 0   \n",
       "29                    3           6                    4                 0   \n",
       "37                    6           2                    4                 0   \n",
       "41                    0          11                    4                 0   \n",
       "42                    6           6                    4                 0   \n",
       "\n",
       "    cluster  \n",
       "28        1  \n",
       "29        1  \n",
       "37        3  \n",
       "41        2  \n",
       "42        1  "
      ]
     },
     "execution_count": 197,
     "metadata": {},
     "output_type": "execute_result"
    }
   ],
   "source": [
    "df_tcrm_model['cluster'] = clusters.labels_\n",
    "df_tcrm_model.head()"
   ]
  },
  {
   "cell_type": "code",
   "execution_count": 198,
   "metadata": {},
   "outputs": [],
   "source": [
    "df_tcrm_model.to_csv(\"C:\\\\DataSets\\\\Ericsson\\\\Defects\\\\amx_peru_defects_clusteringmodel.csv\")"
   ]
  },
  {
   "cell_type": "code",
   "execution_count": null,
   "metadata": {},
   "outputs": [],
   "source": []
  }
 ],
 "metadata": {
  "kernelspec": {
   "display_name": "Python 3",
   "language": "python",
   "name": "python3"
  },
  "language_info": {
   "codemirror_mode": {
    "name": "ipython",
    "version": 3
   },
   "file_extension": ".py",
   "mimetype": "text/x-python",
   "name": "python",
   "nbconvert_exporter": "python",
   "pygments_lexer": "ipython3",
   "version": "3.6.8"
  }
 },
 "nbformat": 4,
 "nbformat_minor": 2
}
